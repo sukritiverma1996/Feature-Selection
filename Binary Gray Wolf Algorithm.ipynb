{
 "cells": [
  {
   "cell_type": "code",
   "execution_count": 23,
   "metadata": {},
   "outputs": [],
   "source": [
    "import sys\n",
    "import numpy as np\n",
    "from random import randint\n",
    "import random\n",
    "import math\n",
    "from collections import defaultdict\n",
    "from sklearn.feature_extraction.text import TfidfVectorizer\n",
    "from sklearn import svm\n",
    "import operator\n",
    "import sklearn.metrics\n",
    "from sklearn.ensemble import RandomForestClassifier\n",
    "from sklearn.neighbors import KNeighborsClassifier as KNN\n",
    "from sklearn.naive_bayes import GaussianNB as GNB\n",
    "from pandas import DataFrame, read_csv\n",
    "import matplotlib.pyplot as plt\n",
    "import pandas as pd \n",
    "import numpy as np\n",
    "from sklearn.metrics import accuracy_score\n",
    "from sklearn.svm import LinearSVC\n",
    "from sklearn.model_selection import train_test_split\n",
    "from sklearn.preprocessing import StandardScaler\n",
    "from nltk.stem import PorterStemmer\n",
    "from nltk.stem import WordNetLemmatizer "
   ]
  },
  {
   "cell_type": "markdown",
   "metadata": {},
   "source": [
    "### Loading Data from training.csv and creating z1 , z2 which are X_training and X_test respectively."
   ]
  },
  {
   "cell_type": "code",
   "execution_count": 2,
   "metadata": {},
   "outputs": [],
   "source": [
    "import re\n",
    "def pre_process(text):\n",
    "    \n",
    "    # lowercase\n",
    "    text=text.lower()\n",
    "    \n",
    "    #remove tags\n",
    "    text=re.sub(\"&lt;/?.*?&gt;\",\" &lt;&gt; \",text)\n",
    "    \n",
    "    # remove special characters and digits\n",
    "    text=re.sub(\"(\\\\d|\\\\W)+\",\" \",text)\n",
    "    \n",
    "    return text"
   ]
  },
  {
   "cell_type": "code",
   "execution_count": 24,
   "metadata": {},
   "outputs": [],
   "source": [
    "file = r'/Users/shikhgar/Downloads/trainingandtestdata/training.csv'\n",
    "df = pd.read_csv(file,encoding = \"ISO-8859-1\",names = [\"sentiment\", \"a\", \"b\", \"c\" ,\"d\",\"tweet\"])\n",
    "data = df.iloc[:,[0,5]]\n",
    "temp = list(data[\"tweet\"])\n",
    "porter = PorterStemmer()\n",
    "lemmatizer = WordNetLemmatizer() \n",
    "corpus2 = temp[0:20000] + temp[-20000:]\n",
    "corpus = []\n",
    "for tweet in corpus2:\n",
    "    corpus.append(lemmatizer.lemmatize((pre_process(tweet))))\n",
    "target = np.zeros((40000,1))\n",
    "target[20000:,0] = 1"
   ]
  },
  {
   "cell_type": "code",
   "execution_count": 25,
   "metadata": {},
   "outputs": [
    {
     "name": "stdout",
     "output_type": "stream",
     "text": [
      "@switchfoot http://twitpic.com/2y1zl - Awww, that's a bummer.  You shoulda got David Carr of Third Day to do it. ;D\n",
      " switchfoot http twitpic com y zl awww that s a bummer you shoulda got david carr of third day to do it d\n"
     ]
    }
   ],
   "source": [
    "print(temp[0])\n",
    "print(temp2[0])"
   ]
  },
  {
   "cell_type": "code",
   "execution_count": 26,
   "metadata": {},
   "outputs": [],
   "source": [
    "stop_words = ['in', 'of', 'at', 'a', 'the']\n",
    "vectorizer = TfidfVectorizer(ngram_range=(1, 3), stop_words='english')\n",
    "X = vectorizer.fit_transform(corpus)"
   ]
  },
  {
   "cell_type": "code",
   "execution_count": 27,
   "metadata": {},
   "outputs": [],
   "source": [
    "X_tr, X_te, Y_train, Y_test = train_test_split(\n",
    "    X, target, train_size = 0.75\n",
    ")"
   ]
  },
  {
   "cell_type": "code",
   "execution_count": 28,
   "metadata": {},
   "outputs": [
    {
     "name": "stdout",
     "output_type": "stream",
     "text": [
      "(30000, 432638) (10000, 432638)\n"
     ]
    }
   ],
   "source": [
    "z1 = (X_tr)\n",
    "z2 = (X_te)\n",
    "print(z1.shape, z2.shape)\n",
    "n = z1.shape[1]"
   ]
  },
  {
   "cell_type": "code",
   "execution_count": 29,
   "metadata": {},
   "outputs": [],
   "source": [
    "def extract_subset(z,cols):\n",
    "    return z[:,cols]"
   ]
  },
  {
   "cell_type": "code",
   "execution_count": 30,
   "metadata": {},
   "outputs": [],
   "source": [
    "def svm_calc_fitness(x):\n",
    "    SzW = 0.01\n",
    "    for i in range(0,len(x)):\n",
    "        x[i] = x[i] > 0.5\n",
    "    cols = []\n",
    "    for j in range(0, n):\n",
    "        if x[j] == 1:\n",
    "            cols.append(j)\n",
    "    z1_prime = extract_subset(z1, cols)\n",
    "    z2_prime = extract_subset(z2, cols)\n",
    "    clf = svm.LinearSVC(C=0.1)\n",
    "    clf.fit(z1_prime, Y_train)\n",
    "    y_pred = clf.predict(z2_prime)\n",
    "    acc = sklearn.metrics.accuracy_score(Y_test,y_pred)\n",
    "    pre = sklearn.metrics.precision_score(Y_test, y_pred)\n",
    "    fscore = sklearn.metrics.f1_score(Y_test, y_pred)\n",
    "    recall = sklearn.metrics.recall_score(Y_test, y_pred)\n",
    "    return ((1 - SzW) * (1 - acc)) + (SzW * (sum(x) / (len(x) - 1))),pre,fscore,recall"
   ]
  },
  {
   "cell_type": "code",
   "execution_count": 31,
   "metadata": {},
   "outputs": [],
   "source": [
    "def rf_calc_fitness(x):\n",
    "    SzW = 0.01\n",
    "    for i in range(0,len(x)):\n",
    "        x[i] = x[i] > 0.5\n",
    "    cols = []\n",
    "    for j in range(0, n):\n",
    "        if x[j] == 1:\n",
    "            cols.append(j)\n",
    "    z1_prime = extract_subset(z1, cols)\n",
    "    z2_prime = extract_subset(z2, cols)\n",
    "    clf = RandomForestClassifier(n_jobs=2,random_state=0)\n",
    "    clf.fit(z1_prime, Y_train)\n",
    "    y_pred = clf.predict(z2_prime)\n",
    "    acc = sklearn.metrics.accuracy_score(Y_test,y_pred)\n",
    "    pre = sklearn.metrics.precision_score(Y_test, y_pred)\n",
    "    fscore = sklearn.metrics.f1_score(Y_test, y_pred)\n",
    "    recall = sklearn.metrics.recall_score(Y_test, y_pred)\n",
    "    return ((1 - SzW) * (1 - acc)) + (SzW * (sum(x) / (len(x) - 1))),pre,fscore,recall"
   ]
  },
  {
   "cell_type": "code",
   "execution_count": 32,
   "metadata": {},
   "outputs": [],
   "source": [
    "def knn_calc_fitness(x):\n",
    "    SzW = 0.01\n",
    "    for i in range(0,len(x)):\n",
    "        x[i] = x[i] > 0.5\n",
    "    cols = []\n",
    "    for j in range(0, n):\n",
    "        if x[j] == 1:\n",
    "            cols.append(j)\n",
    "    z1_prime = extract_subset(z1, cols)\n",
    "    z2_prime = extract_subset(z2, cols)\n",
    "    clf = KNN()\n",
    "    clf.fit(z1_prime, Y_train)\n",
    "    y_pred = clf.predict(z2_prime)\n",
    "    acc = sklearn.metrics.accuracy_score(Y_test,y_pred)\n",
    "    pre = sklearn.metrics.precision_score(Y_test,y_pred)\n",
    "    fscore = sklearn.metrics.f1_score(Y_test,y_pred)\n",
    "    recall = sklearn.metrics.recall_score(Y_test,y_pred)\n",
    "    return ((1 - SzW) * (1 - acc)) + (SzW * (sum(x) / (len(x) - 1))),pre,fscore,recall"
   ]
  },
  {
   "cell_type": "code",
   "execution_count": 33,
   "metadata": {},
   "outputs": [],
   "source": [
    "def nb_calc_fitness(x):\n",
    "    SzW = 0.01\n",
    "    for i in range(0,len(x)):\n",
    "        x[i] = x[i] > 0.5\n",
    "    cols = []\n",
    "    for j in range(0, n):\n",
    "        if x[j] == 1:\n",
    "            cols.append(j)\n",
    "    z1_prime = extract_subset(z1, cols)\n",
    "    z2_prime = extract_subset(z2, cols)\n",
    "    clf = GNB()\n",
    "    clf.fit(z1_prime, Y_train)\n",
    "    y_pred = clf.predict(z2_prime)\n",
    "    acc = sklearn.metrics.accuracy_score(Y_test,y_pred)\n",
    "    pre = sklearn.metrics.precision_score(Y_test,y_pred)\n",
    "    fscore = sklearn.metrics.f1_score(Y_test,y_pred)\n",
    "    recall = sklearn.metrics.recall_score(Y_test,y_pred)\n",
    "    return ((1 - SzW) * (1 - acc)) + (SzW * (sum(x) / (len(x) - 1))),pre,fscore,recall"
   ]
  },
  {
   "cell_type": "code",
   "execution_count": 34,
   "metadata": {},
   "outputs": [],
   "source": [
    "def mlp_calc_fitness(x):\n",
    "    SzW = 0.01\n",
    "    for i in range(0,len(x)):\n",
    "        x[i] = x[i] > 0.5\n",
    "    cols = []\n",
    "    for j in range(0, n):\n",
    "        if x[j] == 1:\n",
    "            cols.append(j)\n",
    "    z1_prime = extract_subset(z1, cols)\n",
    "    z2_prime = extract_subset(z2, cols)\n",
    "    scaler = StandardScaler()\n",
    "    scaler.fit(z1_prime)\n",
    "    z1_prime = scaler.transform(z1_prime)\n",
    "    z2_prime = scaler.transform(z2_prime)\n",
    "    clf = MLPClassifier()\n",
    "    clf.fit(z1_prime, Y_train)\n",
    "    y_pred = clf.predict(z2_prime)\n",
    "    acc = sklearn.metrics.accuracy_score(Y_test,y_pred)\n",
    "    pre = sklearn.metrics.precision_score(Y_test,y_pred)\n",
    "    fscore = sklearn.metrics.f1_score(Y_test,y_pred)\n",
    "    recall = sklearn.metrics.recall_score(Y_test,y_pred)\n",
    "    return ((1 - SzW) * (1 - acc)) + (SzW * (sum(x) / (len(x) - 1))),pre,fscore,recall"
   ]
  },
  {
   "cell_type": "code",
   "execution_count": 35,
   "metadata": {},
   "outputs": [],
   "source": [
    "#m = population n = features\n",
    "def sigmoid (x,l):\n",
    "    return (1/(1+math.exp(-l[0]*(x-l[1]))))"
   ]
  },
  {
   "cell_type": "code",
   "execution_count": 36,
   "metadata": {},
   "outputs": [],
   "source": [
    "def CrossOver(x1,x2,x3):\n",
    "    r = random.uniform(0,1)\n",
    "    if r < 0.333:\n",
    "        return x1\n",
    "    elif r<0.6666:\n",
    "        return x2\n",
    "    else :\n",
    "        return x3"
   ]
  },
  {
   "cell_type": "code",
   "execution_count": 37,
   "metadata": {},
   "outputs": [],
   "source": [
    "def initialise(m,n):\n",
    "    pos = defaultdict(list)\n",
    "    for i in range(0,m):\n",
    "        for j in range(0,n):\n",
    "            pos[i].append(randint(0,1))\n",
    "    return pos"
   ]
  },
  {
   "cell_type": "code",
   "execution_count": 38,
   "metadata": {},
   "outputs": [],
   "source": [
    "def BGWO(m,T,n):\n",
    "\n",
    "    infinity = float(\"inf\")\n",
    "    AlphaScore = infinity\n",
    "    BetaScore = infinity\n",
    "    DeltaScore = infinity\n",
    "\n",
    "    AlphaPos = [0]*n\n",
    "    BetaPos = [0]*n\n",
    "    DeltaPos = [0]*n\n",
    "\n",
    "    Positions = initialise(m,n);\n",
    "\n",
    "    convergence_curve = [0] * T\n",
    "\n",
    "    for t in range(0,T):\n",
    "        print(t)\n",
    "        for i in range(0,m):\n",
    "            fitness,pre,fscore,recall = svm_calc_fitness(Positions[i])\n",
    "            if fitness < AlphaScore:\n",
    "                AlphaScore = fitness\n",
    "                AlphaPos = Positions[i]\n",
    "\n",
    "            if fitness > AlphaScore and fitness < BetaScore:\n",
    "                BetaScore = fitness\n",
    "                BetaPos = Positions[i]\n",
    "\n",
    "            if fitness > AlphaScore and fitness > BetaScore and fitness < DeltaScore:\n",
    "                DeltaScore = fitness\n",
    "                DeltaPos = Positions[i]\n",
    "\n",
    "            #with open(\"GWO_svm_kpi.txt\", \"a\") as text_file:\n",
    "                #text_file.write(\"{} {} {} {}\".format(fitness,pre,fscore,recall) + \"\\n\")\n",
    "\n",
    "            with open(\"GWO_svm.txt\", \"a\") as text_file:\n",
    "                text_file.write(\"{} {} {} {} {} {}\".format(t, fitness,sum (1 for i in Positions[i] if i > 0.5), 1-AlphaScore,1-BetaScore,1-DeltaScore)+\"\\n\")\n",
    "\n",
    "            #print(\"t={} fitness={} #features={} AlphaScore={} \".format(t, fitness,sum (1 for i in Positions[i] if i > 0.5), 1-AlphaScore))\n",
    "\n",
    "        a = 2 - t*((2)/T)\n",
    "        for i in range(0,m):\n",
    "            for j in range(0,n):\n",
    "\n",
    "                r1 = random.uniform(0,1)\n",
    "                r2 = random.uniform(0,1)\n",
    "                sigma = random.uniform(0,1)\n",
    "\n",
    "                A1 = 2 * a * r1 - a\n",
    "                C1 = 2 * r2\n",
    "\n",
    "                D_alpha = abs(C1*AlphaPos[j] - Positions[i][j])\n",
    "                v1 = sigmoid(-A1*D_alpha,[10,0.5])\n",
    "\n",
    "                if v1 < sigma:\n",
    "                    v1=0\n",
    "                else :\n",
    "                    v1 = 1\n",
    "                X1 = (AlphaPos[j]+v1)>=1\n",
    "\n",
    "                r1 = random.uniform(0, 1)\n",
    "                r2 = random.uniform(0, 1)\n",
    "                sigma = random.uniform(0, 1)\n",
    "\n",
    "                A2 = 2 * a * r1 - a\n",
    "                C2 = 2 * r2\n",
    "\n",
    "                D_beta = abs(C2 * BetaPos[j] - Positions[i][j])\n",
    "                v1 = sigmoid(-A2 * D_beta, [10, 0.5])\n",
    "\n",
    "                if v1 < sigma:\n",
    "                    v1 = 0\n",
    "                else:\n",
    "                    v1 = 1\n",
    "                X2 = (BetaPos[j] + v1) >= 1\n",
    "\n",
    "                r1 = random.uniform(0, 1)\n",
    "                r2 = random.uniform(0, 1)\n",
    "                sigma = random.uniform(0, 1)\n",
    "\n",
    "                A3 = 2 * a * r1 - a\n",
    "                C3 = 2 * r2\n",
    "\n",
    "                D_delta = abs(C3 * DeltaPos[j] - Positions[i][j])\n",
    "                v1 = sigmoid(-A3 * D_delta, [10, 0.5])\n",
    "\n",
    "                if v1 < sigma:\n",
    "                    v1 = 0\n",
    "                else:\n",
    "                    v1 = 1\n",
    "                X3 = (DeltaPos[j] + v1) >= 1\n",
    "\n",
    "                Positions[i][j] = CrossOver(X1,X2,X3)\n",
    "\n",
    "        convergence_curve[t]=AlphaScore\n",
    "\n",
    "    return convergence_curve,AlphaScore"
   ]
  },
  {
   "cell_type": "code",
   "execution_count": null,
   "metadata": {},
   "outputs": [
    {
     "name": "stdout",
     "output_type": "stream",
     "text": [
      "0\n"
     ]
    },
    {
     "name": "stderr",
     "output_type": "stream",
     "text": [
      "/usr/local/lib/python3.7/site-packages/sklearn/utils/validation.py:761: DataConversionWarning: A column-vector y was passed when a 1d array was expected. Please change the shape of y to (n_samples, ), for example using ravel().\n",
      "  y = column_or_1d(y, warn=True)\n"
     ]
    },
    {
     "name": "stdout",
     "output_type": "stream",
     "text": [
      "1\n",
      "2\n",
      "3\n",
      "4\n",
      "5\n",
      "6\n",
      "7\n",
      "8\n",
      "9\n",
      "10\n",
      "11\n",
      "12\n",
      "13\n",
      "14\n"
     ]
    }
   ],
   "source": [
    "ans,score = BGWO(70,50,n) #m,T,n   T =  Iterations(100) , n= features(dont change) m = agents (50-70)\n",
    "print(score)"
   ]
  },
  {
   "cell_type": "code",
   "execution_count": null,
   "metadata": {},
   "outputs": [],
   "source": []
  }
 ],
 "metadata": {
  "kernelspec": {
   "display_name": "Python 3",
   "language": "python",
   "name": "python3"
  },
  "language_info": {
   "codemirror_mode": {
    "name": "ipython",
    "version": 3
   },
   "file_extension": ".py",
   "mimetype": "text/x-python",
   "name": "python",
   "nbconvert_exporter": "python",
   "pygments_lexer": "ipython3",
   "version": "3.7.2"
  }
 },
 "nbformat": 4,
 "nbformat_minor": 2
}
