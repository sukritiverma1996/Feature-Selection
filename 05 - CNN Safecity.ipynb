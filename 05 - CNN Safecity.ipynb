{
 "cells": [
  {
   "cell_type": "code",
   "execution_count": 1,
   "metadata": {},
   "outputs": [],
   "source": [
    "ROOT = '../'"
   ]
  },
  {
   "cell_type": "code",
   "execution_count": 2,
   "metadata": {},
   "outputs": [],
   "source": [
    "EMBPATH = ROOT + 'data/embeddings/'"
   ]
  },
  {
   "cell_type": "markdown",
   "metadata": {},
   "source": [
    "### Binary - Commenting Dataset"
   ]
  },
  {
   "cell_type": "code",
   "execution_count": 3,
   "metadata": {},
   "outputs": [],
   "source": [
    "DPATH = ROOT + 'data/safecity/binary/commenting/'"
   ]
  },
  {
   "cell_type": "code",
   "execution_count": 4,
   "metadata": {},
   "outputs": [],
   "source": [
    "MPATH = ROOT + 'models/notebook5/commenting/'"
   ]
  },
  {
   "cell_type": "markdown",
   "metadata": {},
   "source": [
    "### Binary - Groping Dataset"
   ]
  },
  {
   "cell_type": "code",
   "execution_count": 3,
   "metadata": {},
   "outputs": [],
   "source": [
    "DPATH = ROOT + 'data/safecity/binary/groping/'"
   ]
  },
  {
   "cell_type": "code",
   "execution_count": 4,
   "metadata": {},
   "outputs": [],
   "source": [
    "MPATH = ROOT + 'models/notebook5/groping/'"
   ]
  },
  {
   "cell_type": "markdown",
   "metadata": {},
   "source": [
    "### Binary - Ogling Dataset"
   ]
  },
  {
   "cell_type": "code",
   "execution_count": 3,
   "metadata": {},
   "outputs": [],
   "source": [
    "DPATH = ROOT + 'data/safecity/binary/ogling/'"
   ]
  },
  {
   "cell_type": "code",
   "execution_count": 4,
   "metadata": {},
   "outputs": [],
   "source": [
    "MPATH = ROOT + 'models/notebook5/ogling/'"
   ]
  },
  {
   "cell_type": "markdown",
   "metadata": {},
   "source": [
    "### Text Classifier"
   ]
  },
  {
   "cell_type": "code",
   "execution_count": 6,
   "metadata": {},
   "outputs": [],
   "source": [
    "import torch\n",
    "from torch import nn, optim\n",
    "import torch.nn.functional as F\n",
    "from torch.autograd import Variable\n",
    "\n",
    "from torchtext import data, datasets, vocab\n",
    "\n",
    "from sklearn.metrics import confusion_matrix\n",
    "\n",
    "import random\n",
    "import sys\n",
    "import copy\n",
    "from glob import glob\n",
    "from tqdm import tqdm\n",
    "import numpy as np\n",
    "\n",
    "import matplotlib.pyplot as plt\n",
    "%matplotlib inline"
   ]
  },
  {
   "cell_type": "code",
   "execution_count": 7,
   "metadata": {},
   "outputs": [],
   "source": [
    "BATCH_SIZE = 128\n",
    "FILTER_SIZES = [3, 4, 5]"
   ]
  },
  {
   "cell_type": "code",
   "execution_count": 8,
   "metadata": {},
   "outputs": [
    {
     "data": {
      "text/plain": [
       "device(type='cuda', index=2)"
      ]
     },
     "execution_count": 8,
     "metadata": {},
     "output_type": "execute_result"
    }
   ],
   "source": [
    "device = torch.device(\"cuda:2\" if torch.cuda.is_available() else \"cpu\")\n",
    "device"
   ]
  },
  {
   "cell_type": "code",
   "execution_count": 9,
   "metadata": {},
   "outputs": [],
   "source": [
    "import re, string\n",
    "import spacy\n",
    "\n",
    "nlp = spacy.load('en_core_web_sm')\n",
    "punctuation = string.punctuation\n",
    "stopwords = spacy.lang.en.stop_words.STOP_WORDS\n",
    "\n",
    "def cleanup(text):\n",
    "    \"\"\"\n",
    "    Tokenization/text cleaning for all datasets except for SST.\n",
    "    Original taken from https://github.com/yoonkim/CNN_sentence/blob/master/process_data.py\n",
    "    \"\"\"\n",
    "    text = re.sub(r\"[^A-Za-z0-9(),!?\\'\\`]\", \" \", text)\n",
    "    text = re.sub(r\"\\'s\", \" \\'s\", text)\n",
    "    text = re.sub(r\"\\'ve\", \" \\'ve\", text)\n",
    "    text = re.sub(r\"n\\'t\", \" n\\'t\", text)\n",
    "    text = re.sub(r\"\\'re\", \" \\'re\", text)\n",
    "    text = re.sub(r\"\\'d\", \" \\'d\", text)\n",
    "    text = re.sub(r\"\\'ll\", \" \\'ll\", text)\n",
    "    text = re.sub(r\",\", \" , \", text)\n",
    "    text = re.sub(r\"!\", \" ! \", text)\n",
    "    text = re.sub(r\"\\(\", \" \\( \", text)\n",
    "    text = re.sub(r\"\\)\", \" \\) \", text)\n",
    "    text = re.sub(r\"\\?\", \" \\? \", text)\n",
    "    text = re.sub(r\"\\s{2,}\", \" \", text)\n",
    "    return text.strip()\n",
    "\n",
    "def tokenizer(sentence):\n",
    "    sentence = cleanup(sentence) # regex cleanup  \n",
    "    tokens = nlp(sentence, disable=['parser', 'tagger', 'ner']) # tokenizer\n",
    "    tokens = [tok.lemma_.lower().strip() for tok in tokens if tok.lemma_ != '-PRON-'] # lemmatizer\n",
    "    tokens = [tok for tok in tokens if tok not in stopwords and tok not in punctuation] # punctuation removal\n",
    "\n",
    "    if len(tokens) < FILTER_SIZES[-1]:\n",
    "        tokens += ['<pad>']*(FILTER_SIZES[-1] - len(tokens))\n",
    "        \n",
    "    return tokens"
   ]
  },
  {
   "cell_type": "code",
   "execution_count": 10,
   "metadata": {},
   "outputs": [],
   "source": [
    "text_field = data.Field(batch_first=True, lower=True, tokenize=tokenizer)\n",
    "label_field = data.LabelField(dtype=torch.float)"
   ]
  },
  {
   "cell_type": "code",
   "execution_count": 11,
   "metadata": {},
   "outputs": [
    {
     "name": "stdout",
     "output_type": "stream",
     "text": [
      "Trainset length: 7201\n",
      "Validset length: 990\n",
      "Testset length: 1701\n"
     ]
    }
   ],
   "source": [
    "fields = [('Description', text_field), ('Category', label_field)] # order must be same as cols of csv\n",
    "trainset, validset, testset = data.TabularDataset.splits(\n",
    "                                        path=DPATH,\n",
    "                                        train='train.csv',\n",
    "                                        validation='dev.csv',\n",
    "                                        test='test.csv',\n",
    "                                        format='csv',\n",
    "                                        fields=fields,\n",
    "                                        skip_header=True)\n",
    "\n",
    "print(f'Trainset length: {len(trainset)}')\n",
    "print(f'Validset length: {len(validset)}')\n",
    "print(f'Testset length: {len(testset)}')"
   ]
  },
  {
   "cell_type": "code",
   "execution_count": 12,
   "metadata": {
    "scrolled": true
   },
   "outputs": [],
   "source": [
    "vecs = vocab.Vectors('glove.6B.300d.txt', EMBPATH)\n",
    "\n",
    "text_field.build_vocab(trainset, validset, testset, vectors=vecs) \n",
    "label_field.build_vocab(trainset, validset, testset)"
   ]
  },
  {
   "cell_type": "code",
   "execution_count": 13,
   "metadata": {},
   "outputs": [
    {
     "name": "stdout",
     "output_type": "stream",
     "text": [
      "Train DL length: 57\n",
      "Valid DL length: 8\n",
      "Test DL length: 14\n"
     ]
    }
   ],
   "source": [
    "trainloader, validloader, testloader = data.BucketIterator.splits(\n",
    "                                  (trainset, validset, testset), \n",
    "                                  batch_sizes=[BATCH_SIZE]*3,\n",
    "                                  sort_key=lambda x: len(x.Description),\n",
    "                                  sort_within_batch=True, \n",
    "                                  shuffle=True, \n",
    "                                  repeat=False,\n",
    "                                  device=device)\n",
    "\n",
    "print(f\"Train DL length: {len(trainloader)}\")\n",
    "print(f\"Valid DL length: {len(validloader)}\")\n",
    "print(f\"Test DL length: {len(testloader)}\")"
   ]
  },
  {
   "cell_type": "code",
   "execution_count": 14,
   "metadata": {},
   "outputs": [
    {
     "name": "stdout",
     "output_type": "stream",
     "text": [
      "Number of tokens: 8103\n",
      "Number of classes: 2\n"
     ]
    }
   ],
   "source": [
    "n_tokens = len(text_field.vocab)\n",
    "n_classes = len(label_field.vocab)\n",
    "\n",
    "print(f\"Number of tokens: {n_tokens}\")\n",
    "print(f\"Number of classes: {n_classes}\")"
   ]
  },
  {
   "cell_type": "code",
   "execution_count": 15,
   "metadata": {},
   "outputs": [],
   "source": [
    "class CNN(nn.Module):\n",
    "    def __init__(self, vocab_size, embed_dim, n_filters, \n",
    "                 filter_sizes, output_dim, padding_idx, dropout=0.4):\n",
    "        super().__init__()\n",
    "        \n",
    "        # encoder\n",
    "        self.embedding = nn.Embedding(vocab_size, \n",
    "                                      embed_dim).from_pretrained(\n",
    "                                        text_field.vocab.vectors, # freeze=True by default\n",
    "                                        padding_idx=padding_idx)\n",
    "        \n",
    "        # concatenated convolutions\n",
    "        self.convs = nn.ModuleList([\n",
    "                                    nn.Conv1d(in_channels=embed_dim, \n",
    "                                              out_channels=n_filters,\n",
    "                                              kernel_size=fs)\n",
    "                                    for fs in filter_sizes\n",
    "                                    ])\n",
    "        \n",
    "        # linear layer\n",
    "        self.fc = nn.Linear(n_filters*len(filter_sizes), output_dim)\n",
    "        \n",
    "        # dropout\n",
    "        self.dropout = nn.Dropout(dropout)\n",
    "\n",
    "    def forward(self, x):\n",
    "        # input x has shape (B, S) which is batch of sentences (sentence is list of word indices)\n",
    "        x = self.embedding(x)\n",
    "        x = self.dropout(x)\n",
    "        # encoded input x has shape (B, S, E)\n",
    "        \n",
    "        x = x.permute(0, 2, 1)\n",
    "        # x has shape (B, E, S)\n",
    "        \n",
    "        # conved\n",
    "        conved = [F.relu(conv(x)) for conv in self.convs]\n",
    "        # gives list of shapes (B, N, S - F_i + 1), where N is no of filters, F_i is ith filter size\n",
    "        \n",
    "        # pooled\n",
    "        pooled = [F.max_pool1d(conv, conv.shape[2]).squeeze(2) for conv in conved]\n",
    "        # gives list of shapes (B, N)\n",
    "        \n",
    "        out = torch.cat(pooled, dim=1)\n",
    "        # shape (B, N*|F|), where |F| is the no of different filter sizes\n",
    "        \n",
    "        out = self.fc(self.dropout(out))\n",
    "        # shape (B, 1)\n",
    "        \n",
    "        return out.squeeze(1) # out.shape = (B)"
   ]
  },
  {
   "cell_type": "code",
   "execution_count": 16,
   "metadata": {},
   "outputs": [
    {
     "data": {
      "text/plain": [
       "(8103, 300, 1)"
      ]
     },
     "execution_count": 16,
     "metadata": {},
     "output_type": "execute_result"
    }
   ],
   "source": [
    "n_tokens, embed_dim = text_field.vocab.vectors.shape\n",
    "pidx = text_field.vocab.stoi['<pad>']\n",
    "(n_tokens, embed_dim, pidx)"
   ]
  },
  {
   "cell_type": "code",
   "execution_count": 17,
   "metadata": {},
   "outputs": [
    {
     "data": {
      "text/plain": [
       "CNN(\n",
       "  (embedding): Embedding(8103, 300, padding_idx=1)\n",
       "  (convs): ModuleList(\n",
       "    (0): Conv1d(300, 192, kernel_size=(3,), stride=(1,))\n",
       "    (1): Conv1d(300, 192, kernel_size=(4,), stride=(1,))\n",
       "    (2): Conv1d(300, 192, kernel_size=(5,), stride=(1,))\n",
       "  )\n",
       "  (fc): Linear(in_features=576, out_features=1, bias=True)\n",
       "  (dropout): Dropout(p=0.5)\n",
       ")"
      ]
     },
     "execution_count": 17,
     "metadata": {},
     "output_type": "execute_result"
    }
   ],
   "source": [
    "kw = {\n",
    "    'vocab_size': n_tokens,\n",
    "    'embed_dim': embed_dim,\n",
    "    'n_filters': 192,\n",
    "    'filter_sizes': FILTER_SIZES,\n",
    "    'output_dim': 1,\n",
    "    'padding_idx': pidx,\n",
    "    'dropout': 0.5\n",
    "}\n",
    "model = CNN(**kw)\n",
    "\n",
    "model.to(device)"
   ]
  },
  {
   "cell_type": "code",
   "execution_count": 17,
   "metadata": {},
   "outputs": [],
   "source": [
    "criterion = nn.BCEWithLogitsLoss()\n",
    "optimizer = optim.RMSprop(model.parameters(), lr=1e-4, eps=1e-4, alpha=0.95, momentum=0.9, centered=True)\n",
    "\n",
    "def accuracy(fx, y):\n",
    "    ps = torch.sigmoid(fx)\n",
    "    preds = torch.round(ps)\n",
    "    return confusion_matrix(y.cpu().detach().view(-1), preds.cpu().detach().view(-1))"
   ]
  },
  {
   "cell_type": "code",
   "execution_count": 18,
   "metadata": {},
   "outputs": [],
   "source": [
    "def train(model, iterator, criterion, optimizer, others=False):\n",
    "    model.train()\n",
    "    epoch_loss, epoch_acc = 0, 0\n",
    "\n",
    "    for batch in iterator:\n",
    "        x, y = batch.Description.to(device), batch.Category.to(device)\n",
    "                \n",
    "        fx = model(x)        \n",
    "        loss = criterion(fx, y)\n",
    "        optimizer.zero_grad()\n",
    "        loss.backward()\n",
    "        optimizer.step()\n",
    "        \n",
    "        epoch_acc += accuracy(fx, y)\n",
    "        epoch_loss += loss.item()\n",
    "    \n",
    "    epoch_loss /= len(iterator)\n",
    "    \n",
    "    tn, fp, fn, tp = epoch_acc.ravel()\n",
    "    acc = (tp + tn)/(tp + tn + fp + fn)\n",
    "    if others is False:\n",
    "        return epoch_loss, acc\n",
    "\n",
    "    prec = tp/(tp + fp)\n",
    "    rec = tp/(tp + fn)\n",
    "    f1 = 2*tp/(2*tp + fp + fn)\n",
    "    return epoch_loss, acc, prec, rec, f1 "
   ]
  },
  {
   "cell_type": "code",
   "execution_count": 19,
   "metadata": {},
   "outputs": [],
   "source": [
    "def evaluate(model, iterator, criterion, others=False):\n",
    "    model.eval()\n",
    "    epoch_loss, epoch_acc = 0, 0\n",
    "    \n",
    "    with torch.no_grad():\n",
    "        for batch in iterator:\n",
    "            x, y = batch.Description.to(device), batch.Category.to(device)\n",
    "            \n",
    "            fx = model(x)\n",
    "            loss = criterion(fx, y)\n",
    "            \n",
    "            epoch_acc += accuracy(fx, y)\n",
    "            epoch_loss += loss.item()\n",
    "\n",
    "    epoch_loss /= len(iterator)\n",
    "    \n",
    "    tn, fp, fn, tp = epoch_acc.ravel()\n",
    "    acc = (tp + tn)/(tp + tn + fp + fn)\n",
    "    if others is False:\n",
    "        return epoch_loss, acc\n",
    "\n",
    "    prec = tp/(tp + fp)\n",
    "    rec = tp/(tp + fn)\n",
    "    f1 = 2*tp/(2*tp + fp + fn)\n",
    "    return epoch_loss, acc, prec, rec, f1 "
   ]
  },
  {
   "cell_type": "code",
   "execution_count": 20,
   "metadata": {},
   "outputs": [],
   "source": [
    "best_model = type(model)(**kw).to(device)\n",
    "best_name = None"
   ]
  },
  {
   "cell_type": "code",
   "execution_count": 21,
   "metadata": {},
   "outputs": [
    {
     "data": {
      "text/plain": [
       "['<unk>', '<pad>']"
      ]
     },
     "execution_count": 21,
     "metadata": {},
     "output_type": "execute_result"
    }
   ],
   "source": [
    "text_field.vocab.itos[0:2]"
   ]
  },
  {
   "cell_type": "markdown",
   "metadata": {},
   "source": [
    "### Commenting"
   ]
  },
  {
   "cell_type": "code",
   "execution_count": 22,
   "metadata": {},
   "outputs": [
    {
     "name": "stdout",
     "output_type": "stream",
     "text": [
      "Epoch: 01/30... | Train Loss: 0.5500 | Valid Loss: 0.4724 | Train Acc: 0.7286 | Valid Acc: 0.7929\n",
      "Epoch: 02/30... | Train Loss: 0.4827 | Valid Loss: 0.4633 | Train Acc: 0.7899 | Valid Acc: 0.8051\n",
      "Epoch: 03/30... | Train Loss: 0.4568 | Valid Loss: 0.4551 | Train Acc: 0.8041 | Valid Acc: 0.8040\n",
      "Epoch: 04/30... | Train Loss: 0.4474 | Valid Loss: 0.4572 | Train Acc: 0.8071 | Valid Acc: 0.7939\n",
      "Epoch: 05/30... | Train Loss: 0.4296 | Valid Loss: 0.4582 | Train Acc: 0.8153 | Valid Acc: 0.8010\n",
      "Epoch: 06/30... | Train Loss: 0.4190 | Valid Loss: 0.4590 | Train Acc: 0.8154 | Valid Acc: 0.8081\n",
      "Epoch: 07/30... | Train Loss: 0.4102 | Valid Loss: 0.4641 | Train Acc: 0.8214 | Valid Acc: 0.8040\n",
      "Epoch: 08/30... | Train Loss: 0.3839 | Valid Loss: 0.4644 | Train Acc: 0.8386 | Valid Acc: 0.8071\n",
      "Epoch: 09/30... | Train Loss: 0.3711 | Valid Loss: 0.4648 | Train Acc: 0.8414 | Valid Acc: 0.8111\n",
      "Epoch: 10/30... | Train Loss: 0.3523 | Valid Loss: 0.4710 | Train Acc: 0.8507 | Valid Acc: 0.8071\n",
      "Epoch: 11/30... | Train Loss: 0.3482 | Valid Loss: 0.4949 | Train Acc: 0.8515 | Valid Acc: 0.7970\n",
      "Epoch: 12/30... | Train Loss: 0.3257 | Valid Loss: 0.4888 | Train Acc: 0.8589 | Valid Acc: 0.7980\n",
      "Epoch: 13/30... | Train Loss: 0.3201 | Valid Loss: 0.4967 | Train Acc: 0.8681 | Valid Acc: 0.7980\n",
      "Epoch: 14/30... | Train Loss: 0.3063 | Valid Loss: 0.5020 | Train Acc: 0.8717 | Valid Acc: 0.7919\n",
      "Epoch: 15/30... | Train Loss: 0.2975 | Valid Loss: 0.5209 | Train Acc: 0.8721 | Valid Acc: 0.7879\n",
      "Epoch: 16/30... | Train Loss: 0.2884 | Valid Loss: 0.5169 | Train Acc: 0.8825 | Valid Acc: 0.7939\n",
      "Epoch: 17/30... | Train Loss: 0.2714 | Valid Loss: 0.5402 | Train Acc: 0.8836 | Valid Acc: 0.7909\n",
      "Epoch: 18/30... | Train Loss: 0.2760 | Valid Loss: 0.5342 | Train Acc: 0.8868 | Valid Acc: 0.7949\n",
      "Epoch: 19/30... | Train Loss: 0.2648 | Valid Loss: 0.5529 | Train Acc: 0.8868 | Valid Acc: 0.8010\n",
      "Epoch: 20/30... | Train Loss: 0.2566 | Valid Loss: 0.5347 | Train Acc: 0.8920 | Valid Acc: 0.8020\n",
      "Epoch: 21/30... | Train Loss: 0.2487 | Valid Loss: 0.5565 | Train Acc: 0.8996 | Valid Acc: 0.7808\n",
      "Epoch: 22/30... | Train Loss: 0.2484 | Valid Loss: 0.5554 | Train Acc: 0.8990 | Valid Acc: 0.7899\n",
      "Epoch: 23/30... | Train Loss: 0.2472 | Valid Loss: 0.6041 | Train Acc: 0.8954 | Valid Acc: 0.7535\n",
      "Epoch: 24/30... | Train Loss: 0.2461 | Valid Loss: 0.5682 | Train Acc: 0.9015 | Valid Acc: 0.7869\n",
      "Epoch: 25/30... | Train Loss: 0.2372 | Valid Loss: 0.5702 | Train Acc: 0.9038 | Valid Acc: 0.7889\n",
      "Epoch: 26/30... | Train Loss: 0.2291 | Valid Loss: 0.6193 | Train Acc: 0.9077 | Valid Acc: 0.7576\n",
      "Epoch: 27/30... | Train Loss: 0.2207 | Valid Loss: 0.6089 | Train Acc: 0.9118 | Valid Acc: 0.7727\n",
      "Epoch: 28/30... | Train Loss: 0.2197 | Valid Loss: 0.6074 | Train Acc: 0.9097 | Valid Acc: 0.7889\n",
      "Epoch: 29/30... | Train Loss: 0.2207 | Valid Loss: 0.6707 | Train Acc: 0.9107 | Valid Acc: 0.7960\n",
      "Epoch: 30/30... | Train Loss: 0.2291 | Valid Loss: 0.6143 | Train Acc: 0.9143 | Valid Acc: 0.7727\n",
      "Done\n",
      "\n",
      "Valid: Loss 0.4648 | Acc 0.8111 | Prec 0.8415 | Rec 0.6715 | F1 0.7470\n",
      "Test : Loss 0.4381 | Acc 0.8107 | Prec 0.8180 | Rec 0.6529 | F1 0.7262\n"
     ]
    }
   ],
   "source": [
    "EPOCHS = 30\n",
    "best_valid_acc = 0\n",
    "\n",
    "train_losses = []\n",
    "valid_losses = []\n",
    "\n",
    "for e in range(1, EPOCHS + 1):\n",
    "    train_loss, train_acc = train(model, trainloader, criterion, optimizer)\n",
    "    valid_loss, valid_acc = evaluate(model, validloader, criterion)\n",
    "\n",
    "    # model progress\n",
    "    print(f\"Epoch: {e:02}/{EPOCHS}... \"\n",
    "          f\"| Train Loss: {train_loss:.4f} \"\n",
    "          f\"| Valid Loss: {valid_loss:.4f} \"\n",
    "          f\"| Train Acc: {train_acc:.4f} \"\n",
    "          f\"| Valid Acc: {valid_acc:.4f}\")\n",
    "    \n",
    "    if best_valid_acc < valid_acc:\n",
    "        best_valid_acc = valid_acc\n",
    "\n",
    "        filename = f'model-{e:02}-{train_loss:.3f}-{valid_loss:.3f}-{valid_acc:.3f}.pt'\n",
    "#         torch.save(model.state_dict(), MPATH + filename)\n",
    "        \n",
    "        best_model.load_state_dict(model.state_dict())\n",
    "        best_name = filename\n",
    "    \n",
    "    # for model complexity graph\n",
    "    train_losses.append(train_loss)\n",
    "    valid_losses.append(valid_loss)\n",
    "\n",
    "print('Done\\n')\n",
    "vl, vacc, vprec, vrec, vf1 = evaluate(best_model, validloader, criterion, others=True)\n",
    "print(f'Valid: Loss {vl:.4f} | Acc {vacc:.4f} | Prec {vprec:.4f} | Rec {vrec:.4f} | F1 {vf1:.4f}')\n",
    "tl, tacc, tprec, trec, tf1 = evaluate(best_model, testloader, criterion, others=True)\n",
    "print(f'Test : Loss {tl:.4f} | Acc {tacc:.4f} | Prec {tprec:.4f} | Rec {trec:.4f} | F1 {tf1:.4f}')"
   ]
  },
  {
   "cell_type": "code",
   "execution_count": 23,
   "metadata": {},
   "outputs": [
    {
     "data": {
      "text/plain": [
       "'model-09-0.371-0.465-0.811.pt'"
      ]
     },
     "execution_count": 23,
     "metadata": {},
     "output_type": "execute_result"
    }
   ],
   "source": [
    "torch.save(best_model.state_dict(), MPATH + best_name)\n",
    "best_name"
   ]
  },
  {
   "cell_type": "code",
   "execution_count": 24,
   "metadata": {},
   "outputs": [
    {
     "data": {
      "text/plain": [
       "<matplotlib.legend.Legend at 0x7f33473c68d0>"
      ]
     },
     "execution_count": 24,
     "metadata": {},
     "output_type": "execute_result"
    },
    {
     "data": {
      "image/png": "[encoded data removed]",
      "text/plain": [
       "<Figure size 432x288 with 1 Axes>"
      ]
     },
     "metadata": {
      "needs_background": "light"
     },
     "output_type": "display_data"
    }
   ],
   "source": [
    "plt.plot(train_losses, label='Train loss')\n",
    "plt.plot(valid_losses, label='Valid loss')\n",
    "plt.legend(frameon=False)\n",
    "\n",
    "# Time: 5s per epoch\n",
    "# Accuracy: 81.1%"
   ]
  },
  {
   "cell_type": "code",
   "execution_count": 18,
   "metadata": {},
   "outputs": [
    {
     "name": "stdout",
     "output_type": "stream",
     "text": [
      "../models/notebook5/commenting/model-09-0.371-0.465-0.811.pt\n"
     ]
    },
    {
     "data": {
      "text/plain": [
       "IncompatibleKeys(missing_keys=[], unexpected_keys=[])"
      ]
     },
     "execution_count": 18,
     "metadata": {},
     "output_type": "execute_result"
    }
   ],
   "source": [
    "ls = glob(MPATH + '*')\n",
    "ls.sort()\n",
    "filename = ls[-1]\n",
    "print(filename)\n",
    "\n",
    "model = CNN(**kw).to(device)\n",
    "\n",
    "model.load_state_dict(torch.load(filename, map_location=device))"
   ]
  },
  {
   "cell_type": "code",
   "execution_count": 17,
   "metadata": {},
   "outputs": [],
   "source": [
    "def predict(sentence):\n",
    "    tokenized = tokenizer(sentence)\n",
    "    indexed = [text_field.vocab.stoi[t] for t in tokenized]\n",
    "    tensor = torch.LongTensor(indexed).to(device)\n",
    "    \n",
    "    print(f'Tokenized: {tokenized}')\n",
    "    print(f'Indexed: {indexed}')\n",
    "    print(f'Tensor ({tensor.shape}): {tensor}')\n",
    "    \n",
    "    tensor = tensor.unsqueeze(0) # as we have used batch_first=True\n",
    "    with torch.no_grad():\n",
    "        model.eval()\n",
    "        fx = model(tensor)\n",
    "\n",
    "    print(f'Tensor w/ batch_size ({tensor.shape}): {tensor}')\n",
    "    print(f'Logit Tensor ({fx.shape}): {fx}')\n",
    "    return torch.sigmoid(fx).item()"
   ]
  },
  {
   "cell_type": "code",
   "execution_count": 20,
   "metadata": {},
   "outputs": [
    {
     "name": "stdout",
     "output_type": "stream",
     "text": [
      "Tokenized: ['pry', 'eye', 'morning', 'bus', 'station']\n",
      "Indexed: [0, 313, 70, 9, 21]\n",
      "Tensor (torch.Size([5])): tensor([  0, 313,  70,   9,  21], device='cuda:2')\n",
      "Tensor w/ batch_size (torch.Size([1, 5])): tensor([[  0, 313,  70,   9,  21]], device='cuda:2')\n",
      "Logit Tensor (torch.Size([1])): tensor([-0.6769], device='cuda:2')\n"
     ]
    },
    {
     "data": {
      "text/plain": [
       "0.33695870637893677"
      ]
     },
     "execution_count": 20,
     "metadata": {},
     "output_type": "execute_result"
    }
   ],
   "source": [
    "predict(\"I had prying eyes on me this morning at the bus station\")"
   ]
  },
  {
   "cell_type": "code",
   "execution_count": 21,
   "metadata": {},
   "outputs": [
    {
     "name": "stdout",
     "output_type": "stream",
     "text": [
      "Tokenized: ['stalker', 'morning', 'bus', 'station', '<pad>']\n",
      "Indexed: [2639, 70, 9, 21, 1]\n",
      "Tensor (torch.Size([5])): tensor([2639,   70,    9,   21,    1], device='cuda:2')\n",
      "Tensor w/ batch_size (torch.Size([1, 5])): tensor([[2639,   70,    9,   21,    1]], device='cuda:2')\n",
      "Logit Tensor (torch.Size([1])): tensor([-0.6561], device='cuda:2')\n"
     ]
    },
    {
     "data": {
      "text/plain": [
       "0.3416174054145813"
      ]
     },
     "execution_count": 21,
     "metadata": {},
     "output_type": "execute_result"
    }
   ],
   "source": [
    "predict(\"I had a stalker this morning at the bus station\")"
   ]
  },
  {
   "cell_type": "code",
   "execution_count": 22,
   "metadata": {},
   "outputs": [
    {
     "name": "stdout",
     "output_type": "stream",
     "text": [
      "Tokenized: ['person', 'follow', 'night', 'try', 'sexually', 'harass']\n",
      "Indexed: [72, 16, 35, 13, 118, 65]\n",
      "Tensor (torch.Size([6])): tensor([ 72,  16,  35,  13, 118,  65], device='cuda:2')\n",
      "Tensor w/ batch_size (torch.Size([1, 6])): tensor([[ 72,  16,  35,  13, 118,  65]], device='cuda:2')\n",
      "Logit Tensor (torch.Size([1])): tensor([-1.2769], device='cuda:2')\n"
     ]
    },
    {
     "data": {
      "text/plain": [
       "0.21807271242141724"
      ]
     },
     "execution_count": 22,
     "metadata": {},
     "output_type": "execute_result"
    }
   ],
   "source": [
    "predict(\"This person followed me at night and tried to sexually harass me\")"
   ]
  },
  {
   "cell_type": "code",
   "execution_count": 23,
   "metadata": {},
   "outputs": [
    {
     "name": "stdout",
     "output_type": "stream",
     "text": [
      "Tokenized: ['people', 'pass', 'lewd', 'remark', 'young', 'lady']\n",
      "Indexed: [32, 14, 178, 347, 116, 66]\n",
      "Tensor (torch.Size([6])): tensor([ 32,  14, 178, 347, 116,  66], device='cuda:2')\n",
      "Tensor w/ batch_size (torch.Size([1, 6])): tensor([[ 32,  14, 178, 347, 116,  66]], device='cuda:2')\n",
      "Logit Tensor (torch.Size([1])): tensor([1.4528], device='cuda:2')\n"
     ]
    },
    {
     "data": {
      "text/plain": [
       "0.8104310631752014"
      ]
     },
     "execution_count": 23,
     "metadata": {},
     "output_type": "execute_result"
    }
   ],
   "source": [
    "predict(\"There were quite a few people passing lewd remarks at a young lady\")"
   ]
  },
  {
   "cell_type": "code",
   "execution_count": 24,
   "metadata": {},
   "outputs": [
    {
     "name": "stdout",
     "output_type": "stream",
     "text": [
      "Tokenized: ['person', 'grab', 'woman', \"'s\", 'pubis', 'park']\n",
      "Indexed: [72, 140, 50, 44, 6789, 124]\n",
      "Tensor (torch.Size([6])): tensor([  72,  140,   50,   44, 6789,  124], device='cuda:2')\n",
      "Tensor w/ batch_size (torch.Size([1, 6])): tensor([[  72,  140,   50,   44, 6789,  124]], device='cuda:2')\n",
      "Logit Tensor (torch.Size([1])): tensor([-1.8670], device='cuda:2')\n"
     ]
    },
    {
     "data": {
      "text/plain": [
       "0.133891761302948"
      ]
     },
     "execution_count": 24,
     "metadata": {},
     "output_type": "execute_result"
    }
   ],
   "source": [
    "predict(\"The person grabbed the woman's pubes in the park\")"
   ]
  },
  {
   "cell_type": "markdown",
   "metadata": {},
   "source": [
    "### Groping"
   ]
  },
  {
   "cell_type": "code",
   "execution_count": 22,
   "metadata": {},
   "outputs": [
    {
     "name": "stdout",
     "output_type": "stream",
     "text": [
      "Epoch: 01/30... | Train Loss: 0.5089 | Valid Loss: 0.3949 | Train Acc: 0.7764 | Valid Acc: 0.8465\n",
      "Epoch: 02/30... | Train Loss: 0.4028 | Valid Loss: 0.3801 | Train Acc: 0.8402 | Valid Acc: 0.8444\n",
      "Epoch: 03/30... | Train Loss: 0.3733 | Valid Loss: 0.3648 | Train Acc: 0.8528 | Valid Acc: 0.8556\n",
      "Epoch: 04/30... | Train Loss: 0.3480 | Valid Loss: 0.3563 | Train Acc: 0.8611 | Valid Acc: 0.8566\n",
      "Epoch: 05/30... | Train Loss: 0.3270 | Valid Loss: 0.3503 | Train Acc: 0.8736 | Valid Acc: 0.8525\n",
      "Epoch: 06/30... | Train Loss: 0.3277 | Valid Loss: 0.3479 | Train Acc: 0.8710 | Valid Acc: 0.8576\n",
      "Epoch: 07/30... | Train Loss: 0.3104 | Valid Loss: 0.3610 | Train Acc: 0.8813 | Valid Acc: 0.8545\n",
      "Epoch: 08/30... | Train Loss: 0.2939 | Valid Loss: 0.3509 | Train Acc: 0.8870 | Valid Acc: 0.8596\n",
      "Epoch: 09/30... | Train Loss: 0.2782 | Valid Loss: 0.3506 | Train Acc: 0.8933 | Valid Acc: 0.8616\n",
      "Epoch: 10/30... | Train Loss: 0.2725 | Valid Loss: 0.3611 | Train Acc: 0.8933 | Valid Acc: 0.8596\n",
      "Epoch: 11/30... | Train Loss: 0.2522 | Valid Loss: 0.3612 | Train Acc: 0.9007 | Valid Acc: 0.8646\n",
      "Epoch: 12/30... | Train Loss: 0.2572 | Valid Loss: 0.3635 | Train Acc: 0.8963 | Valid Acc: 0.8646\n",
      "Epoch: 13/30... | Train Loss: 0.2341 | Valid Loss: 0.3618 | Train Acc: 0.9114 | Valid Acc: 0.8566\n",
      "Epoch: 14/30... | Train Loss: 0.2333 | Valid Loss: 0.3716 | Train Acc: 0.9079 | Valid Acc: 0.8606\n",
      "Epoch: 15/30... | Train Loss: 0.2260 | Valid Loss: 0.3764 | Train Acc: 0.9147 | Valid Acc: 0.8586\n",
      "Epoch: 16/30... | Train Loss: 0.2112 | Valid Loss: 0.3739 | Train Acc: 0.9193 | Valid Acc: 0.8535\n",
      "Epoch: 17/30... | Train Loss: 0.1987 | Valid Loss: 0.3853 | Train Acc: 0.9208 | Valid Acc: 0.8626\n",
      "Epoch: 18/30... | Train Loss: 0.1963 | Valid Loss: 0.3826 | Train Acc: 0.9225 | Valid Acc: 0.8616\n",
      "Epoch: 19/30... | Train Loss: 0.1892 | Valid Loss: 0.4166 | Train Acc: 0.9257 | Valid Acc: 0.8545\n",
      "Epoch: 20/30... | Train Loss: 0.1871 | Valid Loss: 0.3940 | Train Acc: 0.9307 | Valid Acc: 0.8646\n",
      "Epoch: 21/30... | Train Loss: 0.1741 | Valid Loss: 0.4155 | Train Acc: 0.9324 | Valid Acc: 0.8636\n",
      "Epoch: 22/30... | Train Loss: 0.1782 | Valid Loss: 0.4082 | Train Acc: 0.9288 | Valid Acc: 0.8657\n",
      "Epoch: 23/30... | Train Loss: 0.1744 | Valid Loss: 0.4092 | Train Acc: 0.9333 | Valid Acc: 0.8616\n",
      "Epoch: 24/30... | Train Loss: 0.1630 | Valid Loss: 0.4002 | Train Acc: 0.9342 | Valid Acc: 0.8596\n",
      "Epoch: 25/30... | Train Loss: 0.1624 | Valid Loss: 0.4329 | Train Acc: 0.9379 | Valid Acc: 0.8586\n",
      "Epoch: 26/30... | Train Loss: 0.1567 | Valid Loss: 0.4243 | Train Acc: 0.9363 | Valid Acc: 0.8616\n",
      "Epoch: 27/30... | Train Loss: 0.1679 | Valid Loss: 0.4368 | Train Acc: 0.9336 | Valid Acc: 0.8576\n",
      "Epoch: 28/30... | Train Loss: 0.1550 | Valid Loss: 0.4299 | Train Acc: 0.9400 | Valid Acc: 0.8596\n",
      "Epoch: 29/30... | Train Loss: 0.1486 | Valid Loss: 0.4404 | Train Acc: 0.9460 | Valid Acc: 0.8606\n",
      "Epoch: 30/30... | Train Loss: 0.1447 | Valid Loss: 0.4322 | Train Acc: 0.9439 | Valid Acc: 0.8566\n",
      "Done\n",
      "\n",
      "Valid: Loss 0.4082 | Acc 0.8657 | Prec 0.8430 | Rec 0.6573 | F1 0.7387\n",
      "Test : Loss 0.4252 | Acc 0.8607 | Prec 0.8582 | Rec 0.6571 | F1 0.7443\n"
     ]
    }
   ],
   "source": [
    "EPOCHS = 30\n",
    "best_valid_acc = 0\n",
    "\n",
    "train_losses = []\n",
    "valid_losses = []\n",
    "\n",
    "for e in range(1, EPOCHS + 1):\n",
    "    train_loss, train_acc = train(model, trainloader, criterion, optimizer)\n",
    "    valid_loss, valid_acc = evaluate(model, validloader, criterion)\n",
    "\n",
    "    # model progress\n",
    "    print(f\"Epoch: {e:02}/{EPOCHS}... \"\n",
    "          f\"| Train Loss: {train_loss:.4f} \"\n",
    "          f\"| Valid Loss: {valid_loss:.4f} \"\n",
    "          f\"| Train Acc: {train_acc:.4f} \"\n",
    "          f\"| Valid Acc: {valid_acc:.4f}\")\n",
    "    \n",
    "    if best_valid_acc < valid_acc:\n",
    "        best_valid_acc = valid_acc\n",
    "\n",
    "        filename = f'model-{e:02}-{train_loss:.3f}-{valid_loss:.3f}-{valid_acc:.3f}.pt'\n",
    "#         torch.save(model.state_dict(), MPATH + filename)\n",
    "        \n",
    "        best_model.load_state_dict(model.state_dict())\n",
    "        best_name = filename\n",
    "    \n",
    "    # for model complexity graph\n",
    "    train_losses.append(train_loss)\n",
    "    valid_losses.append(valid_loss)\n",
    "\n",
    "print('Done\\n')\n",
    "vl, vacc, vprec, vrec, vf1 = evaluate(best_model, validloader, criterion, others=True)\n",
    "print(f'Valid: Loss {vl:.4f} | Acc {vacc:.4f} | Prec {vprec:.4f} | Rec {vrec:.4f} | F1 {vf1:.4f}')\n",
    "tl, tacc, tprec, trec, tf1 = evaluate(best_model, testloader, criterion, others=True)\n",
    "print(f'Test : Loss {tl:.4f} | Acc {tacc:.4f} | Prec {tprec:.4f} | Rec {trec:.4f} | F1 {tf1:.4f}')"
   ]
  },
  {
   "cell_type": "code",
   "execution_count": 23,
   "metadata": {},
   "outputs": [
    {
     "data": {
      "text/plain": [
       "'model-22-0.178-0.408-0.866.pt'"
      ]
     },
     "execution_count": 23,
     "metadata": {},
     "output_type": "execute_result"
    }
   ],
   "source": [
    "torch.save(best_model.state_dict(), MPATH + best_name)\n",
    "best_name"
   ]
  },
  {
   "cell_type": "code",
   "execution_count": 24,
   "metadata": {},
   "outputs": [
    {
     "data": {
      "text/plain": [
       "<matplotlib.legend.Legend at 0x7f39fcc8d7f0>"
      ]
     },
     "execution_count": 24,
     "metadata": {},
     "output_type": "execute_result"
    },
    {
     "data": {
      "image/png": "[encoded data removed]",
      "text/plain": [
       "<Figure size 432x288 with 1 Axes>"
      ]
     },
     "metadata": {
      "needs_background": "light"
     },
     "output_type": "display_data"
    }
   ],
   "source": [
    "plt.plot(train_losses, label='Train loss')\n",
    "plt.plot(valid_losses, label='Valid loss')\n",
    "plt.legend(frameon=False)\n",
    "\n",
    "# Time: 5s per epoch\n",
    "# Accuracy: 86.07%"
   ]
  },
  {
   "cell_type": "code",
   "execution_count": 17,
   "metadata": {},
   "outputs": [
    {
     "name": "stdout",
     "output_type": "stream",
     "text": [
      "../models/notebook5/groping/model-22-0.178-0.408-0.866.pt\n"
     ]
    },
    {
     "data": {
      "text/plain": [
       "IncompatibleKeys(missing_keys=[], unexpected_keys=[])"
      ]
     },
     "execution_count": 17,
     "metadata": {},
     "output_type": "execute_result"
    }
   ],
   "source": [
    "ls = glob(MPATH + '*')\n",
    "ls.sort()\n",
    "filename = ls[-1]\n",
    "print(filename)\n",
    "\n",
    "model = CNN(**kw).to(device)\n",
    "\n",
    "model.load_state_dict(torch.load(filename, map_location=device))"
   ]
  },
  {
   "cell_type": "code",
   "execution_count": 18,
   "metadata": {},
   "outputs": [],
   "source": [
    "def predict(sentence):\n",
    "    tokenized = tokenizer(sentence)\n",
    "    indexed = [text_field.vocab.stoi[t] for t in tokenized]\n",
    "    tensor = torch.LongTensor(indexed).to(device)\n",
    "    \n",
    "    print(f'Tokenized: {tokenized}')\n",
    "    print(f'Indexed: {indexed}')\n",
    "    print(f'Tensor ({tensor.shape}): {tensor}')\n",
    "    \n",
    "    tensor = tensor.unsqueeze(0) # as we have used batch_first=True\n",
    "    with torch.no_grad():\n",
    "        model.eval()\n",
    "        fx = model(tensor)\n",
    "\n",
    "    print(f'Tensor w/ batch_size ({tensor.shape}): {tensor}')\n",
    "    print(f'Logit Tensor ({fx.shape}): {fx}')\n",
    "    return torch.sigmoid(fx).item()"
   ]
  },
  {
   "cell_type": "code",
   "execution_count": 19,
   "metadata": {},
   "outputs": [
    {
     "name": "stdout",
     "output_type": "stream",
     "text": [
      "Tokenized: ['pry', 'eye', 'morning', 'bus', 'station']\n",
      "Indexed: [0, 313, 70, 9, 21]\n",
      "Tensor (torch.Size([5])): tensor([  0, 313,  70,   9,  21], device='cuda:2')\n",
      "Tensor w/ batch_size (torch.Size([1, 5])): tensor([[  0, 313,  70,   9,  21]], device='cuda:2')\n",
      "Logit Tensor (torch.Size([1])): tensor([-1.3962], device='cuda:2')\n"
     ]
    },
    {
     "data": {
      "text/plain": [
       "0.19842635095119476"
      ]
     },
     "execution_count": 19,
     "metadata": {},
     "output_type": "execute_result"
    }
   ],
   "source": [
    "predict(\"I had prying eyes on me this morning at the bus station\")"
   ]
  },
  {
   "cell_type": "code",
   "execution_count": 20,
   "metadata": {},
   "outputs": [
    {
     "name": "stdout",
     "output_type": "stream",
     "text": [
      "Tokenized: ['stalker', 'morning', 'bus', 'station', '<pad>']\n",
      "Indexed: [2639, 70, 9, 21, 1]\n",
      "Tensor (torch.Size([5])): tensor([2639,   70,    9,   21,    1], device='cuda:2')\n",
      "Tensor w/ batch_size (torch.Size([1, 5])): tensor([[2639,   70,    9,   21,    1]], device='cuda:2')\n",
      "Logit Tensor (torch.Size([1])): tensor([-1.4588], device='cuda:2')\n"
     ]
    },
    {
     "data": {
      "text/plain": [
       "0.188650980591774"
      ]
     },
     "execution_count": 20,
     "metadata": {},
     "output_type": "execute_result"
    }
   ],
   "source": [
    "predict(\"I had a stalker this morning at the bus station\")"
   ]
  },
  {
   "cell_type": "code",
   "execution_count": 21,
   "metadata": {},
   "outputs": [
    {
     "name": "stdout",
     "output_type": "stream",
     "text": [
      "Tokenized: ['person', 'follow', 'night', 'try', 'sexually', 'harass']\n",
      "Indexed: [72, 16, 35, 13, 118, 65]\n",
      "Tensor (torch.Size([6])): tensor([ 72,  16,  35,  13, 118,  65], device='cuda:2')\n",
      "Tensor w/ batch_size (torch.Size([1, 6])): tensor([[ 72,  16,  35,  13, 118,  65]], device='cuda:2')\n",
      "Logit Tensor (torch.Size([1])): tensor([-0.6245], device='cuda:2')\n"
     ]
    },
    {
     "data": {
      "text/plain": [
       "0.3487555682659149"
      ]
     },
     "execution_count": 21,
     "metadata": {},
     "output_type": "execute_result"
    }
   ],
   "source": [
    "predict(\"This person followed me at night and tried to sexually harass me\")"
   ]
  },
  {
   "cell_type": "code",
   "execution_count": 22,
   "metadata": {},
   "outputs": [
    {
     "name": "stdout",
     "output_type": "stream",
     "text": [
      "Tokenized: ['people', 'pass', 'lewd', 'remark', 'young', 'lady']\n",
      "Indexed: [32, 14, 178, 347, 116, 66]\n",
      "Tensor (torch.Size([6])): tensor([ 32,  14, 178, 347, 116,  66], device='cuda:2')\n",
      "Tensor w/ batch_size (torch.Size([1, 6])): tensor([[ 32,  14, 178, 347, 116,  66]], device='cuda:2')\n",
      "Logit Tensor (torch.Size([1])): tensor([-3.3072], device='cuda:2')\n"
     ]
    },
    {
     "data": {
      "text/plain": [
       "0.03532509505748749"
      ]
     },
     "execution_count": 22,
     "metadata": {},
     "output_type": "execute_result"
    }
   ],
   "source": [
    "predict(\"There were quite a few people passing lewd remarks at a young lady\")"
   ]
  },
  {
   "cell_type": "code",
   "execution_count": 23,
   "metadata": {},
   "outputs": [
    {
     "name": "stdout",
     "output_type": "stream",
     "text": [
      "Tokenized: ['person', 'grab', 'woman', \"'s\", 'pubis', 'park']\n",
      "Indexed: [72, 140, 50, 44, 6789, 124]\n",
      "Tensor (torch.Size([6])): tensor([  72,  140,   50,   44, 6789,  124], device='cuda:2')\n",
      "Tensor w/ batch_size (torch.Size([1, 6])): tensor([[  72,  140,   50,   44, 6789,  124]], device='cuda:2')\n",
      "Logit Tensor (torch.Size([1])): tensor([2.7482], device='cuda:2')\n"
     ]
    },
    {
     "data": {
      "text/plain": [
       "0.9398096203804016"
      ]
     },
     "execution_count": 23,
     "metadata": {},
     "output_type": "execute_result"
    }
   ],
   "source": [
    "predict(\"The person grabbed the woman's pubes in the park\")"
   ]
  },
  {
   "cell_type": "markdown",
   "metadata": {},
   "source": [
    "### Ogling"
   ]
  },
  {
   "cell_type": "code",
   "execution_count": 22,
   "metadata": {},
   "outputs": [
    {
     "name": "stdout",
     "output_type": "stream",
     "text": [
      "Epoch: 01/30... | Train Loss: 0.5186 | Valid Loss: 0.4412 | Train Acc: 0.8003 | Valid Acc: 0.8263\n",
      "Epoch: 02/30... | Train Loss: 0.4423 | Valid Loss: 0.4199 | Train Acc: 0.8196 | Valid Acc: 0.8313\n",
      "Epoch: 03/30... | Train Loss: 0.4211 | Valid Loss: 0.4177 | Train Acc: 0.8292 | Valid Acc: 0.8343\n",
      "Epoch: 04/30... | Train Loss: 0.4119 | Valid Loss: 0.4146 | Train Acc: 0.8286 | Valid Acc: 0.8323\n",
      "Epoch: 05/30... | Train Loss: 0.3981 | Valid Loss: 0.4098 | Train Acc: 0.8364 | Valid Acc: 0.8364\n",
      "Epoch: 06/30... | Train Loss: 0.3875 | Valid Loss: 0.4178 | Train Acc: 0.8384 | Valid Acc: 0.8374\n",
      "Epoch: 07/30... | Train Loss: 0.3629 | Valid Loss: 0.4118 | Train Acc: 0.8489 | Valid Acc: 0.8374\n",
      "Epoch: 08/30... | Train Loss: 0.3586 | Valid Loss: 0.4111 | Train Acc: 0.8484 | Valid Acc: 0.8404\n",
      "Epoch: 09/30... | Train Loss: 0.3488 | Valid Loss: 0.4169 | Train Acc: 0.8529 | Valid Acc: 0.8343\n",
      "Epoch: 10/30... | Train Loss: 0.3273 | Valid Loss: 0.4178 | Train Acc: 0.8606 | Valid Acc: 0.8333\n",
      "Epoch: 11/30... | Train Loss: 0.3186 | Valid Loss: 0.4281 | Train Acc: 0.8656 | Valid Acc: 0.8323\n",
      "Epoch: 12/30... | Train Loss: 0.2998 | Valid Loss: 0.4251 | Train Acc: 0.8732 | Valid Acc: 0.8374\n",
      "Epoch: 13/30... | Train Loss: 0.2935 | Valid Loss: 0.4325 | Train Acc: 0.8775 | Valid Acc: 0.8283\n",
      "Epoch: 14/30... | Train Loss: 0.2851 | Valid Loss: 0.4333 | Train Acc: 0.8785 | Valid Acc: 0.8343\n",
      "Epoch: 15/30... | Train Loss: 0.2719 | Valid Loss: 0.4464 | Train Acc: 0.8853 | Valid Acc: 0.8354\n",
      "Epoch: 16/30... | Train Loss: 0.2586 | Valid Loss: 0.4479 | Train Acc: 0.8902 | Valid Acc: 0.8303\n",
      "Epoch: 17/30... | Train Loss: 0.2524 | Valid Loss: 0.4879 | Train Acc: 0.8972 | Valid Acc: 0.8283\n",
      "Epoch: 18/30... | Train Loss: 0.2535 | Valid Loss: 0.4592 | Train Acc: 0.8950 | Valid Acc: 0.8273\n",
      "Epoch: 19/30... | Train Loss: 0.2380 | Valid Loss: 0.4650 | Train Acc: 0.9047 | Valid Acc: 0.8273\n",
      "Epoch: 20/30... | Train Loss: 0.2296 | Valid Loss: 0.4697 | Train Acc: 0.9014 | Valid Acc: 0.8293\n",
      "Epoch: 21/30... | Train Loss: 0.2336 | Valid Loss: 0.4671 | Train Acc: 0.9031 | Valid Acc: 0.8273\n",
      "Epoch: 22/30... | Train Loss: 0.2281 | Valid Loss: 0.4685 | Train Acc: 0.9071 | Valid Acc: 0.8313\n",
      "Epoch: 23/30... | Train Loss: 0.2205 | Valid Loss: 0.4717 | Train Acc: 0.9170 | Valid Acc: 0.8374\n",
      "Epoch: 24/30... | Train Loss: 0.2061 | Valid Loss: 0.4685 | Train Acc: 0.9160 | Valid Acc: 0.8323\n",
      "Epoch: 25/30... | Train Loss: 0.2036 | Valid Loss: 0.4887 | Train Acc: 0.9172 | Valid Acc: 0.8374\n",
      "Epoch: 26/30... | Train Loss: 0.2000 | Valid Loss: 0.4976 | Train Acc: 0.9215 | Valid Acc: 0.8313\n",
      "Epoch: 27/30... | Train Loss: 0.2086 | Valid Loss: 0.4936 | Train Acc: 0.9154 | Valid Acc: 0.8313\n",
      "Epoch: 28/30... | Train Loss: 0.1953 | Valid Loss: 0.5059 | Train Acc: 0.9233 | Valid Acc: 0.8323\n",
      "Epoch: 29/30... | Train Loss: 0.1931 | Valid Loss: 0.5034 | Train Acc: 0.9203 | Valid Acc: 0.8323\n",
      "Epoch: 30/30... | Train Loss: 0.1890 | Valid Loss: 0.5155 | Train Acc: 0.9249 | Valid Acc: 0.8283\n",
      "Done\n",
      "\n",
      "Valid: Loss 0.4111 | Acc 0.8404 | Prec 0.7895 | Rec 0.3521 | F1 0.4870\n",
      "Test : Loss 0.4503 | Acc 0.8213 | Prec 0.7351 | Rec 0.2960 | F1 0.4221\n"
     ]
    }
   ],
   "source": [
    "EPOCHS = 30\n",
    "best_valid_acc = 0\n",
    "\n",
    "train_losses = []\n",
    "valid_losses = []\n",
    "\n",
    "for e in range(1, EPOCHS + 1):\n",
    "    train_loss, train_acc = train(model, trainloader, criterion, optimizer)\n",
    "    valid_loss, valid_acc = evaluate(model, validloader, criterion)\n",
    "\n",
    "    # model progress\n",
    "    print(f\"Epoch: {e:02}/{EPOCHS}... \"\n",
    "          f\"| Train Loss: {train_loss:.4f} \"\n",
    "          f\"| Valid Loss: {valid_loss:.4f} \"\n",
    "          f\"| Train Acc: {train_acc:.4f} \"\n",
    "          f\"| Valid Acc: {valid_acc:.4f}\")\n",
    "    \n",
    "    if best_valid_acc < valid_acc:\n",
    "        best_valid_acc = valid_acc\n",
    "\n",
    "        filename = f'model-{e:02}-{train_loss:.3f}-{valid_loss:.3f}-{valid_acc:.3f}.pt'\n",
    "#         torch.save(model.state_dict(), MPATH + filename)\n",
    "        \n",
    "        best_model.load_state_dict(model.state_dict())\n",
    "        best_name = filename\n",
    "    \n",
    "    # for model complexity graph\n",
    "    train_losses.append(train_loss)\n",
    "    valid_losses.append(valid_loss)\n",
    "\n",
    "print('Done\\n')\n",
    "vl, vacc, vprec, vrec, vf1 = evaluate(best_model, validloader, criterion, others=True)\n",
    "print(f'Valid: Loss {vl:.4f} | Acc {vacc:.4f} | Prec {vprec:.4f} | Rec {vrec:.4f} | F1 {vf1:.4f}')\n",
    "tl, tacc, tprec, trec, tf1 = evaluate(best_model, testloader, criterion, others=True)\n",
    "print(f'Test : Loss {tl:.4f} | Acc {tacc:.4f} | Prec {tprec:.4f} | Rec {trec:.4f} | F1 {tf1:.4f}')"
   ]
  },
  {
   "cell_type": "code",
   "execution_count": 23,
   "metadata": {},
   "outputs": [
    {
     "data": {
      "text/plain": [
       "'model-08-0.359-0.411-0.840.pt'"
      ]
     },
     "execution_count": 23,
     "metadata": {},
     "output_type": "execute_result"
    }
   ],
   "source": [
    "torch.save(best_model.state_dict(), MPATH + best_name)\n",
    "best_name"
   ]
  },
  {
   "cell_type": "code",
   "execution_count": 24,
   "metadata": {},
   "outputs": [
    {
     "data": {
      "text/plain": [
       "<matplotlib.legend.Legend at 0x7ff55c2b3978>"
      ]
     },
     "execution_count": 24,
     "metadata": {},
     "output_type": "execute_result"
    },
    {
     "data": {
      "image/png": "[encoded data removed]",
      "text/plain": [
       "<Figure size 432x288 with 1 Axes>"
      ]
     },
     "metadata": {
      "needs_background": "light"
     },
     "output_type": "display_data"
    }
   ],
   "source": [
    "plt.plot(train_losses, label='Train loss')\n",
    "plt.plot(valid_losses, label='Valid loss')\n",
    "plt.legend(frameon=False)\n",
    "\n",
    "# Time: 5s per epoch\n",
    "# Accuracy: 82.13%"
   ]
  },
  {
   "cell_type": "code",
   "execution_count": 18,
   "metadata": {},
   "outputs": [
    {
     "name": "stdout",
     "output_type": "stream",
     "text": [
      "../models/notebook5/ogling/model-08-0.359-0.411-0.840.pt\n"
     ]
    },
    {
     "data": {
      "text/plain": [
       "IncompatibleKeys(missing_keys=[], unexpected_keys=[])"
      ]
     },
     "execution_count": 18,
     "metadata": {},
     "output_type": "execute_result"
    }
   ],
   "source": [
    "ls = glob(MPATH + '*')\n",
    "ls.sort()\n",
    "filename = ls[-1]\n",
    "print(filename)\n",
    "\n",
    "model = CNN(**kw).to(device)\n",
    "\n",
    "model.load_state_dict(torch.load(filename, map_location=device))"
   ]
  },
  {
   "cell_type": "code",
   "execution_count": 20,
   "metadata": {},
   "outputs": [],
   "source": [
    "def predict(sentence):\n",
    "    tokenized = tokenizer(sentence)\n",
    "    indexed = [text_field.vocab.stoi[t] for t in tokenized]\n",
    "    tensor = torch.LongTensor(indexed).to(device)\n",
    "    \n",
    "    print(f'Tokenized: {tokenized}')\n",
    "    print(f'Indexed: {indexed}')\n",
    "    print(f'Tensor ({tensor.shape}): {tensor}')\n",
    "    \n",
    "    tensor = tensor.unsqueeze(0) # as we have used batch_first=True\n",
    "    with torch.no_grad():\n",
    "        model.eval()\n",
    "        fx = model(tensor)\n",
    "\n",
    "    print(f'Tensor w/ batch_size ({tensor.shape}): {tensor}')\n",
    "    print(f'Logit Tensor ({fx.shape}): {fx}')\n",
    "    return torch.sigmoid(fx).item()"
   ]
  },
  {
   "cell_type": "code",
   "execution_count": 22,
   "metadata": {},
   "outputs": [
    {
     "name": "stdout",
     "output_type": "stream",
     "text": [
      "Tokenized: ['pry', 'eye', 'morning', 'bus', 'station']\n",
      "Indexed: [0, 313, 70, 9, 21]\n",
      "Tensor (torch.Size([5])): tensor([  0, 313,  70,   9,  21], device='cuda:2')\n",
      "Tensor w/ batch_size (torch.Size([1, 5])): tensor([[  0, 313,  70,   9,  21]], device='cuda:2')\n",
      "Logit Tensor (torch.Size([1])): tensor([-0.2422], device='cuda:2')\n"
     ]
    },
    {
     "data": {
      "text/plain": [
       "0.43973425030708313"
      ]
     },
     "execution_count": 22,
     "metadata": {},
     "output_type": "execute_result"
    }
   ],
   "source": [
    "predict(\"I had prying eyes on me this morning at the bus station\")"
   ]
  },
  {
   "cell_type": "code",
   "execution_count": 23,
   "metadata": {},
   "outputs": [
    {
     "name": "stdout",
     "output_type": "stream",
     "text": [
      "Tokenized: ['stalker', 'morning', 'bus', 'station', '<pad>']\n",
      "Indexed: [2639, 70, 9, 21, 1]\n",
      "Tensor (torch.Size([5])): tensor([2639,   70,    9,   21,    1], device='cuda:2')\n",
      "Tensor w/ batch_size (torch.Size([1, 5])): tensor([[2639,   70,    9,   21,    1]], device='cuda:2')\n",
      "Logit Tensor (torch.Size([1])): tensor([-1.3481], device='cuda:2')\n"
     ]
    },
    {
     "data": {
      "text/plain": [
       "0.20617835223674774"
      ]
     },
     "execution_count": 23,
     "metadata": {},
     "output_type": "execute_result"
    }
   ],
   "source": [
    "predict(\"I had a stalker this morning at the bus station\")"
   ]
  },
  {
   "cell_type": "code",
   "execution_count": 24,
   "metadata": {},
   "outputs": [
    {
     "name": "stdout",
     "output_type": "stream",
     "text": [
      "Tokenized: ['person', 'follow', 'night', 'try', 'sexually', 'harass']\n",
      "Indexed: [72, 16, 35, 13, 118, 65]\n",
      "Tensor (torch.Size([6])): tensor([ 72,  16,  35,  13, 118,  65], device='cuda:2')\n",
      "Tensor w/ batch_size (torch.Size([1, 6])): tensor([[ 72,  16,  35,  13, 118,  65]], device='cuda:2')\n",
      "Logit Tensor (torch.Size([1])): tensor([-2.0465], device='cuda:2')\n"
     ]
    },
    {
     "data": {
      "text/plain": [
       "0.11440831422805786"
      ]
     },
     "execution_count": 24,
     "metadata": {},
     "output_type": "execute_result"
    }
   ],
   "source": [
    "predict(\"This person followed me at night and tried to sexually harass me\")"
   ]
  },
  {
   "cell_type": "code",
   "execution_count": 25,
   "metadata": {},
   "outputs": [
    {
     "name": "stdout",
     "output_type": "stream",
     "text": [
      "Tokenized: ['people', 'pass', 'lewd', 'remark', 'young', 'lady']\n",
      "Indexed: [32, 14, 178, 347, 116, 66]\n",
      "Tensor (torch.Size([6])): tensor([ 32,  14, 178, 347, 116,  66], device='cuda:2')\n",
      "Tensor w/ batch_size (torch.Size([1, 6])): tensor([[ 32,  14, 178, 347, 116,  66]], device='cuda:2')\n",
      "Logit Tensor (torch.Size([1])): tensor([-1.5139], device='cuda:2')\n"
     ]
    },
    {
     "data": {
      "text/plain": [
       "0.1803557425737381"
      ]
     },
     "execution_count": 25,
     "metadata": {},
     "output_type": "execute_result"
    }
   ],
   "source": [
    "predict(\"There were quite a few people passing lewd remarks at a young lady\")"
   ]
  },
  {
   "cell_type": "code",
   "execution_count": 26,
   "metadata": {},
   "outputs": [
    {
     "name": "stdout",
     "output_type": "stream",
     "text": [
      "Tokenized: ['person', 'grab', 'woman', \"'s\", 'pubis', 'park']\n",
      "Indexed: [72, 140, 50, 44, 6789, 124]\n",
      "Tensor (torch.Size([6])): tensor([  72,  140,   50,   44, 6789,  124], device='cuda:2')\n",
      "Tensor w/ batch_size (torch.Size([1, 6])): tensor([[  72,  140,   50,   44, 6789,  124]], device='cuda:2')\n",
      "Logit Tensor (torch.Size([1])): tensor([-3.5342], device='cuda:2')\n"
     ]
    },
    {
     "data": {
      "text/plain": [
       "0.028354482725262642"
      ]
     },
     "execution_count": 26,
     "metadata": {},
     "output_type": "execute_result"
    }
   ],
   "source": [
    "predict(\"The person grabbed the woman's pubes in the park\")"
   ]
  }
 ],
 "metadata": {
  "kernelspec": {
   "display_name": "Python 3",
   "language": "python",
   "name": "python3"
  },
  "language_info": {
   "codemirror_mode": {
    "name": "ipython",
    "version": 3
   },
   "file_extension": ".py",
   "mimetype": "text/x-python",
   "name": "python",
   "nbconvert_exporter": "python",
   "pygments_lexer": "ipython3",
   "version": "3.7.3"
  }
 },
 "nbformat": 4,
 "nbformat_minor": 2
}
