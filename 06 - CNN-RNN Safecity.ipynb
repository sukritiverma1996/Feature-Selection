{
 "cells": [
  {
   "cell_type": "code",
   "execution_count": 1,
   "metadata": {},
   "outputs": [],
   "source": [
    "ROOT = '../'"
   ]
  },
  {
   "cell_type": "code",
   "execution_count": 2,
   "metadata": {},
   "outputs": [],
   "source": [
    "EMBPATH = ROOT + 'data/embeddings/'"
   ]
  },
  {
   "cell_type": "markdown",
   "metadata": {},
   "source": [
    "### Binary - Commenting Dataset"
   ]
  },
  {
   "cell_type": "code",
   "execution_count": 3,
   "metadata": {},
   "outputs": [],
   "source": [
    "DPATH = ROOT + 'data/safecity/binary/commenting/'"
   ]
  },
  {
   "cell_type": "code",
   "execution_count": 4,
   "metadata": {},
   "outputs": [],
   "source": [
    "MPATH = ROOT + 'models/notebook6/commenting/'"
   ]
  },
  {
   "cell_type": "markdown",
   "metadata": {},
   "source": [
    "### Binary - Groping Dataset"
   ]
  },
  {
   "cell_type": "code",
   "execution_count": 3,
   "metadata": {},
   "outputs": [],
   "source": [
    "DPATH = ROOT + 'data/safecity/binary/groping/'"
   ]
  },
  {
   "cell_type": "code",
   "execution_count": 4,
   "metadata": {},
   "outputs": [],
   "source": [
    "MPATH = ROOT + 'models/notebook6/groping/'"
   ]
  },
  {
   "cell_type": "markdown",
   "metadata": {},
   "source": [
    "### Binary - Ogling Dataset"
   ]
  },
  {
   "cell_type": "code",
   "execution_count": 3,
   "metadata": {},
   "outputs": [],
   "source": [
    "DPATH = ROOT + 'data/safecity/binary/ogling/'"
   ]
  },
  {
   "cell_type": "code",
   "execution_count": 4,
   "metadata": {},
   "outputs": [],
   "source": [
    "MPATH = ROOT + 'models/notebook6/ogling/'"
   ]
  },
  {
   "cell_type": "markdown",
   "metadata": {},
   "source": [
    "### Text Classifier"
   ]
  },
  {
   "cell_type": "code",
   "execution_count": 5,
   "metadata": {},
   "outputs": [],
   "source": [
    "import torch\n",
    "from torch import nn, optim\n",
    "import torch.nn.functional as F\n",
    "from torch.autograd import Variable\n",
    "\n",
    "from torch.nn.utils import clip_grad_norm_\n",
    "from torchtext import data, datasets, vocab\n",
    "\n",
    "from sklearn.metrics import confusion_matrix\n",
    "\n",
    "import random\n",
    "import sys\n",
    "import copy\n",
    "from glob import glob\n",
    "from tqdm import tqdm\n",
    "import numpy as np\n",
    "\n",
    "import matplotlib.pyplot as plt\n",
    "%matplotlib inline"
   ]
  },
  {
   "cell_type": "code",
   "execution_count": 6,
   "metadata": {},
   "outputs": [],
   "source": [
    "BATCH_SIZE = 128\n",
    "FILTER_SIZES = [3, 4, 5]\n",
    "# CLIP_GRAD_NORM = 8"
   ]
  },
  {
   "cell_type": "code",
   "execution_count": 7,
   "metadata": {},
   "outputs": [
    {
     "data": {
      "text/plain": [
       "device(type='cuda', index=2)"
      ]
     },
     "execution_count": 7,
     "metadata": {},
     "output_type": "execute_result"
    }
   ],
   "source": [
    "device = torch.device(\"cuda:2\" if torch.cuda.is_available() else \"cpu\")\n",
    "device"
   ]
  },
  {
   "cell_type": "code",
   "execution_count": 8,
   "metadata": {},
   "outputs": [],
   "source": [
    "import re, string\n",
    "import spacy\n",
    "\n",
    "nlp = spacy.load('en_core_web_sm')\n",
    "punctuation = string.punctuation\n",
    "stopwords = spacy.lang.en.stop_words.STOP_WORDS\n",
    "\n",
    "def cleanup(text):\n",
    "    \"\"\"\n",
    "    Tokenization/text cleaning for all datasets except for SST.\n",
    "    Original taken from https://github.com/yoonkim/CNN_sentence/blob/master/process_data.py\n",
    "    \"\"\"\n",
    "    text = re.sub(r\"[^A-Za-z0-9(),!?\\'\\`]\", \" \", text)\n",
    "    text = re.sub(r\"\\'s\", \" \\'s\", text)\n",
    "    text = re.sub(r\"\\'ve\", \" \\'ve\", text)\n",
    "    text = re.sub(r\"n\\'t\", \" n\\'t\", text)\n",
    "    text = re.sub(r\"\\'re\", \" \\'re\", text)\n",
    "    text = re.sub(r\"\\'d\", \" \\'d\", text)\n",
    "    text = re.sub(r\"\\'ll\", \" \\'ll\", text)\n",
    "    text = re.sub(r\",\", \" , \", text)\n",
    "    text = re.sub(r\"!\", \" ! \", text)\n",
    "    text = re.sub(r\"\\(\", \" \\( \", text)\n",
    "    text = re.sub(r\"\\)\", \" \\) \", text)\n",
    "    text = re.sub(r\"\\?\", \" \\? \", text)\n",
    "    text = re.sub(r\"\\s{2,}\", \" \", text)\n",
    "    return text.strip()\n",
    "\n",
    "def tokenizer(sentence):\n",
    "    sentence = cleanup(sentence) # regex cleanup  \n",
    "    tokens = nlp(sentence, disable=['parser', 'tagger', 'ner']) # tokenizer\n",
    "    tokens = [tok.lemma_.lower().strip() for tok in tokens if tok.lemma_ != '-PRON-'] # lemmatizer\n",
    "    tokens = [tok for tok in tokens if tok not in punctuation] # punctuation removal\n",
    "\n",
    "    if len(tokens) < FILTER_SIZES[-1]:\n",
    "        tokens += ['<pad>']*(FILTER_SIZES[-1] - len(tokens))\n",
    "        \n",
    "    return tokens"
   ]
  },
  {
   "cell_type": "code",
   "execution_count": 9,
   "metadata": {},
   "outputs": [],
   "source": [
    "text_field = data.Field(batch_first=True, lower=True, tokenize=tokenizer)\n",
    "label_field = data.LabelField(dtype=torch.float)"
   ]
  },
  {
   "cell_type": "code",
   "execution_count": 10,
   "metadata": {},
   "outputs": [
    {
     "name": "stdout",
     "output_type": "stream",
     "text": [
      "Trainset length: 7201\n",
      "Validset length: 990\n",
      "Testset length: 1701\n"
     ]
    }
   ],
   "source": [
    "fields = [('Description', text_field), ('Category', label_field)] # order must be same as cols of csv\n",
    "trainset, validset, testset = data.TabularDataset.splits(\n",
    "                                        path=DPATH,\n",
    "                                        train='train.csv',\n",
    "                                        validation='dev.csv',\n",
    "                                        test='test.csv',\n",
    "                                        format='csv',\n",
    "                                        fields=fields,\n",
    "                                        skip_header=True)\n",
    "\n",
    "print(f'Trainset length: {len(trainset)}')\n",
    "print(f'Validset length: {len(validset)}')\n",
    "print(f'Testset length: {len(testset)}')"
   ]
  },
  {
   "cell_type": "code",
   "execution_count": 11,
   "metadata": {
    "scrolled": true
   },
   "outputs": [],
   "source": [
    "vecs = vocab.Vectors('glove.6B.300d.txt', EMBPATH)\n",
    "\n",
    "text_field.build_vocab(trainset, validset, testset, vectors=vecs) \n",
    "label_field.build_vocab(trainset, validset, testset)"
   ]
  },
  {
   "cell_type": "code",
   "execution_count": 12,
   "metadata": {},
   "outputs": [
    {
     "name": "stdout",
     "output_type": "stream",
     "text": [
      "Train DL length: 57\n",
      "Valid DL length: 8\n",
      "Test DL length: 14\n"
     ]
    }
   ],
   "source": [
    "trainloader, validloader, testloader = data.BucketIterator.splits(\n",
    "                                  (trainset, validset, testset), \n",
    "                                  batch_sizes=[BATCH_SIZE]*3,\n",
    "                                  sort_key=lambda x: len(x.Description),\n",
    "                                  sort_within_batch=True, \n",
    "                                  shuffle=True, \n",
    "                                  repeat=False,\n",
    "                                  device=device)\n",
    "\n",
    "print(f\"Train DL length: {len(trainloader)}\")\n",
    "print(f\"Valid DL length: {len(validloader)}\")\n",
    "print(f\"Test DL length: {len(testloader)}\")"
   ]
  },
  {
   "cell_type": "code",
   "execution_count": 13,
   "metadata": {},
   "outputs": [
    {
     "name": "stdout",
     "output_type": "stream",
     "text": [
      "Number of tokens: 8372\n",
      "Number of classes: 2\n"
     ]
    }
   ],
   "source": [
    "n_tokens = len(text_field.vocab)\n",
    "n_classes = len(label_field.vocab)\n",
    "\n",
    "print(f\"Number of tokens: {n_tokens}\")\n",
    "print(f\"Number of classes: {n_classes}\")"
   ]
  },
  {
   "cell_type": "markdown",
   "metadata": {},
   "source": [
    "`max_pool1d(tensor, kernel_size, stride=None)`: default value of `stride` is `kernel_size`\n",
    "and $L \\rightarrow \\left\\lfloor\\dfrac{L - K + 2P}{K} + 1\\right\\rfloor$"
   ]
  },
  {
   "cell_type": "code",
   "execution_count": 14,
   "metadata": {},
   "outputs": [],
   "source": [
    "class Network(nn.Module):\n",
    "    def __init__(self, vocab_size, embed_dim, n_filters, \n",
    "                 filter_sizes, output_dim, padding_idx,\n",
    "                 hidden_dim, n_layers, dropout=0.4):\n",
    "        super().__init__()\n",
    "        \n",
    "        # encoder\n",
    "        self.embedding = nn.Embedding(vocab_size, \n",
    "                                      embed_dim).from_pretrained(\n",
    "                                        text_field.vocab.vectors, # freeze=True by default\n",
    "                                        padding_idx=padding_idx)\n",
    "        \n",
    "        # concatenated convolutions\n",
    "        self.convs = nn.ModuleList([\n",
    "                                    nn.Sequential(\n",
    "                                        nn.ConstantPad1d((k//2, k//2 + k%2 - 1), value=0),\n",
    "                                        nn.Conv1d(embed_dim, n_filters, kernel_size=k)\n",
    "                                    ) for k in filter_sizes\n",
    "                                    ])\n",
    "\n",
    "        self.k_pool = sum(filter_sizes) // len(filter_sizes)\n",
    "        assert self.k_pool % 2 == 0, \"Kernel size should be even for perfect max pooling\"\n",
    "        \n",
    "        self.rnn = nn.LSTM(n_filters*len(filter_sizes), hidden_dim, n_layers,\n",
    "                           dropout=dropout, batch_first=True)\n",
    "        \n",
    "        # use MaxPool1d as well\n",
    "        \n",
    "        # linear layer\n",
    "        self.fc1 = nn.Linear(hidden_dim, hidden_dim // 2)\n",
    "        self.fc2 = nn.Linear(hidden_dim // 2, output_dim)\n",
    "        \n",
    "        # dropout\n",
    "        self.dropout = nn.Dropout(dropout)\n",
    "\n",
    "    def forward(self, x):\n",
    "        ### Embeddings ###\n",
    "        # input x has shape (B, S) which is batch of sentences (sentence is list of word indices)\n",
    "        x = self.dropout(self.embedding(x)) \n",
    "        # encoded input x has shape (B, S, E)\n",
    "        x = x.permute(0, 2, 1)\n",
    "        # shape (B, E, S)\n",
    "        \n",
    "        ### Convolution ###\n",
    "        # conved\n",
    "        conved = [F.relu(conv(x)) for conv in self.convs]\n",
    "        # gives list of shapes (B, N, S), where N is no of filters (\"same\" convolution)\n",
    "        \n",
    "        # pooled\n",
    "        pooled = [F.max_pool1d(conv, kernel_size=self.k_pool, padding=self.k_pool//2)\n",
    "                      for conv in conved]\n",
    "        # gives list of shapes (B, N, S'), S' = S // k_pool + 1\n",
    "        out = torch.cat(pooled, dim=1)\n",
    "        # shape (B, N*|F|, S'), where |F| is the no of different filter sizes\n",
    "        \n",
    "        ### GRU ###\n",
    "        out = out.permute(0, 2, 1)\n",
    "        # shape (B, S', N*|F|)\n",
    "        out, hidden = self.rnn(out)\n",
    "        # shape (B, S', H)\n",
    "        out = out.permute(0, 2, 1)\n",
    "        # shape (B, H, S')\n",
    "        out = F.max_pool1d(out, out.shape[2]).squeeze(2)\n",
    "        # shape (B, H)\n",
    "        \n",
    "        ### Linear ###\n",
    "        out = self.dropout(self.fc1(out))\n",
    "        # shape (B, H // 2)\n",
    "        out = self.fc2(F.relu(out))\n",
    "        # shape (B, 1)\n",
    "        \n",
    "        return out.squeeze(1) # out.shape = (B)"
   ]
  },
  {
   "cell_type": "code",
   "execution_count": 15,
   "metadata": {},
   "outputs": [
    {
     "data": {
      "text/plain": [
       "(8372, 300, 1)"
      ]
     },
     "execution_count": 15,
     "metadata": {},
     "output_type": "execute_result"
    }
   ],
   "source": [
    "n_tokens, embed_dim = text_field.vocab.vectors.shape\n",
    "pidx = text_field.vocab.stoi['<pad>']\n",
    "(n_tokens, embed_dim, pidx)"
   ]
  },
  {
   "cell_type": "code",
   "execution_count": 16,
   "metadata": {},
   "outputs": [
    {
     "data": {
      "text/plain": [
       "Network(\n",
       "  (embedding): Embedding(8372, 300, padding_idx=1)\n",
       "  (convs): ModuleList(\n",
       "    (0): Sequential(\n",
       "      (0): ConstantPad1d(padding=(1, 1), value=0)\n",
       "      (1): Conv1d(300, 128, kernel_size=(3,), stride=(1,))\n",
       "    )\n",
       "    (1): Sequential(\n",
       "      (0): ConstantPad1d(padding=(2, 1), value=0)\n",
       "      (1): Conv1d(300, 128, kernel_size=(4,), stride=(1,))\n",
       "    )\n",
       "    (2): Sequential(\n",
       "      (0): ConstantPad1d(padding=(2, 2), value=0)\n",
       "      (1): Conv1d(300, 128, kernel_size=(5,), stride=(1,))\n",
       "    )\n",
       "  )\n",
       "  (rnn): LSTM(384, 72, num_layers=3, batch_first=True, dropout=0.4)\n",
       "  (fc1): Linear(in_features=72, out_features=36, bias=True)\n",
       "  (fc2): Linear(in_features=36, out_features=1, bias=True)\n",
       "  (dropout): Dropout(p=0.4)\n",
       ")"
      ]
     },
     "execution_count": 16,
     "metadata": {},
     "output_type": "execute_result"
    }
   ],
   "source": [
    "kw = {\n",
    "    'vocab_size': n_tokens,\n",
    "    'embed_dim': embed_dim,\n",
    "    'n_filters': 128,\n",
    "    'filter_sizes': FILTER_SIZES,\n",
    "    'output_dim': 1,\n",
    "    'padding_idx': pidx,\n",
    "    'hidden_dim': 72,\n",
    "    'n_layers': 3\n",
    "}\n",
    "model = Network(**kw)\n",
    "\n",
    "model.to(device)"
   ]
  },
  {
   "cell_type": "code",
   "execution_count": 17,
   "metadata": {},
   "outputs": [],
   "source": [
    "criterion = nn.BCEWithLogitsLoss()\n",
    "# optimizer = optim.Adam(model.parameters(), lr=1e-4)\n",
    "optimizer = optim.RMSprop(model.parameters(), lr=1e-4, eps=1e-4, alpha=0.95, momentum=0.9, centered=True)\n",
    "\n",
    "def accuracy(fx, y):\n",
    "    ps = torch.sigmoid(fx)\n",
    "    preds = torch.round(ps)\n",
    "    return confusion_matrix(y.cpu().detach().view(-1), preds.cpu().detach().view(-1))"
   ]
  },
  {
   "cell_type": "code",
   "execution_count": 18,
   "metadata": {},
   "outputs": [],
   "source": [
    "def train(model, iterator, criterion, optimizer, others=False):\n",
    "    model.train()\n",
    "    epoch_loss, epoch_acc = 0, 0\n",
    "\n",
    "    for batch in iterator:\n",
    "        x, y = batch.Description.to(device), batch.Category.to(device)\n",
    "                \n",
    "        fx = model(x)        \n",
    "        loss = criterion(fx, y)\n",
    "        optimizer.zero_grad()\n",
    "        loss.backward()\n",
    "#         clip_grad_norm_(model.parameters(), CLIP_GRAD_NORM)\n",
    "        optimizer.step()\n",
    "        \n",
    "        epoch_acc += accuracy(fx, y)\n",
    "        epoch_loss += loss.item()\n",
    "    \n",
    "    epoch_loss /= len(iterator)\n",
    "    \n",
    "    tn, fp, fn, tp = epoch_acc.ravel()\n",
    "    acc = (tp + tn)/(tp + tn + fp + fn)\n",
    "    if others is False:\n",
    "        return epoch_loss, acc\n",
    "\n",
    "    prec = tp/(tp + fp)\n",
    "    rec = tp/(tp + fn)\n",
    "    f1 = 2*tp/(2*tp + fp + fn)\n",
    "    return epoch_loss, acc, prec, rec, f1 "
   ]
  },
  {
   "cell_type": "code",
   "execution_count": 19,
   "metadata": {},
   "outputs": [],
   "source": [
    "def evaluate(model, iterator, criterion, others=False):\n",
    "    model.eval()\n",
    "    epoch_loss, epoch_acc = 0, 0\n",
    "    \n",
    "    with torch.no_grad():\n",
    "        for batch in iterator:\n",
    "            x, y = batch.Description.to(device), batch.Category.to(device)\n",
    "            \n",
    "            fx = model(x)\n",
    "            loss = criterion(fx, y)\n",
    "            \n",
    "            epoch_acc += accuracy(fx, y)\n",
    "            epoch_loss += loss.item()\n",
    "\n",
    "    epoch_loss /= len(iterator)\n",
    "    \n",
    "    tn, fp, fn, tp = epoch_acc.ravel()\n",
    "    acc = (tp + tn)/(tp + tn + fp + fn)\n",
    "    if others is False:\n",
    "        return epoch_loss, acc\n",
    "\n",
    "    prec = tp/(tp + fp)\n",
    "    rec = tp/(tp + fn)\n",
    "    f1 = 2*tp/(2*tp + fp + fn)\n",
    "    return epoch_loss, acc, prec, rec, f1 "
   ]
  },
  {
   "cell_type": "code",
   "execution_count": 20,
   "metadata": {},
   "outputs": [],
   "source": [
    "best_model = type(model)(**kw)\n",
    "\n",
    "best_model.to(device)\n",
    "best_name = None"
   ]
  },
  {
   "cell_type": "code",
   "execution_count": 21,
   "metadata": {},
   "outputs": [
    {
     "data": {
      "text/plain": [
       "['<unk>', '<pad>']"
      ]
     },
     "execution_count": 21,
     "metadata": {},
     "output_type": "execute_result"
    }
   ],
   "source": [
    "text_field.vocab.itos[0:2]"
   ]
  },
  {
   "cell_type": "markdown",
   "metadata": {},
   "source": [
    "### Commmenting"
   ]
  },
  {
   "cell_type": "code",
   "execution_count": 22,
   "metadata": {},
   "outputs": [
    {
     "name": "stdout",
     "output_type": "stream",
     "text": [
      "Epoch: 01/30... | Train Loss: 0.6693 | Valid Loss: 0.6728 | Train Acc: 0.6084 | Valid Acc: 0.5848\n",
      "Epoch: 02/30... | Train Loss: 0.6507 | Valid Loss: 0.6645 | Train Acc: 0.6085 | Valid Acc: 0.5848\n",
      "Epoch: 03/30... | Train Loss: 0.6145 | Valid Loss: 0.5586 | Train Acc: 0.6895 | Valid Acc: 0.7374\n",
      "Epoch: 04/30... | Train Loss: 0.5123 | Valid Loss: 0.5011 | Train Acc: 0.7725 | Valid Acc: 0.7778\n",
      "Epoch: 05/30... | Train Loss: 0.4750 | Valid Loss: 0.4556 | Train Acc: 0.7996 | Valid Acc: 0.8000\n",
      "Epoch: 06/30... | Train Loss: 0.4538 | Valid Loss: 0.4606 | Train Acc: 0.8135 | Valid Acc: 0.7960\n",
      "Epoch: 07/30... | Train Loss: 0.4413 | Valid Loss: 0.4564 | Train Acc: 0.8164 | Valid Acc: 0.7949\n",
      "Epoch: 08/30... | Train Loss: 0.4222 | Valid Loss: 0.4466 | Train Acc: 0.8306 | Valid Acc: 0.8091\n",
      "Epoch: 09/30... | Train Loss: 0.4045 | Valid Loss: 0.4529 | Train Acc: 0.8363 | Valid Acc: 0.8030\n",
      "Epoch: 10/30... | Train Loss: 0.3876 | Valid Loss: 0.4826 | Train Acc: 0.8460 | Valid Acc: 0.7990\n",
      "Epoch: 11/30... | Train Loss: 0.3670 | Valid Loss: 0.4754 | Train Acc: 0.8568 | Valid Acc: 0.7747\n",
      "Epoch: 12/30... | Train Loss: 0.3440 | Valid Loss: 0.5892 | Train Acc: 0.8696 | Valid Acc: 0.7909\n",
      "Epoch: 13/30... | Train Loss: 0.3676 | Valid Loss: 0.4767 | Train Acc: 0.8521 | Valid Acc: 0.8040\n",
      "Epoch: 14/30... | Train Loss: 0.3181 | Valid Loss: 0.4945 | Train Acc: 0.8781 | Valid Acc: 0.7717\n",
      "Epoch: 15/30... | Train Loss: 0.2762 | Valid Loss: 0.5203 | Train Acc: 0.8971 | Valid Acc: 0.7899\n",
      "Epoch: 16/30... | Train Loss: 0.3013 | Valid Loss: 0.5288 | Train Acc: 0.8860 | Valid Acc: 0.7788\n",
      "Epoch: 17/30... | Train Loss: 0.2519 | Valid Loss: 0.5492 | Train Acc: 0.9049 | Valid Acc: 0.7828\n",
      "Epoch: 18/30... | Train Loss: 0.2265 | Valid Loss: 0.6136 | Train Acc: 0.9156 | Valid Acc: 0.7859\n",
      "Epoch: 19/30... | Train Loss: 0.2267 | Valid Loss: 0.5874 | Train Acc: 0.9154 | Valid Acc: 0.7455\n",
      "Epoch: 20/30... | Train Loss: 0.2439 | Valid Loss: 0.5622 | Train Acc: 0.9095 | Valid Acc: 0.7727\n",
      "Epoch: 21/30... | Train Loss: 0.2231 | Valid Loss: 0.5837 | Train Acc: 0.9167 | Valid Acc: 0.7808\n",
      "Epoch: 22/30... | Train Loss: 0.1841 | Valid Loss: 0.7207 | Train Acc: 0.9340 | Valid Acc: 0.8000\n",
      "Epoch: 23/30... | Train Loss: 0.1972 | Valid Loss: 0.6677 | Train Acc: 0.9303 | Valid Acc: 0.7838\n",
      "Epoch: 24/30... | Train Loss: 0.1590 | Valid Loss: 0.6990 | Train Acc: 0.9399 | Valid Acc: 0.7859\n",
      "Epoch: 25/30... | Train Loss: 0.2089 | Valid Loss: 0.6350 | Train Acc: 0.9204 | Valid Acc: 0.7909\n",
      "Epoch: 26/30... | Train Loss: 0.1996 | Valid Loss: 0.5785 | Train Acc: 0.9263 | Valid Acc: 0.7626\n",
      "Epoch: 27/30... | Train Loss: 0.1590 | Valid Loss: 0.6958 | Train Acc: 0.9382 | Valid Acc: 0.7727\n",
      "Epoch: 28/30... | Train Loss: 0.1402 | Valid Loss: 0.7037 | Train Acc: 0.9463 | Valid Acc: 0.7576\n",
      "Epoch: 29/30... | Train Loss: 0.1342 | Valid Loss: 0.7843 | Train Acc: 0.9474 | Valid Acc: 0.7697\n",
      "Epoch: 30/30... | Train Loss: 0.1405 | Valid Loss: 0.7687 | Train Acc: 0.9474 | Valid Acc: 0.7737\n",
      "Done\n",
      "\n",
      "Valid: Loss 0.4466 | Acc 0.8091 | Prec 0.8343 | Rec 0.6740 | F1 0.7456\n",
      "Test : Loss 0.4361 | Acc 0.8183 | Prec 0.8311 | Rec 0.6621 | F1 0.7370\n"
     ]
    }
   ],
   "source": [
    "EPOCHS = 30\n",
    "best_valid_acc = 0\n",
    "\n",
    "train_losses = []\n",
    "valid_losses = []\n",
    "\n",
    "for e in range(1, EPOCHS + 1):\n",
    "    train_loss, train_acc = train(model, trainloader, criterion, optimizer)\n",
    "    valid_loss, valid_acc = evaluate(model, validloader, criterion)\n",
    "\n",
    "    # model progress\n",
    "    print(f\"Epoch: {e:02}/{EPOCHS}... \"\n",
    "          f\"| Train Loss: {train_loss:.4f} \"\n",
    "          f\"| Valid Loss: {valid_loss:.4f} \"\n",
    "          f\"| Train Acc: {train_acc:.4f} \"\n",
    "          f\"| Valid Acc: {valid_acc:.4f}\")\n",
    "    \n",
    "    if best_valid_acc < valid_acc:\n",
    "        best_valid_acc = valid_acc\n",
    "\n",
    "        filename = f'model-{e:02}-{train_loss:.3f}-{valid_loss:.3f}-{valid_acc:.3f}.pt'\n",
    "#         torch.save(model.state_dict(), MPATH + filename)\n",
    "        \n",
    "        best_model.load_state_dict(model.state_dict())\n",
    "        best_name = filename\n",
    "    \n",
    "    # for model complexity graph\n",
    "    train_losses.append(train_loss)\n",
    "    valid_losses.append(valid_loss)\n",
    "\n",
    "print('Done\\n')\n",
    "vl, vacc, vprec, vrec, vf1 = evaluate(best_model, validloader, criterion, others=True)\n",
    "print(f'Valid: Loss {vl:.4f} | Acc {vacc:.4f} | Prec {vprec:.4f} | Rec {vrec:.4f} | F1 {vf1:.4f}')\n",
    "tl, tacc, tprec, trec, tf1 = evaluate(best_model, testloader, criterion, others=True)\n",
    "print(f'Test : Loss {tl:.4f} | Acc {tacc:.4f} | Prec {tprec:.4f} | Rec {trec:.4f} | F1 {tf1:.4f}')"
   ]
  },
  {
   "cell_type": "code",
   "execution_count": 23,
   "metadata": {},
   "outputs": [
    {
     "data": {
      "text/plain": [
       "'model-08-0.422-0.447-0.809.pt'"
      ]
     },
     "execution_count": 23,
     "metadata": {},
     "output_type": "execute_result"
    }
   ],
   "source": [
    "torch.save(best_model.state_dict(), MPATH + best_name)\n",
    "best_name"
   ]
  },
  {
   "cell_type": "code",
   "execution_count": 24,
   "metadata": {},
   "outputs": [
    {
     "data": {
      "text/plain": [
       "<matplotlib.legend.Legend at 0x7fadd40d1128>"
      ]
     },
     "execution_count": 24,
     "metadata": {},
     "output_type": "execute_result"
    },
    {
     "data": {
      "image/png": "[encoded data removed]",
      "text/plain": [
       "<Figure size 432x288 with 1 Axes>"
      ]
     },
     "metadata": {
      "needs_background": "light"
     },
     "output_type": "display_data"
    }
   ],
   "source": [
    "plt.plot(train_losses, label='Train loss')\n",
    "plt.plot(valid_losses, label='Valid loss')\n",
    "plt.legend(frameon=False)\n",
    "\n",
    "# Time: 5s per epoch\n",
    "# Accuracy: 81.8%"
   ]
  },
  {
   "cell_type": "code",
   "execution_count": 26,
   "metadata": {},
   "outputs": [
    {
     "name": "stdout",
     "output_type": "stream",
     "text": [
      "../models/notebook6/commenting/model-08-0.422-0.447-0.809.pt\n"
     ]
    },
    {
     "data": {
      "text/plain": [
       "IncompatibleKeys(missing_keys=[], unexpected_keys=[])"
      ]
     },
     "execution_count": 26,
     "metadata": {},
     "output_type": "execute_result"
    }
   ],
   "source": [
    "ls = glob(MPATH + '*')\n",
    "ls.sort()\n",
    "filename = ls[-1]\n",
    "print(filename)\n",
    "\n",
    "model = Network(**kw).to(device)\n",
    "\n",
    "model.load_state_dict(torch.load(filename, map_location=device))"
   ]
  },
  {
   "cell_type": "code",
   "execution_count": 27,
   "metadata": {},
   "outputs": [],
   "source": [
    "def predict(sentence):\n",
    "    tokenized = tokenizer(sentence)\n",
    "    indexed = [text_field.vocab.stoi[t] for t in tokenized]\n",
    "    tensor = torch.LongTensor(indexed).to(device)\n",
    "    \n",
    "    print(f'Tokenized: {tokenized}')\n",
    "    print(f'Indexed: {indexed}')\n",
    "    print(f'Tensor ({tensor.shape}): {tensor}')\n",
    "    \n",
    "    tensor = tensor.unsqueeze(0) # as we have used batch_first=True\n",
    "    with torch.no_grad():\n",
    "        model.eval()\n",
    "        fx = model(tensor)\n",
    "\n",
    "    print(f'Tensor w/ batch_size ({tensor.shape}): {tensor}')\n",
    "    print(f'Logit Tensor ({fx.shape}): {fx}')\n",
    "    return torch.sigmoid(fx).item()"
   ]
  },
  {
   "cell_type": "code",
   "execution_count": 28,
   "metadata": {},
   "outputs": [
    {
     "name": "stdout",
     "output_type": "stream",
     "text": [
      "Tokenized: ['i', 'have', 'pry', 'eye', 'on', 'me', 'this', 'morning', 'at', 'the', 'bus', 'station']\n",
      "Indexed: [6, 34, 0, 455, 12, 10, 30, 140, 13, 5, 36, 65]\n",
      "Tensor (torch.Size([12])): tensor([  6,  34,   0, 455,  12,  10,  30, 140,  13,   5,  36,  65],\n",
      "       device='cuda:2')\n",
      "Tensor w/ batch_size (torch.Size([1, 12])): tensor([[  6,  34,   0, 455,  12,  10,  30, 140,  13,   5,  36,  65]],\n",
      "       device='cuda:2')\n",
      "Logit Tensor (torch.Size([1])): tensor([-0.1061], device='cuda:2')\n"
     ]
    },
    {
     "data": {
      "text/plain": [
       "0.4735102951526642"
      ]
     },
     "execution_count": 28,
     "metadata": {},
     "output_type": "execute_result"
    }
   ],
   "source": [
    "predict(\"I had prying eyes on me this morning at the bus station\")"
   ]
  },
  {
   "cell_type": "code",
   "execution_count": 29,
   "metadata": {},
   "outputs": [
    {
     "name": "stdout",
     "output_type": "stream",
     "text": [
      "Tokenized: ['i', 'have', 'a', 'stalker', 'this', 'morning', 'at', 'the', 'bus', 'station']\n",
      "Indexed: [6, 34, 4, 2883, 30, 140, 13, 5, 36, 65]\n",
      "Tensor (torch.Size([10])): tensor([   6,   34,    4, 2883,   30,  140,   13,    5,   36,   65],\n",
      "       device='cuda:2')\n",
      "Tensor w/ batch_size (torch.Size([1, 10])): tensor([[   6,   34,    4, 2883,   30,  140,   13,    5,   36,   65]],\n",
      "       device='cuda:2')\n",
      "Logit Tensor (torch.Size([1])): tensor([-1.0785], device='cuda:2')\n"
     ]
    },
    {
     "data": {
      "text/plain": [
       "0.25378960371017456"
      ]
     },
     "execution_count": 29,
     "metadata": {},
     "output_type": "execute_result"
    }
   ],
   "source": [
    "predict(\"I had a stalker this morning at the bus station\")"
   ]
  },
  {
   "cell_type": "code",
   "execution_count": 30,
   "metadata": {},
   "outputs": [
    {
     "name": "stdout",
     "output_type": "stream",
     "text": [
      "Tokenized: ['this', 'person', 'follow', 'me', 'at', 'night', 'and', 'try', 'to', 'sexually', 'harass', 'me']\n",
      "Indexed: [30, 144, 54, 10, 13, 88, 3, 44, 7, 211, 129, 10]\n",
      "Tensor (torch.Size([12])): tensor([ 30, 144,  54,  10,  13,  88,   3,  44,   7, 211, 129,  10],\n",
      "       device='cuda:2')\n",
      "Tensor w/ batch_size (torch.Size([1, 12])): tensor([[ 30, 144,  54,  10,  13,  88,   3,  44,   7, 211, 129,  10]],\n",
      "       device='cuda:2')\n",
      "Logit Tensor (torch.Size([1])): tensor([-1.4611], device='cuda:2')\n"
     ]
    },
    {
     "data": {
      "text/plain": [
       "0.18829233944416046"
      ]
     },
     "execution_count": 30,
     "metadata": {},
     "output_type": "execute_result"
    }
   ],
   "source": [
    "predict(\"This person followed me at night and tried to sexually harass me\")"
   ]
  },
  {
   "cell_type": "code",
   "execution_count": 31,
   "metadata": {},
   "outputs": [
    {
     "name": "stdout",
     "output_type": "stream",
     "text": [
      "Tokenized: ['there', 'be', 'quite', 'a', 'few', 'people', 'pass', 'lewd', 'remark', 'at', 'a', 'young', 'lady']\n",
      "Indexed: [38, 2, 437, 4, 121, 85, 49, 292, 491, 13, 4, 209, 130]\n",
      "Tensor (torch.Size([13])): tensor([ 38,   2, 437,   4, 121,  85,  49, 292, 491,  13,   4, 209, 130],\n",
      "       device='cuda:2')\n",
      "Tensor w/ batch_size (torch.Size([1, 13])): tensor([[ 38,   2, 437,   4, 121,  85,  49, 292, 491,  13,   4, 209, 130]],\n",
      "       device='cuda:2')\n",
      "Logit Tensor (torch.Size([1])): tensor([1.9259], device='cuda:2')\n"
     ]
    },
    {
     "data": {
      "text/plain": [
       "0.8727921843528748"
      ]
     },
     "execution_count": 31,
     "metadata": {},
     "output_type": "execute_result"
    }
   ],
   "source": [
    "predict(\"There were quite a few people passing lewd remarks at a young lady\")"
   ]
  },
  {
   "cell_type": "code",
   "execution_count": 32,
   "metadata": {},
   "outputs": [
    {
     "name": "stdout",
     "output_type": "stream",
     "text": [
      "Tokenized: ['the', 'person', 'grab', 'the', 'woman', \"'s\", 'pubis', 'in', 'the', 'park']\n",
      "Indexed: [5, 144, 238, 5, 108, 100, 7053, 8, 5, 220]\n",
      "Tensor (torch.Size([10])): tensor([   5,  144,  238,    5,  108,  100, 7053,    8,    5,  220],\n",
      "       device='cuda:2')\n",
      "Tensor w/ batch_size (torch.Size([1, 10])): tensor([[   5,  144,  238,    5,  108,  100, 7053,    8,    5,  220]],\n",
      "       device='cuda:2')\n",
      "Logit Tensor (torch.Size([1])): tensor([-1.4524], device='cuda:2')\n"
     ]
    },
    {
     "data": {
      "text/plain": [
       "0.18963053822517395"
      ]
     },
     "execution_count": 32,
     "metadata": {},
     "output_type": "execute_result"
    }
   ],
   "source": [
    "predict(\"The person grabbed the woman's pubes in the park\")"
   ]
  },
  {
   "cell_type": "markdown",
   "metadata": {},
   "source": [
    "### Groping"
   ]
  },
  {
   "cell_type": "code",
   "execution_count": 22,
   "metadata": {},
   "outputs": [
    {
     "name": "stdout",
     "output_type": "stream",
     "text": [
      "Epoch: 01/30... | Train Loss: 0.6393 | Valid Loss: 0.6071 | Train Acc: 0.6992 | Valid Acc: 0.7111\n",
      "Epoch: 02/30... | Train Loss: 0.6179 | Valid Loss: 0.6042 | Train Acc: 0.6992 | Valid Acc: 0.7111\n",
      "Epoch: 03/30... | Train Loss: 0.5962 | Valid Loss: 0.5189 | Train Acc: 0.6996 | Valid Acc: 0.7434\n",
      "Epoch: 04/30... | Train Loss: 0.4965 | Valid Loss: 0.4052 | Train Acc: 0.7877 | Valid Acc: 0.8374\n",
      "Epoch: 05/30... | Train Loss: 0.3956 | Valid Loss: 0.3734 | Train Acc: 0.8490 | Valid Acc: 0.8535\n",
      "Epoch: 06/30... | Train Loss: 0.3691 | Valid Loss: 0.3515 | Train Acc: 0.8615 | Valid Acc: 0.8566\n",
      "Epoch: 07/30... | Train Loss: 0.3435 | Valid Loss: 0.3599 | Train Acc: 0.8742 | Valid Acc: 0.8606\n",
      "Epoch: 08/30... | Train Loss: 0.3292 | Valid Loss: 0.3594 | Train Acc: 0.8746 | Valid Acc: 0.8626\n",
      "Epoch: 09/30... | Train Loss: 0.3064 | Valid Loss: 0.3682 | Train Acc: 0.8874 | Valid Acc: 0.8566\n",
      "Epoch: 10/30... | Train Loss: 0.3079 | Valid Loss: 0.4073 | Train Acc: 0.8879 | Valid Acc: 0.8293\n",
      "Epoch: 11/30... | Train Loss: 0.3008 | Valid Loss: 0.3774 | Train Acc: 0.8914 | Valid Acc: 0.8636\n",
      "Epoch: 12/30... | Train Loss: 0.2593 | Valid Loss: 0.3568 | Train Acc: 0.9070 | Valid Acc: 0.8626\n",
      "Epoch: 13/30... | Train Loss: 0.2558 | Valid Loss: 0.3686 | Train Acc: 0.9074 | Valid Acc: 0.8535\n",
      "Epoch: 14/30... | Train Loss: 0.2533 | Valid Loss: 0.3895 | Train Acc: 0.9074 | Valid Acc: 0.8505\n",
      "Epoch: 15/30... | Train Loss: 0.2326 | Valid Loss: 0.3905 | Train Acc: 0.9156 | Valid Acc: 0.8596\n",
      "Epoch: 16/30... | Train Loss: 0.2259 | Valid Loss: 0.3927 | Train Acc: 0.9186 | Valid Acc: 0.8535\n",
      "Epoch: 17/30... | Train Loss: 0.2072 | Valid Loss: 0.3949 | Train Acc: 0.9245 | Valid Acc: 0.8465\n",
      "Epoch: 18/30... | Train Loss: 0.1837 | Valid Loss: 0.4069 | Train Acc: 0.9329 | Valid Acc: 0.8677\n",
      "Epoch: 19/30... | Train Loss: 0.1806 | Valid Loss: 0.4290 | Train Acc: 0.9361 | Valid Acc: 0.8707\n",
      "Epoch: 20/30... | Train Loss: 0.1742 | Valid Loss: 0.3997 | Train Acc: 0.9343 | Valid Acc: 0.8545\n",
      "Epoch: 21/30... | Train Loss: 0.1594 | Valid Loss: 0.4342 | Train Acc: 0.9406 | Valid Acc: 0.8586\n",
      "Epoch: 22/30... | Train Loss: 0.1460 | Valid Loss: 0.4601 | Train Acc: 0.9451 | Valid Acc: 0.8394\n",
      "Epoch: 23/30... | Train Loss: 0.1575 | Valid Loss: 0.4387 | Train Acc: 0.9410 | Valid Acc: 0.8535\n",
      "Epoch: 24/30... | Train Loss: 0.1283 | Valid Loss: 0.4810 | Train Acc: 0.9538 | Valid Acc: 0.8556\n",
      "Epoch: 25/30... | Train Loss: 0.1452 | Valid Loss: 0.4536 | Train Acc: 0.9450 | Valid Acc: 0.8505\n",
      "Epoch: 26/30... | Train Loss: 0.1215 | Valid Loss: 0.5168 | Train Acc: 0.9535 | Valid Acc: 0.8313\n",
      "Epoch: 27/30... | Train Loss: 0.1213 | Valid Loss: 0.5078 | Train Acc: 0.9560 | Valid Acc: 0.8515\n",
      "Epoch: 28/30... | Train Loss: 0.1088 | Valid Loss: 0.5444 | Train Acc: 0.9622 | Valid Acc: 0.8646\n",
      "Epoch: 29/30... | Train Loss: 0.1015 | Valid Loss: 0.5860 | Train Acc: 0.9614 | Valid Acc: 0.8616\n",
      "Epoch: 30/30... | Train Loss: 0.1071 | Valid Loss: 0.5383 | Train Acc: 0.9589 | Valid Acc: 0.8687\n",
      "Done\n",
      "\n",
      "Valid: Loss 0.4290 | Acc 0.8707 | Prec 0.8292 | Rec 0.6958 | F1 0.7567\n",
      "Test : Loss 0.4190 | Acc 0.8760 | Prec 0.8618 | Rec 0.7124 | F1 0.7800\n"
     ]
    }
   ],
   "source": [
    "EPOCHS = 30\n",
    "best_valid_acc = 0\n",
    "\n",
    "train_losses = []\n",
    "valid_losses = []\n",
    "\n",
    "for e in range(1, EPOCHS + 1):\n",
    "    train_loss, train_acc = train(model, trainloader, criterion, optimizer)\n",
    "    valid_loss, valid_acc = evaluate(model, validloader, criterion)\n",
    "\n",
    "    # model progress\n",
    "    print(f\"Epoch: {e:02}/{EPOCHS}... \"\n",
    "          f\"| Train Loss: {train_loss:.4f} \"\n",
    "          f\"| Valid Loss: {valid_loss:.4f} \"\n",
    "          f\"| Train Acc: {train_acc:.4f} \"\n",
    "          f\"| Valid Acc: {valid_acc:.4f}\")\n",
    "    \n",
    "    if best_valid_acc < valid_acc:\n",
    "        best_valid_acc = valid_acc\n",
    "\n",
    "        filename = f'model-{e:02}-{train_loss:.3f}-{valid_loss:.3f}-{valid_acc:.3f}.pt'\n",
    "#         torch.save(model.state_dict(), MPATH + filename)\n",
    "        \n",
    "        best_model.load_state_dict(model.state_dict())\n",
    "        best_name = filename\n",
    "    \n",
    "    # for model complexity graph\n",
    "    train_losses.append(train_loss)\n",
    "    valid_losses.append(valid_loss)\n",
    "\n",
    "print('Done\\n')\n",
    "vl, vacc, vprec, vrec, vf1 = evaluate(best_model, validloader, criterion, others=True)\n",
    "print(f'Valid: Loss {vl:.4f} | Acc {vacc:.4f} | Prec {vprec:.4f} | Rec {vrec:.4f} | F1 {vf1:.4f}')\n",
    "tl, tacc, tprec, trec, tf1 = evaluate(best_model, testloader, criterion, others=True)\n",
    "print(f'Test : Loss {tl:.4f} | Acc {tacc:.4f} | Prec {tprec:.4f} | Rec {trec:.4f} | F1 {tf1:.4f}')"
   ]
  },
  {
   "cell_type": "code",
   "execution_count": 23,
   "metadata": {},
   "outputs": [
    {
     "data": {
      "text/plain": [
       "'model-19-0.181-0.429-0.871.pt'"
      ]
     },
     "execution_count": 23,
     "metadata": {},
     "output_type": "execute_result"
    }
   ],
   "source": [
    "torch.save(best_model.state_dict(), MPATH + best_name)\n",
    "best_name"
   ]
  },
  {
   "cell_type": "code",
   "execution_count": 24,
   "metadata": {},
   "outputs": [
    {
     "data": {
      "text/plain": [
       "<matplotlib.legend.Legend at 0x7f836db01518>"
      ]
     },
     "execution_count": 24,
     "metadata": {},
     "output_type": "execute_result"
    },
    {
     "data": {
      "image/png": "[encoded data removed]",
      "text/plain": [
       "<Figure size 432x288 with 1 Axes>"
      ]
     },
     "metadata": {
      "needs_background": "light"
     },
     "output_type": "display_data"
    }
   ],
   "source": [
    "plt.plot(train_losses, label='Train loss')\n",
    "plt.plot(valid_losses, label='Valid loss')\n",
    "plt.legend(frameon=False)\n",
    "\n",
    "# Time: 5s per epoch\n",
    "# Accuracy: 87.60%"
   ]
  },
  {
   "cell_type": "code",
   "execution_count": 26,
   "metadata": {},
   "outputs": [
    {
     "name": "stdout",
     "output_type": "stream",
     "text": [
      "../models/notebook6/groping/model-19-0.181-0.429-0.871.pt\n"
     ]
    },
    {
     "data": {
      "text/plain": [
       "IncompatibleKeys(missing_keys=[], unexpected_keys=[])"
      ]
     },
     "execution_count": 26,
     "metadata": {},
     "output_type": "execute_result"
    }
   ],
   "source": [
    "ls = glob(MPATH + '*')\n",
    "ls.sort()\n",
    "filename = ls[-1]\n",
    "print(filename)\n",
    "\n",
    "model = Network(**kw).to(device)\n",
    "\n",
    "model.load_state_dict(torch.load(filename, map_location=device))"
   ]
  },
  {
   "cell_type": "code",
   "execution_count": 27,
   "metadata": {},
   "outputs": [],
   "source": [
    "def predict(sentence):\n",
    "    tokenized = tokenizer(sentence)\n",
    "    indexed = [text_field.vocab.stoi[t] for t in tokenized]\n",
    "    tensor = torch.LongTensor(indexed).to(device)\n",
    "    \n",
    "    print(f'Tokenized: {tokenized}')\n",
    "    print(f'Indexed: {indexed}')\n",
    "    print(f'Tensor ({tensor.shape}): {tensor}')\n",
    "    \n",
    "    tensor = tensor.unsqueeze(0) # as we have used batch_first=True\n",
    "    with torch.no_grad():\n",
    "        model.eval()\n",
    "        fx = model(tensor)\n",
    "\n",
    "    print(f'Tensor w/ batch_size ({tensor.shape}): {tensor}')\n",
    "    print(f'Logit Tensor ({fx.shape}): {fx}')\n",
    "    return torch.sigmoid(fx).item()"
   ]
  },
  {
   "cell_type": "code",
   "execution_count": 28,
   "metadata": {},
   "outputs": [
    {
     "name": "stdout",
     "output_type": "stream",
     "text": [
      "Tokenized: ['i', 'have', 'pry', 'eye', 'on', 'me', 'this', 'morning', 'at', 'the', 'bus', 'station']\n",
      "Indexed: [6, 34, 0, 455, 12, 10, 30, 140, 13, 5, 36, 65]\n",
      "Tensor (torch.Size([12])): tensor([  6,  34,   0, 455,  12,  10,  30, 140,  13,   5,  36,  65],\n",
      "       device='cuda:2')\n",
      "Tensor w/ batch_size (torch.Size([1, 12])): tensor([[  6,  34,   0, 455,  12,  10,  30, 140,  13,   5,  36,  65]],\n",
      "       device='cuda:2')\n",
      "Logit Tensor (torch.Size([1])): tensor([-4.3627], device='cuda:2')\n"
     ]
    },
    {
     "data": {
      "text/plain": [
       "0.012583277188241482"
      ]
     },
     "execution_count": 28,
     "metadata": {},
     "output_type": "execute_result"
    }
   ],
   "source": [
    "predict(\"I had prying eyes on me this morning at the bus station\")"
   ]
  },
  {
   "cell_type": "code",
   "execution_count": 29,
   "metadata": {},
   "outputs": [
    {
     "name": "stdout",
     "output_type": "stream",
     "text": [
      "Tokenized: ['i', 'have', 'a', 'stalker', 'this', 'morning', 'at', 'the', 'bus', 'station']\n",
      "Indexed: [6, 34, 4, 2883, 30, 140, 13, 5, 36, 65]\n",
      "Tensor (torch.Size([10])): tensor([   6,   34,    4, 2883,   30,  140,   13,    5,   36,   65],\n",
      "       device='cuda:2')\n",
      "Tensor w/ batch_size (torch.Size([1, 10])): tensor([[   6,   34,    4, 2883,   30,  140,   13,    5,   36,   65]],\n",
      "       device='cuda:2')\n",
      "Logit Tensor (torch.Size([1])): tensor([-1.2134], device='cuda:2')\n"
     ]
    },
    {
     "data": {
      "text/plain": [
       "0.22909575700759888"
      ]
     },
     "execution_count": 29,
     "metadata": {},
     "output_type": "execute_result"
    }
   ],
   "source": [
    "predict(\"I had a stalker this morning at the bus station\")"
   ]
  },
  {
   "cell_type": "code",
   "execution_count": 30,
   "metadata": {},
   "outputs": [
    {
     "name": "stdout",
     "output_type": "stream",
     "text": [
      "Tokenized: ['this', 'person', 'follow', 'me', 'at', 'night', 'and', 'try', 'to', 'sexually', 'harass', 'me']\n",
      "Indexed: [30, 144, 54, 10, 13, 88, 3, 44, 7, 211, 129, 10]\n",
      "Tensor (torch.Size([12])): tensor([ 30, 144,  54,  10,  13,  88,   3,  44,   7, 211, 129,  10],\n",
      "       device='cuda:2')\n",
      "Tensor w/ batch_size (torch.Size([1, 12])): tensor([[ 30, 144,  54,  10,  13,  88,   3,  44,   7, 211, 129,  10]],\n",
      "       device='cuda:2')\n",
      "Logit Tensor (torch.Size([1])): tensor([2.5384], device='cuda:2')\n"
     ]
    },
    {
     "data": {
      "text/plain": [
       "0.9267875552177429"
      ]
     },
     "execution_count": 30,
     "metadata": {},
     "output_type": "execute_result"
    }
   ],
   "source": [
    "predict(\"This person followed me at night and tried to sexually harass me\")"
   ]
  },
  {
   "cell_type": "code",
   "execution_count": 31,
   "metadata": {},
   "outputs": [
    {
     "name": "stdout",
     "output_type": "stream",
     "text": [
      "Tokenized: ['there', 'be', 'quite', 'a', 'few', 'people', 'pass', 'lewd', 'remark', 'at', 'a', 'young', 'lady']\n",
      "Indexed: [38, 2, 437, 4, 121, 85, 49, 292, 491, 13, 4, 209, 130]\n",
      "Tensor (torch.Size([13])): tensor([ 38,   2, 437,   4, 121,  85,  49, 292, 491,  13,   4, 209, 130],\n",
      "       device='cuda:2')\n",
      "Tensor w/ batch_size (torch.Size([1, 13])): tensor([[ 38,   2, 437,   4, 121,  85,  49, 292, 491,  13,   4, 209, 130]],\n",
      "       device='cuda:2')\n",
      "Logit Tensor (torch.Size([1])): tensor([-5.1673], device='cuda:2')\n"
     ]
    },
    {
     "data": {
      "text/plain": [
       "0.0056678359396755695"
      ]
     },
     "execution_count": 31,
     "metadata": {},
     "output_type": "execute_result"
    }
   ],
   "source": [
    "predict(\"There were quite a few people passing lewd remarks at a young lady\")"
   ]
  },
  {
   "cell_type": "code",
   "execution_count": 32,
   "metadata": {},
   "outputs": [
    {
     "name": "stdout",
     "output_type": "stream",
     "text": [
      "Tokenized: ['the', 'person', 'grab', 'the', 'woman', \"'s\", 'pubis', 'in', 'the', 'park']\n",
      "Indexed: [5, 144, 238, 5, 108, 100, 7053, 8, 5, 220]\n",
      "Tensor (torch.Size([10])): tensor([   5,  144,  238,    5,  108,  100, 7053,    8,    5,  220],\n",
      "       device='cuda:2')\n",
      "Tensor w/ batch_size (torch.Size([1, 10])): tensor([[   5,  144,  238,    5,  108,  100, 7053,    8,    5,  220]],\n",
      "       device='cuda:2')\n",
      "Logit Tensor (torch.Size([1])): tensor([3.7533], device='cuda:2')\n"
     ]
    },
    {
     "data": {
      "text/plain": [
       "0.9770959615707397"
      ]
     },
     "execution_count": 32,
     "metadata": {},
     "output_type": "execute_result"
    }
   ],
   "source": [
    "predict(\"The person grabbed the woman's pubes in the park\")"
   ]
  },
  {
   "cell_type": "markdown",
   "metadata": {},
   "source": [
    "### Ogling"
   ]
  },
  {
   "cell_type": "code",
   "execution_count": 22,
   "metadata": {},
   "outputs": [
    {
     "name": "stdout",
     "output_type": "stream",
     "text": [
      "Epoch: 01/30... | Train Loss: 0.5875 | Valid Loss: 0.5177 | Train Acc: 0.7645 | Valid Acc: 0.7848\n",
      "Epoch: 02/30... | Train Loss: 0.5234 | Valid Loss: 0.5147 | Train Acc: 0.7881 | Valid Acc: 0.7848\n",
      "Epoch: 03/30... | Train Loss: 0.5169 | Valid Loss: 0.5048 | Train Acc: 0.7881 | Valid Acc: 0.7848\n",
      "Epoch: 04/30... | Train Loss: 0.4993 | Valid Loss: 0.4659 | Train Acc: 0.7881 | Valid Acc: 0.7848\n",
      "Epoch: 05/30... | Train Loss: 0.4702 | Valid Loss: 0.4565 | Train Acc: 0.7939 | Valid Acc: 0.8152\n",
      "Epoch: 06/30... | Train Loss: 0.4528 | Valid Loss: 0.4441 | Train Acc: 0.8195 | Valid Acc: 0.8283\n",
      "Epoch: 07/30... | Train Loss: 0.4355 | Valid Loss: 0.4218 | Train Acc: 0.8306 | Valid Acc: 0.8364\n",
      "Epoch: 08/30... | Train Loss: 0.4192 | Valid Loss: 0.4261 | Train Acc: 0.8368 | Valid Acc: 0.8364\n",
      "Epoch: 09/30... | Train Loss: 0.4119 | Valid Loss: 0.4228 | Train Acc: 0.8403 | Valid Acc: 0.8202\n",
      "Epoch: 10/30... | Train Loss: 0.4003 | Valid Loss: 0.4233 | Train Acc: 0.8425 | Valid Acc: 0.8394\n",
      "Epoch: 11/30... | Train Loss: 0.3926 | Valid Loss: 0.4152 | Train Acc: 0.8478 | Valid Acc: 0.8343\n",
      "Epoch: 12/30... | Train Loss: 0.3687 | Valid Loss: 0.4280 | Train Acc: 0.8589 | Valid Acc: 0.8354\n",
      "Epoch: 13/30... | Train Loss: 0.3564 | Valid Loss: 0.4396 | Train Acc: 0.8643 | Valid Acc: 0.8253\n",
      "Epoch: 14/30... | Train Loss: 0.3546 | Valid Loss: 0.4372 | Train Acc: 0.8606 | Valid Acc: 0.8273\n",
      "Epoch: 15/30... | Train Loss: 0.3397 | Valid Loss: 0.4223 | Train Acc: 0.8734 | Valid Acc: 0.8273\n",
      "Epoch: 16/30... | Train Loss: 0.3304 | Valid Loss: 0.4204 | Train Acc: 0.8736 | Valid Acc: 0.8303\n",
      "Epoch: 17/30... | Train Loss: 0.3020 | Valid Loss: 0.4423 | Train Acc: 0.8871 | Valid Acc: 0.8061\n",
      "Epoch: 18/30... | Train Loss: 0.2897 | Valid Loss: 0.4453 | Train Acc: 0.8914 | Valid Acc: 0.8273\n",
      "Epoch: 19/30... | Train Loss: 0.2787 | Valid Loss: 0.4506 | Train Acc: 0.8956 | Valid Acc: 0.8283\n",
      "Epoch: 20/30... | Train Loss: 0.2444 | Valid Loss: 0.5109 | Train Acc: 0.9042 | Valid Acc: 0.8293\n",
      "Epoch: 21/30... | Train Loss: 0.2405 | Valid Loss: 0.4924 | Train Acc: 0.9120 | Valid Acc: 0.8242\n",
      "Epoch: 22/30... | Train Loss: 0.2811 | Valid Loss: 0.4440 | Train Acc: 0.8946 | Valid Acc: 0.8202\n",
      "Epoch: 23/30... | Train Loss: 0.2078 | Valid Loss: 0.5413 | Train Acc: 0.9201 | Valid Acc: 0.8131\n",
      "Epoch: 24/30... | Train Loss: 0.2468 | Valid Loss: 0.5255 | Train Acc: 0.9067 | Valid Acc: 0.8303\n",
      "Epoch: 25/30... | Train Loss: 0.2031 | Valid Loss: 0.5354 | Train Acc: 0.9240 | Valid Acc: 0.7909\n",
      "Epoch: 26/30... | Train Loss: 0.1934 | Valid Loss: 0.5286 | Train Acc: 0.9260 | Valid Acc: 0.8283\n",
      "Epoch: 27/30... | Train Loss: 0.1673 | Valid Loss: 0.5843 | Train Acc: 0.9386 | Valid Acc: 0.8222\n",
      "Epoch: 28/30... | Train Loss: 0.1581 | Valid Loss: 0.5699 | Train Acc: 0.9382 | Valid Acc: 0.8111\n",
      "Epoch: 29/30... | Train Loss: 0.1563 | Valid Loss: 0.7297 | Train Acc: 0.9390 | Valid Acc: 0.8384\n",
      "Epoch: 30/30... | Train Loss: 0.1631 | Valid Loss: 0.6721 | Train Acc: 0.9354 | Valid Acc: 0.8303\n",
      "Done\n",
      "\n",
      "Valid: Loss 0.4233 | Acc 0.8394 | Prec 0.7596 | Rec 0.3709 | F1 0.4984\n",
      "Test : Loss 0.4446 | Acc 0.8342 | Prec 0.7598 | Rec 0.3627 | F1 0.4910\n"
     ]
    }
   ],
   "source": [
    "EPOCHS = 30\n",
    "best_valid_acc = 0\n",
    "\n",
    "train_losses = []\n",
    "valid_losses = []\n",
    "\n",
    "for e in range(1, EPOCHS + 1):\n",
    "    train_loss, train_acc = train(model, trainloader, criterion, optimizer)\n",
    "    valid_loss, valid_acc = evaluate(model, validloader, criterion)\n",
    "\n",
    "    # model progress\n",
    "    print(f\"Epoch: {e:02}/{EPOCHS}... \"\n",
    "          f\"| Train Loss: {train_loss:.4f} \"\n",
    "          f\"| Valid Loss: {valid_loss:.4f} \"\n",
    "          f\"| Train Acc: {train_acc:.4f} \"\n",
    "          f\"| Valid Acc: {valid_acc:.4f}\")\n",
    "    \n",
    "    if best_valid_acc < valid_acc:\n",
    "        best_valid_acc = valid_acc\n",
    "\n",
    "        filename = f'model-{e:02}-{train_loss:.3f}-{valid_loss:.3f}-{valid_acc:.3f}.pt'\n",
    "#         torch.save(model.state_dict(), MPATH + filename)\n",
    "        \n",
    "        best_model.load_state_dict(model.state_dict())\n",
    "        best_name = filename\n",
    "    \n",
    "    # for model complexity graph\n",
    "    train_losses.append(train_loss)\n",
    "    valid_losses.append(valid_loss)\n",
    "\n",
    "print('Done\\n')\n",
    "vl, vacc, vprec, vrec, vf1 = evaluate(best_model, validloader, criterion, others=True)\n",
    "print(f'Valid: Loss {vl:.4f} | Acc {vacc:.4f} | Prec {vprec:.4f} | Rec {vrec:.4f} | F1 {vf1:.4f}')\n",
    "tl, tacc, tprec, trec, tf1 = evaluate(best_model, testloader, criterion, others=True)\n",
    "print(f'Test : Loss {tl:.4f} | Acc {tacc:.4f} | Prec {tprec:.4f} | Rec {trec:.4f} | F1 {tf1:.4f}')"
   ]
  },
  {
   "cell_type": "code",
   "execution_count": 23,
   "metadata": {},
   "outputs": [
    {
     "data": {
      "text/plain": [
       "'model-10-0.400-0.423-0.839.pt'"
      ]
     },
     "execution_count": 23,
     "metadata": {},
     "output_type": "execute_result"
    }
   ],
   "source": [
    "torch.save(best_model.state_dict(), MPATH + best_name)\n",
    "best_name"
   ]
  },
  {
   "cell_type": "code",
   "execution_count": 24,
   "metadata": {},
   "outputs": [
    {
     "data": {
      "text/plain": [
       "<matplotlib.legend.Legend at 0x7fa9d1621438>"
      ]
     },
     "execution_count": 24,
     "metadata": {},
     "output_type": "execute_result"
    },
    {
     "data": {
      "image/png": "[encoded data removed]",
      "text/plain": [
       "<Figure size 432x288 with 1 Axes>"
      ]
     },
     "metadata": {
      "needs_background": "light"
     },
     "output_type": "display_data"
    }
   ],
   "source": [
    "plt.plot(train_losses, label='Train loss')\n",
    "plt.plot(valid_losses, label='Valid loss')\n",
    "plt.legend(frameon=False)\n",
    "\n",
    "# Time: 5s per epoch\n",
    "# Accuracy: 83.42%"
   ]
  },
  {
   "cell_type": "code",
   "execution_count": 25,
   "metadata": {},
   "outputs": [
    {
     "name": "stdout",
     "output_type": "stream",
     "text": [
      "../models/notebook6/ogling/model-10-0.400-0.423-0.839.pt\n"
     ]
    },
    {
     "data": {
      "text/plain": [
       "IncompatibleKeys(missing_keys=[], unexpected_keys=[])"
      ]
     },
     "execution_count": 25,
     "metadata": {},
     "output_type": "execute_result"
    }
   ],
   "source": [
    "ls = glob(MPATH + '*')\n",
    "ls.sort()\n",
    "filename = ls[-1]\n",
    "print(filename)\n",
    "\n",
    "model = Network(**kw).to(device)\n",
    "\n",
    "model.load_state_dict(torch.load(filename, map_location=device))"
   ]
  },
  {
   "cell_type": "code",
   "execution_count": 26,
   "metadata": {},
   "outputs": [],
   "source": [
    "def predict(sentence):\n",
    "    tokenized = tokenizer(sentence)\n",
    "    indexed = [text_field.vocab.stoi[t] for t in tokenized]\n",
    "    tensor = torch.LongTensor(indexed).to(device)\n",
    "    \n",
    "    print(f'Tokenized: {tokenized}')\n",
    "    print(f'Indexed: {indexed}')\n",
    "    print(f'Tensor ({tensor.shape}): {tensor}')\n",
    "    \n",
    "    tensor = tensor.unsqueeze(0) # as we have used batch_first=True\n",
    "    with torch.no_grad():\n",
    "        model.eval()\n",
    "        fx = model(tensor)\n",
    "\n",
    "    print(f'Tensor w/ batch_size ({tensor.shape}): {tensor}')\n",
    "    print(f'Logit Tensor ({fx.shape}): {fx}')\n",
    "    return torch.sigmoid(fx).item()"
   ]
  },
  {
   "cell_type": "code",
   "execution_count": 34,
   "metadata": {},
   "outputs": [
    {
     "name": "stdout",
     "output_type": "stream",
     "text": [
      "Tokenized: ['i', 'have', 'pry', 'eye', 'on', 'me', 'this', 'morning', 'at', 'the', 'bus', 'station']\n",
      "Indexed: [6, 34, 0, 455, 12, 10, 30, 140, 13, 5, 36, 65]\n",
      "Tensor (torch.Size([12])): tensor([  6,  34,   0, 455,  12,  10,  30, 140,  13,   5,  36,  65],\n",
      "       device='cuda:2')\n",
      "Tensor w/ batch_size (torch.Size([1, 12])): tensor([[  6,  34,   0, 455,  12,  10,  30, 140,  13,   5,  36,  65]],\n",
      "       device='cuda:2')\n",
      "Logit Tensor (torch.Size([1])): tensor([-2.3343], device='cuda:2')\n"
     ]
    },
    {
     "data": {
      "text/plain": [
       "0.08831952512264252"
      ]
     },
     "execution_count": 34,
     "metadata": {},
     "output_type": "execute_result"
    }
   ],
   "source": [
    "predict(\"I had prying eyes on me this morning at the bus station\")"
   ]
  },
  {
   "cell_type": "code",
   "execution_count": 35,
   "metadata": {},
   "outputs": [
    {
     "name": "stdout",
     "output_type": "stream",
     "text": [
      "Tokenized: ['i', 'have', 'a', 'stalker', 'this', 'morning', 'at', 'the', 'bus', 'station']\n",
      "Indexed: [6, 34, 4, 2883, 30, 140, 13, 5, 36, 65]\n",
      "Tensor (torch.Size([10])): tensor([   6,   34,    4, 2883,   30,  140,   13,    5,   36,   65],\n",
      "       device='cuda:2')\n",
      "Tensor w/ batch_size (torch.Size([1, 10])): tensor([[   6,   34,    4, 2883,   30,  140,   13,    5,   36,   65]],\n",
      "       device='cuda:2')\n",
      "Logit Tensor (torch.Size([1])): tensor([-2.6091], device='cuda:2')\n"
     ]
    },
    {
     "data": {
      "text/plain": [
       "0.06855245679616928"
      ]
     },
     "execution_count": 35,
     "metadata": {},
     "output_type": "execute_result"
    }
   ],
   "source": [
    "predict(\"I had a stalker this morning at the bus station\")"
   ]
  },
  {
   "cell_type": "code",
   "execution_count": 36,
   "metadata": {},
   "outputs": [
    {
     "name": "stdout",
     "output_type": "stream",
     "text": [
      "Tokenized: ['this', 'person', 'follow', 'me', 'at', 'night', 'and', 'try', 'to', 'sexually', 'harass', 'me']\n",
      "Indexed: [30, 144, 54, 10, 13, 88, 3, 44, 7, 211, 129, 10]\n",
      "Tensor (torch.Size([12])): tensor([ 30, 144,  54,  10,  13,  88,   3,  44,   7, 211, 129,  10],\n",
      "       device='cuda:2')\n",
      "Tensor w/ batch_size (torch.Size([1, 12])): tensor([[ 30, 144,  54,  10,  13,  88,   3,  44,   7, 211, 129,  10]],\n",
      "       device='cuda:2')\n",
      "Logit Tensor (torch.Size([1])): tensor([-1.9367], device='cuda:2')\n"
     ]
    },
    {
     "data": {
      "text/plain": [
       "0.12601372599601746"
      ]
     },
     "execution_count": 36,
     "metadata": {},
     "output_type": "execute_result"
    }
   ],
   "source": [
    "predict(\"This person followed me at night and tried to sexually harass me\")"
   ]
  },
  {
   "cell_type": "code",
   "execution_count": 37,
   "metadata": {},
   "outputs": [
    {
     "name": "stdout",
     "output_type": "stream",
     "text": [
      "Tokenized: ['there', 'be', 'quite', 'a', 'few', 'people', 'pass', 'lewd', 'remark', 'at', 'a', 'young', 'lady']\n",
      "Indexed: [38, 2, 437, 4, 121, 85, 49, 292, 491, 13, 4, 209, 130]\n",
      "Tensor (torch.Size([13])): tensor([ 38,   2, 437,   4, 121,  85,  49, 292, 491,  13,   4, 209, 130],\n",
      "       device='cuda:2')\n",
      "Tensor w/ batch_size (torch.Size([1, 13])): tensor([[ 38,   2, 437,   4, 121,  85,  49, 292, 491,  13,   4, 209, 130]],\n",
      "       device='cuda:2')\n",
      "Logit Tensor (torch.Size([1])): tensor([-1.9894], device='cuda:2')\n"
     ]
    },
    {
     "data": {
      "text/plain": [
       "0.12032529711723328"
      ]
     },
     "execution_count": 37,
     "metadata": {},
     "output_type": "execute_result"
    }
   ],
   "source": [
    "predict(\"There were quite a few people passing lewd remarks at a young lady\")"
   ]
  },
  {
   "cell_type": "code",
   "execution_count": 38,
   "metadata": {},
   "outputs": [
    {
     "name": "stdout",
     "output_type": "stream",
     "text": [
      "Tokenized: ['the', 'person', 'grab', 'the', 'woman', \"'s\", 'pubis', 'in', 'the', 'park']\n",
      "Indexed: [5, 144, 238, 5, 108, 100, 7053, 8, 5, 220]\n",
      "Tensor (torch.Size([10])): tensor([   5,  144,  238,    5,  108,  100, 7053,    8,    5,  220],\n",
      "       device='cuda:2')\n",
      "Tensor w/ batch_size (torch.Size([1, 10])): tensor([[   5,  144,  238,    5,  108,  100, 7053,    8,    5,  220]],\n",
      "       device='cuda:2')\n",
      "Logit Tensor (torch.Size([1])): tensor([-2.8253], device='cuda:2')\n"
     ]
    },
    {
     "data": {
      "text/plain": [
       "0.05597180873155594"
      ]
     },
     "execution_count": 38,
     "metadata": {},
     "output_type": "execute_result"
    }
   ],
   "source": [
    "predict(\"The person grabbed the woman's pubes in the park\")"
   ]
  }
 ],
 "metadata": {
  "kernelspec": {
   "display_name": "Python 3",
   "language": "python",
   "name": "python3"
  },
  "language_info": {
   "codemirror_mode": {
    "name": "ipython",
    "version": 3
   },
   "file_extension": ".py",
   "mimetype": "text/x-python",
   "name": "python",
   "nbconvert_exporter": "python",
   "pygments_lexer": "ipython3",
   "version": "3.7.3"
  }
 },
 "nbformat": 4,
 "nbformat_minor": 2
}
