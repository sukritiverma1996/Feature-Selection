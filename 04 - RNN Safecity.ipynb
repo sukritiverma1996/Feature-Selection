{
 "cells": [
  {
   "cell_type": "code",
   "execution_count": 1,
   "metadata": {},
   "outputs": [],
   "source": [
    "ROOT = '../'"
   ]
  },
  {
   "cell_type": "code",
   "execution_count": 2,
   "metadata": {},
   "outputs": [],
   "source": [
    "EMBPATH = ROOT + 'data/embeddings/'"
   ]
  },
  {
   "cell_type": "markdown",
   "metadata": {},
   "source": [
    "### Binary - Commenting Dataset"
   ]
  },
  {
   "cell_type": "code",
   "execution_count": 3,
   "metadata": {},
   "outputs": [],
   "source": [
    "DPATH = ROOT + 'data/safecity/binary/commenting/'"
   ]
  },
  {
   "cell_type": "code",
   "execution_count": 4,
   "metadata": {},
   "outputs": [],
   "source": [
    "MPATH = ROOT + 'models/notebook4/commenting/'"
   ]
  },
  {
   "cell_type": "code",
   "execution_count": 5,
   "metadata": {},
   "outputs": [
    {
     "name": "stdout",
     "output_type": "stream",
     "text": [
      "dev.csv  test.csv  train.csv\r\n"
     ]
    }
   ],
   "source": [
    "!ls $DPATH"
   ]
  },
  {
   "cell_type": "code",
   "execution_count": 6,
   "metadata": {},
   "outputs": [],
   "source": [
    "from glob import glob"
   ]
  },
  {
   "cell_type": "code",
   "execution_count": 7,
   "metadata": {},
   "outputs": [
    {
     "data": {
      "text/plain": [
       "('../data/safecity/binary/commenting/dev.csv',\n",
       " '../data/safecity/binary/commenting/test.csv',\n",
       " '../data/safecity/binary/commenting/train.csv')"
      ]
     },
     "execution_count": 7,
     "metadata": {},
     "output_type": "execute_result"
    }
   ],
   "source": [
    "ls = glob(DPATH + '*')\n",
    "ls.sort()\n",
    "devf, testf, trainf = ls\n",
    "\n",
    "(devf, testf, trainf)"
   ]
  },
  {
   "cell_type": "code",
   "execution_count": 8,
   "metadata": {},
   "outputs": [],
   "source": [
    "import pandas as pd"
   ]
  },
  {
   "cell_type": "code",
   "execution_count": 9,
   "metadata": {},
   "outputs": [],
   "source": [
    "df = pd.read_csv(devf)"
   ]
  },
  {
   "cell_type": "code",
   "execution_count": 10,
   "metadata": {},
   "outputs": [
    {
     "data": {
      "text/html": [
       "<div>\n",
       "<style scoped>\n",
       "    .dataframe tbody tr th:only-of-type {\n",
       "        vertical-align: middle;\n",
       "    }\n",
       "\n",
       "    .dataframe tbody tr th {\n",
       "        vertical-align: top;\n",
       "    }\n",
       "\n",
       "    .dataframe thead th {\n",
       "        text-align: right;\n",
       "    }\n",
       "</style>\n",
       "<table border=\"1\" class=\"dataframe\">\n",
       "  <thead>\n",
       "    <tr style=\"text-align: right;\">\n",
       "      <th></th>\n",
       "      <th>Description</th>\n",
       "      <th>Category</th>\n",
       "    </tr>\n",
       "  </thead>\n",
       "  <tbody>\n",
       "    <tr>\n",
       "      <th>0</th>\n",
       "      <td>Buses approaching to this place is highly unsafe.</td>\n",
       "      <td>1</td>\n",
       "    </tr>\n",
       "    <tr>\n",
       "      <th>1</th>\n",
       "      <td>a man was commenting at me.</td>\n",
       "      <td>1</td>\n",
       "    </tr>\n",
       "    <tr>\n",
       "      <th>2</th>\n",
       "      <td>in a share auto</td>\n",
       "      <td>0</td>\n",
       "    </tr>\n",
       "    <tr>\n",
       "      <th>3</th>\n",
       "      <td>I was coming out of a club at night with a few...</td>\n",
       "      <td>1</td>\n",
       "    </tr>\n",
       "  </tbody>\n",
       "</table>\n",
       "</div>"
      ],
      "text/plain": [
       "                                         Description  Category\n",
       "0  Buses approaching to this place is highly unsafe.         1\n",
       "1                        a man was commenting at me.         1\n",
       "2                                    in a share auto         0\n",
       "3  I was coming out of a club at night with a few...         1"
      ]
     },
     "execution_count": 10,
     "metadata": {},
     "output_type": "execute_result"
    }
   ],
   "source": [
    "df.head(4)"
   ]
  },
  {
   "cell_type": "code",
   "execution_count": 11,
   "metadata": {},
   "outputs": [
    {
     "data": {
      "text/plain": [
       "['Buses approaching to this place is highly unsafe.',\n",
       " 'a man was commenting at me.',\n",
       " 'in a share auto',\n",
       " 'I was coming out of a club at night with a few friends when a few guys came and stopped us and asked quotkya rate hai?quot When we shooed them away they kept following us.',\n",
       " 'One of my friends was molested in the crowd. This happened on No 9 bridge of the Thane railway station.']"
      ]
     },
     "execution_count": 11,
     "metadata": {},
     "output_type": "execute_result"
    }
   ],
   "source": [
    "df['Description'].tolist()[:5]"
   ]
  },
  {
   "cell_type": "markdown",
   "metadata": {},
   "source": [
    "### Binary - Groping Dataset"
   ]
  },
  {
   "cell_type": "code",
   "execution_count": 3,
   "metadata": {},
   "outputs": [],
   "source": [
    "DPATH = ROOT + 'data/safecity/binary/groping/'"
   ]
  },
  {
   "cell_type": "code",
   "execution_count": 4,
   "metadata": {},
   "outputs": [],
   "source": [
    "MPATH = ROOT + 'models/notebook4/groping/'"
   ]
  },
  {
   "cell_type": "markdown",
   "metadata": {},
   "source": [
    "### Binary - Ogling Dataset"
   ]
  },
  {
   "cell_type": "code",
   "execution_count": 3,
   "metadata": {},
   "outputs": [],
   "source": [
    "DPATH = ROOT + 'data/safecity/binary/ogling/'"
   ]
  },
  {
   "cell_type": "code",
   "execution_count": 4,
   "metadata": {},
   "outputs": [],
   "source": [
    "MPATH = ROOT + 'models/notebook4/ogling/'"
   ]
  },
  {
   "cell_type": "markdown",
   "metadata": {},
   "source": [
    "### Text Classifier"
   ]
  },
  {
   "cell_type": "code",
   "execution_count": 5,
   "metadata": {},
   "outputs": [],
   "source": [
    "import torch\n",
    "from torch import nn, optim\n",
    "import torch.nn.functional as F\n",
    "from torch.autograd import Variable\n",
    "\n",
    "from torch.nn.utils import clip_grad_norm_\n",
    "from torchtext import data, datasets, vocab\n",
    "\n",
    "from sklearn.metrics import confusion_matrix\n",
    "\n",
    "import random\n",
    "import sys\n",
    "import copy\n",
    "from glob import glob\n",
    "from tqdm import tqdm\n",
    "import numpy as np\n",
    "\n",
    "import matplotlib.pyplot as plt\n",
    "%matplotlib inline"
   ]
  },
  {
   "cell_type": "code",
   "execution_count": 6,
   "metadata": {},
   "outputs": [],
   "source": [
    "BATCH_SIZE = 64\n",
    "CLIP_GRAD_NORM = 5"
   ]
  },
  {
   "cell_type": "code",
   "execution_count": 7,
   "metadata": {},
   "outputs": [
    {
     "data": {
      "text/plain": [
       "4"
      ]
     },
     "execution_count": 7,
     "metadata": {},
     "output_type": "execute_result"
    }
   ],
   "source": [
    "torch.cuda.device_count()"
   ]
  },
  {
   "cell_type": "code",
   "execution_count": 8,
   "metadata": {},
   "outputs": [
    {
     "data": {
      "text/plain": [
       "device(type='cuda', index=2)"
      ]
     },
     "execution_count": 8,
     "metadata": {},
     "output_type": "execute_result"
    }
   ],
   "source": [
    "device = torch.device(\"cuda:2\" if torch.cuda.is_available() else \"cpu\")\n",
    "device"
   ]
  },
  {
   "cell_type": "code",
   "execution_count": 9,
   "metadata": {},
   "outputs": [],
   "source": [
    "import re, string\n",
    "import spacy\n",
    "\n",
    "nlp = spacy.load('en_core_web_sm')\n",
    "punctuation = string.punctuation\n",
    "stopwords = spacy.lang.en.stop_words.STOP_WORDS\n",
    "\n",
    "def cleanup(text):\n",
    "    \"\"\"\n",
    "    Tokenization/text cleaning for all datasets except for SST.\n",
    "    Original taken from https://github.com/yoonkim/CNN_sentence/blob/master/process_data.py\n",
    "    \"\"\"\n",
    "    text = re.sub(r\"[^A-Za-z0-9(),!?\\'\\`]\", \" \", text)\n",
    "    text = re.sub(r\"\\'s\", \" \\'s\", text)\n",
    "    text = re.sub(r\"\\'ve\", \" \\'ve\", text)\n",
    "    text = re.sub(r\"n\\'t\", \" n\\'t\", text)\n",
    "    text = re.sub(r\"\\'re\", \" \\'re\", text)\n",
    "    text = re.sub(r\"\\'d\", \" \\'d\", text)\n",
    "    text = re.sub(r\"\\'ll\", \" \\'ll\", text)\n",
    "    text = re.sub(r\",\", \" , \", text)\n",
    "    text = re.sub(r\"!\", \" ! \", text)\n",
    "    text = re.sub(r\"\\(\", \" \\( \", text)\n",
    "    text = re.sub(r\"\\)\", \" \\) \", text)\n",
    "    text = re.sub(r\"\\?\", \" \\? \", text)\n",
    "    text = re.sub(r\"\\s{2,}\", \" \", text)\n",
    "    return text.strip()\n",
    "\n",
    "def tokenizer(sentence):\n",
    "    sentence = cleanup(sentence) # regex cleanup  \n",
    "    tokens = nlp(sentence, disable=['parser', 'tagger', 'ner']) # tokenizer\n",
    "    tokens = [tok.lemma_.lower().strip() for tok in tokens if tok.lemma_ != '-PRON-'] # lemmatizer\n",
    "    tokens = [tok for tok in tokens if tok not in stopwords and tok not in punctuation] # punctuation/stopword removal\n",
    "    \n",
    "    if not len(tokens):\n",
    "        tokens += ['<pad>']\n",
    "    return tokens"
   ]
  },
  {
   "cell_type": "code",
   "execution_count": 10,
   "metadata": {},
   "outputs": [],
   "source": [
    "text_field = data.Field(batch_first=True, lower=True, tokenize=tokenizer)\n",
    "label_field = data.LabelField(dtype=torch.float)"
   ]
  },
  {
   "cell_type": "code",
   "execution_count": 11,
   "metadata": {},
   "outputs": [
    {
     "name": "stdout",
     "output_type": "stream",
     "text": [
      "Trainset length: 7201\n",
      "Validset length: 990\n",
      "Testset length: 1701\n"
     ]
    }
   ],
   "source": [
    "fields = [('Description', text_field), ('Category', label_field)] # order must be same as cols of csv\n",
    "trainset, validset, testset = data.TabularDataset.splits(\n",
    "                                        path=DPATH,\n",
    "                                        train='train.csv',\n",
    "                                        validation='dev.csv',\n",
    "                                        test='test.csv',\n",
    "                                        format='csv',\n",
    "                                        fields=fields,\n",
    "                                        skip_header=True)\n",
    "\n",
    "print(f'Trainset length: {len(trainset)}')\n",
    "print(f'Validset length: {len(validset)}')\n",
    "print(f'Testset length: {len(testset)}')"
   ]
  },
  {
   "cell_type": "code",
   "execution_count": 12,
   "metadata": {},
   "outputs": [
    {
     "data": {
      "text/plain": [
       "{'Description': ['incident', 'place', 'metro', 'guy', 'start', 'stare'],\n",
       " 'Category': '1'}"
      ]
     },
     "execution_count": 12,
     "metadata": {},
     "output_type": "execute_result"
    }
   ],
   "source": [
    "vars(trainset.examples[1])"
   ]
  },
  {
   "cell_type": "code",
   "execution_count": 13,
   "metadata": {
    "scrolled": true
   },
   "outputs": [],
   "source": [
    "vecs = vocab.Vectors('glove.6B.300d.txt', EMBPATH)\n",
    "\n",
    "text_field.build_vocab(trainset, validset, testset, vectors=vecs) \n",
    "label_field.build_vocab(trainset, validset, testset)"
   ]
  },
  {
   "cell_type": "code",
   "execution_count": 14,
   "metadata": {},
   "outputs": [
    {
     "name": "stdout",
     "output_type": "stream",
     "text": [
      "Train DL length: 113\n",
      "Valid DL length: 16\n",
      "Test DL length: 27\n"
     ]
    }
   ],
   "source": [
    "trainloader, validloader, testloader = data.BucketIterator.splits(\n",
    "                                  (trainset, validset, testset), \n",
    "                                  batch_sizes=[BATCH_SIZE]*3,\n",
    "                                  sort_key=lambda x: len(x.Description),\n",
    "                                  sort_within_batch=True, \n",
    "                                  shuffle=True, \n",
    "                                  repeat=False,\n",
    "                                  device=device)\n",
    "\n",
    "print(f\"Train DL length: {len(trainloader)}\")\n",
    "print(f\"Valid DL length: {len(validloader)}\")\n",
    "print(f\"Test DL length: {len(testloader)}\")"
   ]
  },
  {
   "cell_type": "code",
   "execution_count": 15,
   "metadata": {},
   "outputs": [
    {
     "name": "stdout",
     "output_type": "stream",
     "text": [
      "Number of tokens: 8103\n",
      "Number of classes: 2\n"
     ]
    }
   ],
   "source": [
    "n_tokens = len(text_field.vocab)\n",
    "n_classes = len(label_field.vocab)\n",
    "\n",
    "print(f\"Number of tokens: {n_tokens}\")\n",
    "print(f\"Number of classes: {n_classes}\")"
   ]
  },
  {
   "cell_type": "code",
   "execution_count": 16,
   "metadata": {},
   "outputs": [
    {
     "data": {
      "text/plain": [
       "{'freqs': Counter({'0': 7778, '1': 2114}),\n",
       " 'itos': ['0', '1'],\n",
       " 'stoi': defaultdict(<function torchtext.vocab._default_unk_index()>,\n",
       "             {'0': 0, '1': 1}),\n",
       " 'vectors': None}"
      ]
     },
     "execution_count": 16,
     "metadata": {},
     "output_type": "execute_result"
    }
   ],
   "source": [
    "vars(label_field.vocab)"
   ]
  },
  {
   "cell_type": "code",
   "execution_count": 17,
   "metadata": {},
   "outputs": [
    {
     "data": {
      "text/plain": [
       "torch.Size([8103, 300])"
      ]
     },
     "execution_count": 17,
     "metadata": {},
     "output_type": "execute_result"
    }
   ],
   "source": [
    "text_field.vocab.vectors.shape # n_tokens x embed_dim"
   ]
  },
  {
   "cell_type": "code",
   "execution_count": 18,
   "metadata": {},
   "outputs": [],
   "source": [
    "class RNN(nn.Module):\n",
    "    def __init__(self, vocab_size, embed_dim, hidden_dim, n_layers, output_dim, dropout=0.4):\n",
    "        super().__init__()\n",
    "        \n",
    "        # encoder\n",
    "        self.embedding = nn.Embedding(vocab_size, \n",
    "                                      embed_dim).from_pretrained(\n",
    "                                        text_field.vocab.vectors) # freeze=True by default\n",
    "\n",
    "        # recurrent layers (N stacked)\n",
    "        self.rnn = nn.LSTM(embed_dim, hidden_dim, n_layers,\n",
    "                          dropout=dropout, bidirectional=True, batch_first=True)\n",
    "        \n",
    "        # decoder\n",
    "        self.fc1 = nn.Linear(2*hidden_dim, hidden_dim)\n",
    "        self.relu = nn.ReLU()\n",
    "        self.fc2 = nn.Linear(hidden_dim, output_dim)\n",
    "        \n",
    "        # dropout\n",
    "        self.dropout = nn.Dropout(dropout)\n",
    "\n",
    "    def forward(self, x):\n",
    "        # input x has shape (B, S) which is batch of sentences (sentence is list of word indices)\n",
    "        emb = self.embedding(x) \n",
    "        emb = self.dropout(emb)\n",
    "        # encoded input emb has shape (B, S, E)\n",
    "        \n",
    "        out, hidden = self.rnn(emb)\n",
    "        # out.shape = (B, S, 2H)\n",
    "\n",
    "        out = self.fc1(out[:, -1, :]) # decode the output of last time step (many-to-one), (B, 2H) to (B, H) to (B, 1)\n",
    "        out = self.fc2(self.relu(self.dropout(out)))\n",
    "\n",
    "        return out.squeeze(1) # out.shape = (B)"
   ]
  },
  {
   "cell_type": "code",
   "execution_count": 19,
   "metadata": {},
   "outputs": [
    {
     "data": {
      "text/plain": [
       "(8103, 300)"
      ]
     },
     "execution_count": 19,
     "metadata": {},
     "output_type": "execute_result"
    }
   ],
   "source": [
    "n_tokens, embed_dim = text_field.vocab.vectors.shape\n",
    "(n_tokens, embed_dim)"
   ]
  },
  {
   "cell_type": "code",
   "execution_count": 20,
   "metadata": {},
   "outputs": [
    {
     "data": {
      "text/plain": [
       "RNN(\n",
       "  (embedding): Embedding(8103, 300)\n",
       "  (rnn): LSTM(300, 100, num_layers=2, batch_first=True, dropout=0.4, bidirectional=True)\n",
       "  (fc1): Linear(in_features=200, out_features=100, bias=True)\n",
       "  (relu): ReLU()\n",
       "  (fc2): Linear(in_features=100, out_features=1, bias=True)\n",
       "  (dropout): Dropout(p=0.4)\n",
       ")"
      ]
     },
     "execution_count": 20,
     "metadata": {},
     "output_type": "execute_result"
    }
   ],
   "source": [
    "kw = {\n",
    "    'vocab_size': n_tokens,\n",
    "    'embed_dim': embed_dim,\n",
    "    'hidden_dim': 100,\n",
    "    'n_layers': 2,\n",
    "    'output_dim': 1\n",
    "}\n",
    "model = RNN(**kw)\n",
    "\n",
    "model.to(device)"
   ]
  },
  {
   "cell_type": "code",
   "execution_count": 21,
   "metadata": {},
   "outputs": [],
   "source": [
    "criterion = nn.BCEWithLogitsLoss()\n",
    "optimizer = optim.RMSprop(model.parameters(), lr=1e-4, eps=1e-4, alpha=0.95, momentum=0.9, centered=True)\n",
    "\n",
    "def accuracy(fx, y):\n",
    "    ps = torch.sigmoid(fx)\n",
    "    preds = torch.round(ps)\n",
    "    return confusion_matrix(y.cpu().detach().view(-1), preds.cpu().detach().view(-1))"
   ]
  },
  {
   "cell_type": "code",
   "execution_count": 22,
   "metadata": {},
   "outputs": [],
   "source": [
    "def train(model, iterator, criterion, optimizer, others=False):\n",
    "    model.train()\n",
    "    epoch_loss, epoch_acc = 0, 0\n",
    "\n",
    "    for batch in iterator:\n",
    "        x, y = batch.Description.to(device), batch.Category.to(device)\n",
    "                \n",
    "        fx = model(x)        \n",
    "        loss = criterion(fx, y)\n",
    "        optimizer.zero_grad()\n",
    "        loss.backward()\n",
    "        clip_grad_norm_(model.parameters(), CLIP_GRAD_NORM)\n",
    "        optimizer.step()\n",
    "        \n",
    "        epoch_acc += accuracy(fx, y)\n",
    "        epoch_loss += loss.item()\n",
    "    \n",
    "    epoch_loss /= len(iterator)\n",
    "    \n",
    "    tn, fp, fn, tp = epoch_acc.ravel()\n",
    "    acc = (tp + tn)/(tp + tn + fp + fn)\n",
    "    if others is False:\n",
    "        return epoch_loss, acc\n",
    "\n",
    "    prec = tp/(tp + fp)\n",
    "    rec = tp/(tp + fn)\n",
    "    f1 = 2*tp/(2*tp + fp + fn)\n",
    "    return epoch_loss, acc, prec, rec, f1 "
   ]
  },
  {
   "cell_type": "code",
   "execution_count": 23,
   "metadata": {},
   "outputs": [],
   "source": [
    "def evaluate(model, iterator, criterion, others=False):\n",
    "    model.eval()\n",
    "    epoch_loss, epoch_acc = 0, 0\n",
    "    \n",
    "    with torch.no_grad():\n",
    "        for batch in iterator:\n",
    "            x, y = batch.Description.to(device), batch.Category.to(device)\n",
    "            \n",
    "            fx = model(x)\n",
    "            loss = criterion(fx, y)\n",
    "            \n",
    "            epoch_acc += accuracy(fx, y)\n",
    "            epoch_loss += loss.item()\n",
    "\n",
    "    epoch_loss /= len(iterator)\n",
    "    \n",
    "    tn, fp, fn, tp = epoch_acc.ravel()\n",
    "    acc = (tp + tn)/(tp + tn + fp + fn)\n",
    "    if others is False:\n",
    "        return epoch_loss, acc\n",
    "\n",
    "    prec = tp/(tp + fp)\n",
    "    rec = tp/(tp + fn)\n",
    "    f1 = 2*tp/(2*tp + fp + fn)\n",
    "    return epoch_loss, acc, prec, rec, f1 "
   ]
  },
  {
   "cell_type": "code",
   "execution_count": 24,
   "metadata": {},
   "outputs": [],
   "source": [
    "best_model = RNN(**kw).to(device)\n",
    "best_name = None"
   ]
  },
  {
   "cell_type": "markdown",
   "metadata": {},
   "source": [
    "### Commenting"
   ]
  },
  {
   "cell_type": "code",
   "execution_count": 32,
   "metadata": {},
   "outputs": [
    {
     "name": "stdout",
     "output_type": "stream",
     "text": [
      "Epoch: 01/30... | Train Loss: 0.5983 | Valid Loss: 0.4903 | Train Acc: 0.6898 | Valid Acc: 0.7768\n",
      "Epoch: 02/30... | Train Loss: 0.4924 | Valid Loss: 0.4786 | Train Acc: 0.7829 | Valid Acc: 0.7909\n",
      "Epoch: 03/30... | Train Loss: 0.4734 | Valid Loss: 0.4797 | Train Acc: 0.7949 | Valid Acc: 0.7980\n",
      "Epoch: 04/30... | Train Loss: 0.4638 | Valid Loss: 0.4618 | Train Acc: 0.8041 | Valid Acc: 0.8051\n",
      "Epoch: 05/30... | Train Loss: 0.4586 | Valid Loss: 0.4572 | Train Acc: 0.8003 | Valid Acc: 0.8051\n",
      "Epoch: 06/30... | Train Loss: 0.4429 | Valid Loss: 0.4543 | Train Acc: 0.8132 | Valid Acc: 0.8081\n",
      "Epoch: 07/30... | Train Loss: 0.4318 | Valid Loss: 0.4535 | Train Acc: 0.8166 | Valid Acc: 0.8020\n",
      "Epoch: 08/30... | Train Loss: 0.4293 | Valid Loss: 0.4532 | Train Acc: 0.8163 | Valid Acc: 0.8071\n",
      "Epoch: 09/30... | Train Loss: 0.4239 | Valid Loss: 0.4588 | Train Acc: 0.8204 | Valid Acc: 0.7990\n",
      "Epoch: 10/30... | Train Loss: 0.4157 | Valid Loss: 0.4565 | Train Acc: 0.8266 | Valid Acc: 0.8030\n",
      "Epoch: 11/30... | Train Loss: 0.4088 | Valid Loss: 0.4525 | Train Acc: 0.8278 | Valid Acc: 0.8111\n",
      "Epoch: 12/30... | Train Loss: 0.4038 | Valid Loss: 0.4598 | Train Acc: 0.8306 | Valid Acc: 0.8040\n",
      "Epoch: 13/30... | Train Loss: 0.3915 | Valid Loss: 0.4745 | Train Acc: 0.8341 | Valid Acc: 0.8061\n",
      "Epoch: 14/30... | Train Loss: 0.3821 | Valid Loss: 0.4652 | Train Acc: 0.8317 | Valid Acc: 0.8111\n",
      "Epoch: 15/30... | Train Loss: 0.3791 | Valid Loss: 0.4611 | Train Acc: 0.8420 | Valid Acc: 0.8141\n",
      "Epoch: 16/30... | Train Loss: 0.3648 | Valid Loss: 0.4751 | Train Acc: 0.8488 | Valid Acc: 0.8010\n",
      "Epoch: 17/30... | Train Loss: 0.3548 | Valid Loss: 0.4917 | Train Acc: 0.8515 | Valid Acc: 0.8071\n",
      "Epoch: 18/30... | Train Loss: 0.3462 | Valid Loss: 0.4870 | Train Acc: 0.8529 | Valid Acc: 0.7939\n",
      "Epoch: 19/30... | Train Loss: 0.3453 | Valid Loss: 0.5269 | Train Acc: 0.8549 | Valid Acc: 0.8040\n",
      "Epoch: 20/30... | Train Loss: 0.3358 | Valid Loss: 0.4995 | Train Acc: 0.8613 | Valid Acc: 0.7939\n",
      "Epoch: 21/30... | Train Loss: 0.3269 | Valid Loss: 0.5289 | Train Acc: 0.8624 | Valid Acc: 0.8010\n",
      "Epoch: 22/30... | Train Loss: 0.3073 | Valid Loss: 0.5303 | Train Acc: 0.8696 | Valid Acc: 0.7990\n",
      "Epoch: 23/30... | Train Loss: 0.3119 | Valid Loss: 0.5222 | Train Acc: 0.8699 | Valid Acc: 0.8010\n",
      "Epoch: 24/30... | Train Loss: 0.3004 | Valid Loss: 0.5960 | Train Acc: 0.8728 | Valid Acc: 0.7949\n",
      "Epoch: 25/30... | Train Loss: 0.2903 | Valid Loss: 0.5482 | Train Acc: 0.8767 | Valid Acc: 0.7919\n",
      "Epoch: 26/30... | Train Loss: 0.2938 | Valid Loss: 0.5448 | Train Acc: 0.8775 | Valid Acc: 0.7970\n",
      "Epoch: 27/30... | Train Loss: 0.2742 | Valid Loss: 0.5691 | Train Acc: 0.8838 | Valid Acc: 0.7889\n",
      "Epoch: 28/30... | Train Loss: 0.2648 | Valid Loss: 0.6104 | Train Acc: 0.8899 | Valid Acc: 0.8040\n",
      "Epoch: 29/30... | Train Loss: 0.2628 | Valid Loss: 0.5972 | Train Acc: 0.8893 | Valid Acc: 0.7566\n",
      "Epoch: 30/30... | Train Loss: 0.2449 | Valid Loss: 0.6524 | Train Acc: 0.8940 | Valid Acc: 0.7768\n",
      "Done\n",
      "\n",
      "Valid: Loss 0.4611 | Acc 0.8141 | Prec 0.8162 | Rec 0.7129 | F1 0.7610\n",
      "Test : Loss 0.4668 | Acc 0.8107 | Prec 0.8097 | Rec 0.6636 | F1 0.7294\n"
     ]
    }
   ],
   "source": [
    "EPOCHS = 30\n",
    "best_valid_acc = 0\n",
    "\n",
    "train_losses = []\n",
    "valid_losses = []\n",
    "\n",
    "for e in range(1, EPOCHS + 1):\n",
    "    train_loss, train_acc = train(model, trainloader, criterion, optimizer)\n",
    "    valid_loss, valid_acc = evaluate(model, validloader, criterion)\n",
    "\n",
    "    # model progress\n",
    "    print(f\"Epoch: {e:02}/{EPOCHS}... \"\n",
    "          f\"| Train Loss: {train_loss:.4f} \"\n",
    "          f\"| Valid Loss: {valid_loss:.4f} \"\n",
    "          f\"| Train Acc: {train_acc:.4f} \"\n",
    "          f\"| Valid Acc: {valid_acc:.4f}\")\n",
    "    \n",
    "    if best_valid_acc < valid_acc:\n",
    "        best_valid_acc = valid_acc\n",
    "\n",
    "        filename = f'model-{e:02}-{train_loss:.3f}-{valid_loss:.3f}-{valid_acc:.3f}.pt'\n",
    "#         torch.save(model.state_dict(), MPATH + filename)\n",
    "        \n",
    "        best_model.load_state_dict(model.state_dict())\n",
    "        best_name = filename\n",
    "    \n",
    "    # for model complexity graph\n",
    "    train_losses.append(train_loss)\n",
    "    valid_losses.append(valid_loss)\n",
    "\n",
    "print('Done\\n')\n",
    "vl, vacc, vprec, vrec, vf1 = evaluate(best_model, validloader, criterion, others=True)\n",
    "print(f'Valid: Loss {vl:.4f} | Acc {vacc:.4f} | Prec {vprec:.4f} | Rec {vrec:.4f} | F1 {vf1:.4f}')\n",
    "tl, tacc, tprec, trec, tf1 = evaluate(best_model, testloader, criterion, others=True)\n",
    "print(f'Test : Loss {tl:.4f} | Acc {tacc:.4f} | Prec {tprec:.4f} | Rec {trec:.4f} | F1 {tf1:.4f}')"
   ]
  },
  {
   "cell_type": "code",
   "execution_count": 33,
   "metadata": {},
   "outputs": [
    {
     "data": {
      "text/plain": [
       "'model-15-0.379-0.461-0.814.pt'"
      ]
     },
     "execution_count": 33,
     "metadata": {},
     "output_type": "execute_result"
    }
   ],
   "source": [
    "torch.save(best_model.state_dict(), MPATH + best_name)\n",
    "best_name"
   ]
  },
  {
   "cell_type": "code",
   "execution_count": 34,
   "metadata": {},
   "outputs": [
    {
     "data": {
      "text/plain": [
       "<matplotlib.legend.Legend at 0x7fdc0c613ef0>"
      ]
     },
     "execution_count": 34,
     "metadata": {},
     "output_type": "execute_result"
    },
    {
     "data": {
      "image/png": "[encoded data removed]",
      "text/plain": [
       "<Figure size 432x288 with 1 Axes>"
      ]
     },
     "metadata": {
      "needs_background": "light"
     },
     "output_type": "display_data"
    }
   ],
   "source": [
    "plt.plot(train_losses, label='Train loss')\n",
    "plt.plot(valid_losses, label='Valid loss')\n",
    "plt.legend(frameon=False)\n",
    "\n",
    "# Time: 5s per epoch\n",
    "# Accuracy: 81.1%"
   ]
  },
  {
   "cell_type": "code",
   "execution_count": 15,
   "metadata": {},
   "outputs": [
    {
     "name": "stdout",
     "output_type": "stream",
     "text": [
      "../models/notebook4/commenting/model-15-0.379-0.461-0.814.pt\n"
     ]
    },
    {
     "data": {
      "text/plain": [
       "IncompatibleKeys(missing_keys=[], unexpected_keys=[])"
      ]
     },
     "execution_count": 15,
     "metadata": {},
     "output_type": "execute_result"
    }
   ],
   "source": [
    "ls = glob(MPATH + '*')\n",
    "ls.sort()\n",
    "filename = ls[-1]\n",
    "print(filename)\n",
    "\n",
    "model = RNN(**kw).to(device)\n",
    "\n",
    "model.load_state_dict(torch.load(filename, map_location=device))"
   ]
  },
  {
   "cell_type": "code",
   "execution_count": 16,
   "metadata": {},
   "outputs": [],
   "source": [
    "def predict(sentence):\n",
    "    tokenized = tokenizer(sentence)\n",
    "    indexed = [text_field.vocab.stoi[t] for t in tokenized]\n",
    "    tensor = torch.LongTensor(indexed).to(device)\n",
    "    \n",
    "    print(f'Tokenized: {tokenized}')\n",
    "    print(f'Indexed: {indexed}')\n",
    "    print(f'Tensor ({tensor.shape}): {tensor}')\n",
    "    \n",
    "    tensor = tensor.unsqueeze(0) # as we have used batch_first=True\n",
    "    with torch.no_grad():\n",
    "        model.eval()\n",
    "        fx = model(tensor)\n",
    "\n",
    "    print(f'Tensor w/ batch_size ({tensor.shape}): {tensor}')\n",
    "    print(f'Logit Tensor ({fx.shape}): {fx}')\n",
    "    return torch.sigmoid(fx).item()"
   ]
  },
  {
   "cell_type": "code",
   "execution_count": 19,
   "metadata": {},
   "outputs": [
    {
     "name": "stdout",
     "output_type": "stream",
     "text": [
      "Tokenized: ['pry', 'eye', 'morning', 'bus', 'station']\n",
      "Indexed: [0, 313, 70, 9, 21]\n",
      "Tensor (torch.Size([5])): tensor([  0, 313,  70,   9,  21], device='cuda:2')\n",
      "Tensor w/ batch_size (torch.Size([1, 5])): tensor([[  0, 313,  70,   9,  21]], device='cuda:2')\n",
      "Logit Tensor (torch.Size([1])): tensor([-1.0014], device='cuda:2')\n"
     ]
    },
    {
     "data": {
      "text/plain": [
       "0.26866769790649414"
      ]
     },
     "execution_count": 19,
     "metadata": {},
     "output_type": "execute_result"
    }
   ],
   "source": [
    "predict(\"I had prying eyes on me this morning at the bus station\")"
   ]
  },
  {
   "cell_type": "code",
   "execution_count": 20,
   "metadata": {},
   "outputs": [
    {
     "name": "stdout",
     "output_type": "stream",
     "text": [
      "Tokenized: ['stalker', 'morning', 'bus', 'station']\n",
      "Indexed: [2639, 70, 9, 21]\n",
      "Tensor (torch.Size([4])): tensor([2639,   70,    9,   21], device='cuda:2')\n",
      "Tensor w/ batch_size (torch.Size([1, 4])): tensor([[2639,   70,    9,   21]], device='cuda:2')\n",
      "Logit Tensor (torch.Size([1])): tensor([-1.1449], device='cuda:2')\n"
     ]
    },
    {
     "data": {
      "text/plain": [
       "0.24142007529735565"
      ]
     },
     "execution_count": 20,
     "metadata": {},
     "output_type": "execute_result"
    }
   ],
   "source": [
    "predict(\"I had a stalker this morning at the bus station\")"
   ]
  },
  {
   "cell_type": "code",
   "execution_count": 21,
   "metadata": {},
   "outputs": [
    {
     "name": "stdout",
     "output_type": "stream",
     "text": [
      "Tokenized: ['person', 'follow', 'night', 'try', 'sexually', 'harass']\n",
      "Indexed: [72, 16, 35, 13, 118, 65]\n",
      "Tensor (torch.Size([6])): tensor([ 72,  16,  35,  13, 118,  65], device='cuda:2')\n",
      "Tensor w/ batch_size (torch.Size([1, 6])): tensor([[ 72,  16,  35,  13, 118,  65]], device='cuda:2')\n",
      "Logit Tensor (torch.Size([1])): tensor([-0.8172], device='cuda:2')\n"
     ]
    },
    {
     "data": {
      "text/plain": [
       "0.3063642382621765"
      ]
     },
     "execution_count": 21,
     "metadata": {},
     "output_type": "execute_result"
    }
   ],
   "source": [
    "predict(\"This person followed me at night and tried to sexually harass me\")"
   ]
  },
  {
   "cell_type": "code",
   "execution_count": 22,
   "metadata": {},
   "outputs": [
    {
     "name": "stdout",
     "output_type": "stream",
     "text": [
      "Tokenized: ['people', 'pass', 'lewd', 'remark', 'young', 'lady']\n",
      "Indexed: [32, 14, 178, 347, 116, 66]\n",
      "Tensor (torch.Size([6])): tensor([ 32,  14, 178, 347, 116,  66], device='cuda:2')\n",
      "Tensor w/ batch_size (torch.Size([1, 6])): tensor([[ 32,  14, 178, 347, 116,  66]], device='cuda:2')\n",
      "Logit Tensor (torch.Size([1])): tensor([1.9482], device='cuda:2')\n"
     ]
    },
    {
     "data": {
      "text/plain": [
       "0.8752530217170715"
      ]
     },
     "execution_count": 22,
     "metadata": {},
     "output_type": "execute_result"
    }
   ],
   "source": [
    "predict(\"There were quite a few people passing lewd remarks at a young lady\")"
   ]
  },
  {
   "cell_type": "code",
   "execution_count": 23,
   "metadata": {},
   "outputs": [
    {
     "name": "stdout",
     "output_type": "stream",
     "text": [
      "Tokenized: ['person', 'grab', 'woman', \"'s\", 'pubis', 'park']\n",
      "Indexed: [72, 140, 50, 44, 6789, 124]\n",
      "Tensor (torch.Size([6])): tensor([  72,  140,   50,   44, 6789,  124], device='cuda:2')\n",
      "Tensor w/ batch_size (torch.Size([1, 6])): tensor([[  72,  140,   50,   44, 6789,  124]], device='cuda:2')\n",
      "Logit Tensor (torch.Size([1])): tensor([-3.2842], device='cuda:2')\n"
     ]
    },
    {
     "data": {
      "text/plain": [
       "0.03611721098423004"
      ]
     },
     "execution_count": 23,
     "metadata": {},
     "output_type": "execute_result"
    }
   ],
   "source": [
    "predict(\"The person grabbed the woman's pubes in the park\")"
   ]
  },
  {
   "cell_type": "markdown",
   "metadata": {},
   "source": [
    "### Groping"
   ]
  },
  {
   "cell_type": "code",
   "execution_count": 25,
   "metadata": {},
   "outputs": [
    {
     "name": "stdout",
     "output_type": "stream",
     "text": [
      "Epoch: 01/30... | Train Loss: 0.5377 | Valid Loss: 0.4312 | Train Acc: 0.7453 | Valid Acc: 0.8152\n",
      "Epoch: 02/30... | Train Loss: 0.3965 | Valid Loss: 0.3805 | Train Acc: 0.8406 | Valid Acc: 0.8566\n",
      "Epoch: 03/30... | Train Loss: 0.3803 | Valid Loss: 0.3844 | Train Acc: 0.8525 | Valid Acc: 0.8586\n",
      "Epoch: 04/30... | Train Loss: 0.3638 | Valid Loss: 0.3713 | Train Acc: 0.8588 | Valid Acc: 0.8505\n",
      "Epoch: 05/30... | Train Loss: 0.3619 | Valid Loss: 0.3805 | Train Acc: 0.8582 | Valid Acc: 0.8374\n",
      "Epoch: 06/30... | Train Loss: 0.3385 | Valid Loss: 0.3646 | Train Acc: 0.8684 | Valid Acc: 0.8485\n",
      "Epoch: 07/30... | Train Loss: 0.3381 | Valid Loss: 0.3700 | Train Acc: 0.8685 | Valid Acc: 0.8545\n",
      "Epoch: 08/30... | Train Loss: 0.3296 | Valid Loss: 0.3606 | Train Acc: 0.8722 | Valid Acc: 0.8596\n",
      "Epoch: 09/30... | Train Loss: 0.3106 | Valid Loss: 0.3555 | Train Acc: 0.8786 | Valid Acc: 0.8535\n",
      "Epoch: 10/30... | Train Loss: 0.3109 | Valid Loss: 0.3525 | Train Acc: 0.8814 | Valid Acc: 0.8586\n",
      "Epoch: 11/30... | Train Loss: 0.3088 | Valid Loss: 0.4071 | Train Acc: 0.8815 | Valid Acc: 0.8455\n",
      "Epoch: 12/30... | Train Loss: 0.3005 | Valid Loss: 0.3628 | Train Acc: 0.8863 | Valid Acc: 0.8475\n",
      "Epoch: 13/30... | Train Loss: 0.2877 | Valid Loss: 0.3541 | Train Acc: 0.8882 | Valid Acc: 0.8566\n",
      "Epoch: 14/30... | Train Loss: 0.2742 | Valid Loss: 0.3554 | Train Acc: 0.8920 | Valid Acc: 0.8525\n",
      "Epoch: 15/30... | Train Loss: 0.2737 | Valid Loss: 0.3613 | Train Acc: 0.8933 | Valid Acc: 0.8586\n",
      "Epoch: 16/30... | Train Loss: 0.2716 | Valid Loss: 0.3620 | Train Acc: 0.8952 | Valid Acc: 0.8606\n",
      "Epoch: 17/30... | Train Loss: 0.2567 | Valid Loss: 0.3696 | Train Acc: 0.8986 | Valid Acc: 0.8535\n",
      "Epoch: 18/30... | Train Loss: 0.2462 | Valid Loss: 0.3965 | Train Acc: 0.9038 | Valid Acc: 0.8626\n",
      "Epoch: 19/30... | Train Loss: 0.2363 | Valid Loss: 0.3783 | Train Acc: 0.9072 | Valid Acc: 0.8576\n",
      "Epoch: 20/30... | Train Loss: 0.2334 | Valid Loss: 0.4090 | Train Acc: 0.9054 | Valid Acc: 0.8545\n",
      "Epoch: 21/30... | Train Loss: 0.2333 | Valid Loss: 0.3746 | Train Acc: 0.9058 | Valid Acc: 0.8586\n",
      "Epoch: 22/30... | Train Loss: 0.2285 | Valid Loss: 0.4058 | Train Acc: 0.9127 | Valid Acc: 0.8566\n",
      "Epoch: 23/30... | Train Loss: 0.2243 | Valid Loss: 0.3828 | Train Acc: 0.9110 | Valid Acc: 0.8576\n",
      "Epoch: 24/30... | Train Loss: 0.2107 | Valid Loss: 0.3926 | Train Acc: 0.9163 | Valid Acc: 0.8586\n",
      "Epoch: 25/30... | Train Loss: 0.1973 | Valid Loss: 0.4059 | Train Acc: 0.9204 | Valid Acc: 0.8566\n",
      "Epoch: 26/30... | Train Loss: 0.1987 | Valid Loss: 0.4070 | Train Acc: 0.9208 | Valid Acc: 0.8586\n",
      "Epoch: 27/30... | Train Loss: 0.1848 | Valid Loss: 0.3953 | Train Acc: 0.9240 | Valid Acc: 0.8535\n",
      "Epoch: 28/30... | Train Loss: 0.1862 | Valid Loss: 0.4310 | Train Acc: 0.9254 | Valid Acc: 0.8606\n",
      "Epoch: 29/30... | Train Loss: 0.1852 | Valid Loss: 0.4442 | Train Acc: 0.9274 | Valid Acc: 0.8414\n",
      "Epoch: 30/30... | Train Loss: 0.1816 | Valid Loss: 0.4354 | Train Acc: 0.9276 | Valid Acc: 0.8414\n",
      "Done\n",
      "\n",
      "Valid: Loss 0.3965 | Acc 0.8626 | Prec 0.8074 | Rec 0.6888 | F1 0.7434\n",
      "Test : Loss 0.3970 | Acc 0.8654 | Prec 0.8190 | Rec 0.7238 | F1 0.7685\n"
     ]
    }
   ],
   "source": [
    "EPOCHS = 30\n",
    "best_valid_acc = 0\n",
    "\n",
    "train_losses = []\n",
    "valid_losses = []\n",
    "\n",
    "for e in range(1, EPOCHS + 1):\n",
    "    train_loss, train_acc = train(model, trainloader, criterion, optimizer)\n",
    "    valid_loss, valid_acc = evaluate(model, validloader, criterion)\n",
    "\n",
    "    # model progress\n",
    "    print(f\"Epoch: {e:02}/{EPOCHS}... \"\n",
    "          f\"| Train Loss: {train_loss:.4f} \"\n",
    "          f\"| Valid Loss: {valid_loss:.4f} \"\n",
    "          f\"| Train Acc: {train_acc:.4f} \"\n",
    "          f\"| Valid Acc: {valid_acc:.4f}\")\n",
    "    \n",
    "    if best_valid_acc < valid_acc:\n",
    "        best_valid_acc = valid_acc\n",
    "\n",
    "        filename = f'model-{e:02}-{train_loss:.3f}-{valid_loss:.3f}-{valid_acc:.3f}.pt'\n",
    "#         torch.save(model.state_dict(), MPATH + filename)\n",
    "        \n",
    "        best_model.load_state_dict(model.state_dict())\n",
    "        best_name = filename\n",
    "    \n",
    "    # for model complexity graph\n",
    "    train_losses.append(train_loss)\n",
    "    valid_losses.append(valid_loss)\n",
    "\n",
    "print('Done\\n')\n",
    "vl, vacc, vprec, vrec, vf1 = evaluate(best_model, validloader, criterion, others=True)\n",
    "print(f'Valid: Loss {vl:.4f} | Acc {vacc:.4f} | Prec {vprec:.4f} | Rec {vrec:.4f} | F1 {vf1:.4f}')\n",
    "tl, tacc, tprec, trec, tf1 = evaluate(best_model, testloader, criterion, others=True)\n",
    "print(f'Test : Loss {tl:.4f} | Acc {tacc:.4f} | Prec {tprec:.4f} | Rec {trec:.4f} | F1 {tf1:.4f}')"
   ]
  },
  {
   "cell_type": "code",
   "execution_count": 26,
   "metadata": {},
   "outputs": [
    {
     "data": {
      "text/plain": [
       "'model-18-0.246-0.396-0.863.pt'"
      ]
     },
     "execution_count": 26,
     "metadata": {},
     "output_type": "execute_result"
    }
   ],
   "source": [
    "torch.save(best_model.state_dict(), MPATH + best_name)\n",
    "best_name"
   ]
  },
  {
   "cell_type": "code",
   "execution_count": 27,
   "metadata": {},
   "outputs": [
    {
     "data": {
      "text/plain": [
       "<matplotlib.legend.Legend at 0x7f1133529f28>"
      ]
     },
     "execution_count": 27,
     "metadata": {},
     "output_type": "execute_result"
    },
    {
     "data": {
      "image/png": "[encoded data removed]",
      "text/plain": [
       "<Figure size 432x288 with 1 Axes>"
      ]
     },
     "metadata": {
      "needs_background": "light"
     },
     "output_type": "display_data"
    }
   ],
   "source": [
    "plt.plot(train_losses, label='Train loss')\n",
    "plt.plot(valid_losses, label='Valid loss')\n",
    "plt.legend(frameon=False)\n",
    "\n",
    "# Time: 5s per epoch\n",
    "# Accuracy: 86.5%"
   ]
  },
  {
   "cell_type": "code",
   "execution_count": 18,
   "metadata": {},
   "outputs": [
    {
     "name": "stdout",
     "output_type": "stream",
     "text": [
      "../models/notebook4/groping/model-18-0.246-0.396-0.863.pt\n"
     ]
    },
    {
     "data": {
      "text/plain": [
       "IncompatibleKeys(missing_keys=[], unexpected_keys=[])"
      ]
     },
     "execution_count": 18,
     "metadata": {},
     "output_type": "execute_result"
    }
   ],
   "source": [
    "ls = glob(MPATH + '*')\n",
    "ls.sort()\n",
    "filename = ls[-1]\n",
    "print(filename)\n",
    "\n",
    "model = RNN(**kw).to(device)\n",
    "\n",
    "model.load_state_dict(torch.load(filename, map_location=device))"
   ]
  },
  {
   "cell_type": "code",
   "execution_count": 19,
   "metadata": {},
   "outputs": [],
   "source": [
    "def predict(sentence):\n",
    "    tokenized = tokenizer(sentence)\n",
    "    indexed = [text_field.vocab.stoi[t] for t in tokenized]\n",
    "    tensor = torch.LongTensor(indexed).to(device)\n",
    "    \n",
    "    print(f'Tokenized: {tokenized}')\n",
    "    print(f'Indexed: {indexed}')\n",
    "    print(f'Tensor ({tensor.shape}): {tensor}')\n",
    "    \n",
    "    tensor = tensor.unsqueeze(0) # as we have used batch_first=True\n",
    "    with torch.no_grad():\n",
    "        model.eval()\n",
    "        fx = model(tensor)\n",
    "\n",
    "    print(f'Tensor w/ batch_size ({tensor.shape}): {tensor}')\n",
    "    print(f'Logit Tensor ({fx.shape}): {fx}')\n",
    "    return torch.sigmoid(fx).item()"
   ]
  },
  {
   "cell_type": "code",
   "execution_count": 20,
   "metadata": {},
   "outputs": [
    {
     "name": "stdout",
     "output_type": "stream",
     "text": [
      "Tokenized: ['pry', 'eye', 'morning', 'bus', 'station']\n",
      "Indexed: [0, 313, 70, 9, 21]\n",
      "Tensor (torch.Size([5])): tensor([  0, 313,  70,   9,  21], device='cuda:2')\n",
      "Tensor w/ batch_size (torch.Size([1, 5])): tensor([[  0, 313,  70,   9,  21]], device='cuda:2')\n",
      "Logit Tensor (torch.Size([1])): tensor([-2.9401], device='cuda:2')\n"
     ]
    },
    {
     "data": {
      "text/plain": [
       "0.050208836793899536"
      ]
     },
     "execution_count": 20,
     "metadata": {},
     "output_type": "execute_result"
    }
   ],
   "source": [
    "predict(\"I had prying eyes on me this morning at the bus station\")"
   ]
  },
  {
   "cell_type": "code",
   "execution_count": 22,
   "metadata": {},
   "outputs": [
    {
     "name": "stdout",
     "output_type": "stream",
     "text": [
      "Tokenized: ['stalker', 'morning', 'bus', 'station']\n",
      "Indexed: [2639, 70, 9, 21]\n",
      "Tensor (torch.Size([4])): tensor([2639,   70,    9,   21], device='cuda:2')\n",
      "Tensor w/ batch_size (torch.Size([1, 4])): tensor([[2639,   70,    9,   21]], device='cuda:2')\n",
      "Logit Tensor (torch.Size([1])): tensor([0.1587], device='cuda:2')\n"
     ]
    },
    {
     "data": {
      "text/plain": [
       "0.5395882725715637"
      ]
     },
     "execution_count": 22,
     "metadata": {},
     "output_type": "execute_result"
    }
   ],
   "source": [
    "predict(\"I had a stalker this morning at the bus station\")"
   ]
  },
  {
   "cell_type": "code",
   "execution_count": 23,
   "metadata": {},
   "outputs": [
    {
     "name": "stdout",
     "output_type": "stream",
     "text": [
      "Tokenized: ['person', 'follow', 'night', 'try', 'sexually', 'harass']\n",
      "Indexed: [72, 16, 35, 13, 118, 65]\n",
      "Tensor (torch.Size([6])): tensor([ 72,  16,  35,  13, 118,  65], device='cuda:2')\n",
      "Tensor w/ batch_size (torch.Size([1, 6])): tensor([[ 72,  16,  35,  13, 118,  65]], device='cuda:2')\n",
      "Logit Tensor (torch.Size([1])): tensor([0.9875], device='cuda:2')\n"
     ]
    },
    {
     "data": {
      "text/plain": [
       "0.7286012768745422"
      ]
     },
     "execution_count": 23,
     "metadata": {},
     "output_type": "execute_result"
    }
   ],
   "source": [
    "predict(\"This person followed me at night and tried to sexually harass me\")"
   ]
  },
  {
   "cell_type": "code",
   "execution_count": 24,
   "metadata": {},
   "outputs": [
    {
     "name": "stdout",
     "output_type": "stream",
     "text": [
      "Tokenized: ['people', 'pass', 'lewd', 'remark', 'young', 'lady']\n",
      "Indexed: [32, 14, 178, 347, 116, 66]\n",
      "Tensor (torch.Size([6])): tensor([ 32,  14, 178, 347, 116,  66], device='cuda:2')\n",
      "Tensor w/ batch_size (torch.Size([1, 6])): tensor([[ 32,  14, 178, 347, 116,  66]], device='cuda:2')\n",
      "Logit Tensor (torch.Size([1])): tensor([-5.9214], device='cuda:2')\n"
     ]
    },
    {
     "data": {
      "text/plain": [
       "0.002674328163266182"
      ]
     },
     "execution_count": 24,
     "metadata": {},
     "output_type": "execute_result"
    }
   ],
   "source": [
    "predict(\"There were quite a few people passing lewd remarks at a young lady\")"
   ]
  },
  {
   "cell_type": "code",
   "execution_count": 25,
   "metadata": {},
   "outputs": [
    {
     "name": "stdout",
     "output_type": "stream",
     "text": [
      "Tokenized: ['person', 'grab', 'woman', \"'s\", 'pubis', 'park']\n",
      "Indexed: [72, 140, 50, 44, 6789, 124]\n",
      "Tensor (torch.Size([6])): tensor([  72,  140,   50,   44, 6789,  124], device='cuda:2')\n",
      "Tensor w/ batch_size (torch.Size([1, 6])): tensor([[  72,  140,   50,   44, 6789,  124]], device='cuda:2')\n",
      "Logit Tensor (torch.Size([1])): tensor([4.7070], device='cuda:2')\n"
     ]
    },
    {
     "data": {
      "text/plain": [
       "0.9910492897033691"
      ]
     },
     "execution_count": 25,
     "metadata": {},
     "output_type": "execute_result"
    }
   ],
   "source": [
    "predict(\"The person grabbed the woman's pubes in the park\")"
   ]
  },
  {
   "cell_type": "markdown",
   "metadata": {},
   "source": [
    "### Ogling"
   ]
  },
  {
   "cell_type": "code",
   "execution_count": 25,
   "metadata": {},
   "outputs": [
    {
     "name": "stdout",
     "output_type": "stream",
     "text": [
      "Epoch: 01/30... | Train Loss: 0.5207 | Valid Loss: 0.4595 | Train Acc: 0.7860 | Valid Acc: 0.8071\n",
      "Epoch: 02/30... | Train Loss: 0.4551 | Valid Loss: 0.4310 | Train Acc: 0.8209 | Valid Acc: 0.8273\n",
      "Epoch: 03/30... | Train Loss: 0.4510 | Valid Loss: 0.4288 | Train Acc: 0.8213 | Valid Acc: 0.8333\n",
      "Epoch: 04/30... | Train Loss: 0.4324 | Valid Loss: 0.4245 | Train Acc: 0.8307 | Valid Acc: 0.8364\n",
      "Epoch: 05/30... | Train Loss: 0.4240 | Valid Loss: 0.4948 | Train Acc: 0.8334 | Valid Acc: 0.8030\n",
      "Epoch: 06/30... | Train Loss: 0.4274 | Valid Loss: 0.4245 | Train Acc: 0.8266 | Valid Acc: 0.8364\n",
      "Epoch: 07/30... | Train Loss: 0.4097 | Valid Loss: 0.4318 | Train Acc: 0.8368 | Valid Acc: 0.8343\n",
      "Epoch: 08/30... | Train Loss: 0.3981 | Valid Loss: 0.4187 | Train Acc: 0.8384 | Valid Acc: 0.8374\n",
      "Epoch: 09/30... | Train Loss: 0.3926 | Valid Loss: 0.4354 | Train Acc: 0.8404 | Valid Acc: 0.8293\n",
      "Epoch: 10/30... | Train Loss: 0.3902 | Valid Loss: 0.4211 | Train Acc: 0.8400 | Valid Acc: 0.8364\n",
      "Epoch: 11/30... | Train Loss: 0.3761 | Valid Loss: 0.4293 | Train Acc: 0.8427 | Valid Acc: 0.8323\n",
      "Epoch: 12/30... | Train Loss: 0.3733 | Valid Loss: 0.4251 | Train Acc: 0.8478 | Valid Acc: 0.8374\n",
      "Epoch: 13/30... | Train Loss: 0.3635 | Valid Loss: 0.4424 | Train Acc: 0.8499 | Valid Acc: 0.8323\n",
      "Epoch: 14/30... | Train Loss: 0.3583 | Valid Loss: 0.4661 | Train Acc: 0.8532 | Valid Acc: 0.8283\n",
      "Epoch: 15/30... | Train Loss: 0.3570 | Valid Loss: 0.4521 | Train Acc: 0.8511 | Valid Acc: 0.8303\n",
      "Epoch: 16/30... | Train Loss: 0.3478 | Valid Loss: 0.4330 | Train Acc: 0.8556 | Valid Acc: 0.8384\n",
      "Epoch: 17/30... | Train Loss: 0.3408 | Valid Loss: 0.4634 | Train Acc: 0.8563 | Valid Acc: 0.8404\n",
      "Epoch: 18/30... | Train Loss: 0.3360 | Valid Loss: 0.4691 | Train Acc: 0.8603 | Valid Acc: 0.8384\n",
      "Epoch: 19/30... | Train Loss: 0.3164 | Valid Loss: 0.4673 | Train Acc: 0.8647 | Valid Acc: 0.8323\n",
      "Epoch: 20/30... | Train Loss: 0.3053 | Valid Loss: 0.4911 | Train Acc: 0.8725 | Valid Acc: 0.8343\n",
      "Epoch: 21/30... | Train Loss: 0.3018 | Valid Loss: 0.4892 | Train Acc: 0.8684 | Valid Acc: 0.8212\n",
      "Epoch: 22/30... | Train Loss: 0.2965 | Valid Loss: 0.4881 | Train Acc: 0.8742 | Valid Acc: 0.8091\n",
      "Epoch: 23/30... | Train Loss: 0.2863 | Valid Loss: 0.4834 | Train Acc: 0.8807 | Valid Acc: 0.8202\n",
      "Epoch: 24/30... | Train Loss: 0.2789 | Valid Loss: 0.4927 | Train Acc: 0.8832 | Valid Acc: 0.8222\n",
      "Epoch: 25/30... | Train Loss: 0.2667 | Valid Loss: 0.4728 | Train Acc: 0.8868 | Valid Acc: 0.8192\n",
      "Epoch: 26/30... | Train Loss: 0.2580 | Valid Loss: 0.5236 | Train Acc: 0.8910 | Valid Acc: 0.8091\n",
      "Epoch: 27/30... | Train Loss: 0.2493 | Valid Loss: 0.5317 | Train Acc: 0.8904 | Valid Acc: 0.8131\n",
      "Epoch: 28/30... | Train Loss: 0.2412 | Valid Loss: 0.5606 | Train Acc: 0.8970 | Valid Acc: 0.8000\n",
      "Epoch: 29/30... | Train Loss: 0.2346 | Valid Loss: 0.5259 | Train Acc: 0.9004 | Valid Acc: 0.8172\n",
      "Epoch: 30/30... | Train Loss: 0.2457 | Valid Loss: 0.5364 | Train Acc: 0.8940 | Valid Acc: 0.8131\n",
      "Done\n",
      "\n",
      "Valid: Loss 0.4634 | Acc 0.8404 | Prec 0.7391 | Rec 0.3991 | F1 0.5183\n",
      "Test : Loss 0.4884 | Acc 0.8313 | Prec 0.7683 | Rec 0.3360 | F1 0.4675\n"
     ]
    }
   ],
   "source": [
    "EPOCHS = 30\n",
    "best_valid_acc = 0\n",
    "\n",
    "train_losses = []\n",
    "valid_losses = []\n",
    "\n",
    "for e in range(1, EPOCHS + 1):\n",
    "    train_loss, train_acc = train(model, trainloader, criterion, optimizer)\n",
    "    valid_loss, valid_acc = evaluate(model, validloader, criterion)\n",
    "\n",
    "    # model progress\n",
    "    print(f\"Epoch: {e:02}/{EPOCHS}... \"\n",
    "          f\"| Train Loss: {train_loss:.4f} \"\n",
    "          f\"| Valid Loss: {valid_loss:.4f} \"\n",
    "          f\"| Train Acc: {train_acc:.4f} \"\n",
    "          f\"| Valid Acc: {valid_acc:.4f}\")\n",
    "    \n",
    "    if best_valid_acc < valid_acc:\n",
    "        best_valid_acc = valid_acc\n",
    "\n",
    "        filename = f'model-{e:02}-{train_loss:.3f}-{valid_loss:.3f}-{valid_acc:.3f}.pt'\n",
    "#         torch.save(model.state_dict(), MPATH + filename)\n",
    "        \n",
    "        best_model.load_state_dict(model.state_dict())\n",
    "        best_name = filename\n",
    "    \n",
    "    # for model complexity graph\n",
    "    train_losses.append(train_loss)\n",
    "    valid_losses.append(valid_loss)\n",
    "\n",
    "print('Done\\n')\n",
    "vl, vacc, vprec, vrec, vf1 = evaluate(best_model, validloader, criterion, others=True)\n",
    "print(f'Valid: Loss {vl:.4f} | Acc {vacc:.4f} | Prec {vprec:.4f} | Rec {vrec:.4f} | F1 {vf1:.4f}')\n",
    "tl, tacc, tprec, trec, tf1 = evaluate(best_model, testloader, criterion, others=True)\n",
    "print(f'Test : Loss {tl:.4f} | Acc {tacc:.4f} | Prec {tprec:.4f} | Rec {trec:.4f} | F1 {tf1:.4f}')"
   ]
  },
  {
   "cell_type": "code",
   "execution_count": 26,
   "metadata": {},
   "outputs": [
    {
     "data": {
      "text/plain": [
       "'model-17-0.341-0.463-0.840.pt'"
      ]
     },
     "execution_count": 26,
     "metadata": {},
     "output_type": "execute_result"
    }
   ],
   "source": [
    "torch.save(best_model.state_dict(), MPATH + best_name)\n",
    "best_name"
   ]
  },
  {
   "cell_type": "code",
   "execution_count": 27,
   "metadata": {},
   "outputs": [
    {
     "data": {
      "text/plain": [
       "<matplotlib.legend.Legend at 0x7f042d0739e8>"
      ]
     },
     "execution_count": 27,
     "metadata": {},
     "output_type": "execute_result"
    },
    {
     "data": {
      "image/png": "[encoded data removed]",
      "text/plain": [
       "<Figure size 432x288 with 1 Axes>"
      ]
     },
     "metadata": {
      "needs_background": "light"
     },
     "output_type": "display_data"
    }
   ],
   "source": [
    "plt.plot(train_losses, label='Train loss')\n",
    "plt.plot(valid_losses, label='Valid loss')\n",
    "plt.legend(frameon=False)\n",
    "\n",
    "# Time: 5s per epoch\n",
    "# Accuracy: 83.1%"
   ]
  },
  {
   "cell_type": "code",
   "execution_count": 21,
   "metadata": {},
   "outputs": [
    {
     "name": "stdout",
     "output_type": "stream",
     "text": [
      "../models/notebook4/ogling/model-17-0.341-0.463-0.840.pt\n"
     ]
    },
    {
     "data": {
      "text/plain": [
       "IncompatibleKeys(missing_keys=[], unexpected_keys=[])"
      ]
     },
     "execution_count": 21,
     "metadata": {},
     "output_type": "execute_result"
    }
   ],
   "source": [
    "ls = glob(MPATH + '*')\n",
    "ls.sort()\n",
    "filename = ls[-1]\n",
    "print(filename)\n",
    "\n",
    "model = RNN(**kw).to(device)\n",
    "\n",
    "model.load_state_dict(torch.load(filename, map_location=device))"
   ]
  },
  {
   "cell_type": "code",
   "execution_count": 22,
   "metadata": {},
   "outputs": [],
   "source": [
    "def predict(sentence):\n",
    "    tokenized = tokenizer(sentence)\n",
    "    indexed = [text_field.vocab.stoi[t] for t in tokenized]\n",
    "    tensor = torch.LongTensor(indexed).to(device)\n",
    "    \n",
    "    print(f'Tokenized: {tokenized}')\n",
    "    print(f'Indexed: {indexed}')\n",
    "    print(f'Tensor ({tensor.shape}): {tensor}')\n",
    "    \n",
    "    tensor = tensor.unsqueeze(0) # as we have used batch_first=True\n",
    "    with torch.no_grad():\n",
    "        model.eval()\n",
    "        fx = model(tensor)\n",
    "\n",
    "    print(f'Tensor w/ batch_size ({tensor.shape}): {tensor}')\n",
    "    print(f'Logit Tensor ({fx.shape}): {fx}')\n",
    "    return torch.sigmoid(fx).item()"
   ]
  },
  {
   "cell_type": "code",
   "execution_count": 23,
   "metadata": {},
   "outputs": [
    {
     "name": "stdout",
     "output_type": "stream",
     "text": [
      "Tokenized: ['pry', 'eye', 'morning', 'bus', 'station']\n",
      "Indexed: [0, 313, 70, 9, 21]\n",
      "Tensor (torch.Size([5])): tensor([  0, 313,  70,   9,  21], device='cuda:2')\n",
      "Tensor w/ batch_size (torch.Size([1, 5])): tensor([[  0, 313,  70,   9,  21]], device='cuda:2')\n",
      "Logit Tensor (torch.Size([1])): tensor([-0.4233], device='cuda:2')\n"
     ]
    },
    {
     "data": {
      "text/plain": [
       "0.3957330286502838"
      ]
     },
     "execution_count": 23,
     "metadata": {},
     "output_type": "execute_result"
    }
   ],
   "source": [
    "predict(\"I had prying eyes on me this morning at the bus station\")"
   ]
  },
  {
   "cell_type": "code",
   "execution_count": 24,
   "metadata": {},
   "outputs": [
    {
     "name": "stdout",
     "output_type": "stream",
     "text": [
      "Tokenized: ['stalker', 'morning', 'bus', 'station']\n",
      "Indexed: [2639, 70, 9, 21]\n",
      "Tensor (torch.Size([4])): tensor([2639,   70,    9,   21], device='cuda:2')\n",
      "Tensor w/ batch_size (torch.Size([1, 4])): tensor([[2639,   70,    9,   21]], device='cuda:2')\n",
      "Logit Tensor (torch.Size([1])): tensor([-2.0518], device='cuda:2')\n"
     ]
    },
    {
     "data": {
      "text/plain": [
       "0.1138712614774704"
      ]
     },
     "execution_count": 24,
     "metadata": {},
     "output_type": "execute_result"
    }
   ],
   "source": [
    "predict(\"I had a stalker this morning at the bus station\")"
   ]
  },
  {
   "cell_type": "code",
   "execution_count": 25,
   "metadata": {},
   "outputs": [
    {
     "name": "stdout",
     "output_type": "stream",
     "text": [
      "Tokenized: ['person', 'follow', 'night', 'try', 'sexually', 'harass']\n",
      "Indexed: [72, 16, 35, 13, 118, 65]\n",
      "Tensor (torch.Size([6])): tensor([ 72,  16,  35,  13, 118,  65], device='cuda:2')\n",
      "Tensor w/ batch_size (torch.Size([1, 6])): tensor([[ 72,  16,  35,  13, 118,  65]], device='cuda:2')\n",
      "Logit Tensor (torch.Size([1])): tensor([-1.8613], device='cuda:2')\n"
     ]
    },
    {
     "data": {
      "text/plain": [
       "0.13455316424369812"
      ]
     },
     "execution_count": 25,
     "metadata": {},
     "output_type": "execute_result"
    }
   ],
   "source": [
    "predict(\"This person followed me at night and tried to sexually harass me\")"
   ]
  },
  {
   "cell_type": "code",
   "execution_count": 26,
   "metadata": {},
   "outputs": [
    {
     "name": "stdout",
     "output_type": "stream",
     "text": [
      "Tokenized: ['people', 'pass', 'lewd', 'remark', 'young', 'lady']\n",
      "Indexed: [32, 14, 178, 347, 116, 66]\n",
      "Tensor (torch.Size([6])): tensor([ 32,  14, 178, 347, 116,  66], device='cuda:2')\n",
      "Tensor w/ batch_size (torch.Size([1, 6])): tensor([[ 32,  14, 178, 347, 116,  66]], device='cuda:2')\n",
      "Logit Tensor (torch.Size([1])): tensor([-3.5714], device='cuda:2')\n"
     ]
    },
    {
     "data": {
      "text/plain": [
       "0.027346407994627953"
      ]
     },
     "execution_count": 26,
     "metadata": {},
     "output_type": "execute_result"
    }
   ],
   "source": [
    "predict(\"There were quite a few people passing lewd remarks at a young lady\")"
   ]
  },
  {
   "cell_type": "code",
   "execution_count": 27,
   "metadata": {},
   "outputs": [
    {
     "name": "stdout",
     "output_type": "stream",
     "text": [
      "Tokenized: ['person', 'grab', 'woman', \"'s\", 'pubis', 'park']\n",
      "Indexed: [72, 140, 50, 44, 6789, 124]\n",
      "Tensor (torch.Size([6])): tensor([  72,  140,   50,   44, 6789,  124], device='cuda:2')\n",
      "Tensor w/ batch_size (torch.Size([1, 6])): tensor([[  72,  140,   50,   44, 6789,  124]], device='cuda:2')\n",
      "Logit Tensor (torch.Size([1])): tensor([-5.2345], device='cuda:2')\n"
     ]
    },
    {
     "data": {
      "text/plain": [
       "0.005301336757838726"
      ]
     },
     "execution_count": 27,
     "metadata": {},
     "output_type": "execute_result"
    }
   ],
   "source": [
    "predict(\"The person grabbed the woman's pubes in the park\")"
   ]
  }
 ],
 "metadata": {
  "kernelspec": {
   "display_name": "Python 3",
   "language": "python",
   "name": "python3"
  },
  "language_info": {
   "codemirror_mode": {
    "name": "ipython",
    "version": 3
   },
   "file_extension": ".py",
   "mimetype": "text/x-python",
   "name": "python",
   "nbconvert_exporter": "python",
   "pygments_lexer": "ipython3",
   "version": "3.7.3"
  }
 },
 "nbformat": 4,
 "nbformat_minor": 2
}
